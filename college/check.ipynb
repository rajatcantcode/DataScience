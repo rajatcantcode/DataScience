{
 "cells": [
  {
   "cell_type": "code",
   "execution_count": 2,
   "metadata": {},
   "outputs": [
    {
     "name": "stdout",
     "output_type": "stream",
     "text": [
      "Wow Your name is:  asdfasfd\n"
     ]
    },
    {
     "ename": "ValueError",
     "evalue": "invalid literal for int() with base 10: 'asdfad'",
     "output_type": "error",
     "traceback": [
      "\u001b[0;31m---------------------------------------------------------------------------\u001b[0m",
      "\u001b[0;31mValueError\u001b[0m                                Traceback (most recent call last)",
      "Cell \u001b[0;32mIn[2], line 8\u001b[0m\n\u001b[1;32m      5\u001b[0m \u001b[38;5;28mprint\u001b[39m(\u001b[38;5;124m\"\u001b[39m\u001b[38;5;124mWow Your name is: \u001b[39m\u001b[38;5;124m\"\u001b[39m, name)\n\u001b[1;32m      7\u001b[0m \u001b[38;5;66;03m#2. Product of three numbers and display what's the maximum number and minimum number\u001b[39;00m\n\u001b[0;32m----> 8\u001b[0m num1 \u001b[38;5;241m=\u001b[39m \u001b[38;5;28;43mint\u001b[39;49m\u001b[43m(\u001b[49m\u001b[38;5;28;43minput\u001b[39;49m\u001b[43m(\u001b[49m\u001b[38;5;124;43m\"\u001b[39;49m\u001b[38;5;124;43mEnter first number: \u001b[39;49m\u001b[38;5;124;43m\"\u001b[39;49m\u001b[43m)\u001b[49m\u001b[43m)\u001b[49m\n\u001b[1;32m      9\u001b[0m num2 \u001b[38;5;241m=\u001b[39m \u001b[38;5;28mint\u001b[39m(\u001b[38;5;28minput\u001b[39m(\u001b[38;5;124m\"\u001b[39m\u001b[38;5;124mEnter second number: \u001b[39m\u001b[38;5;124m\"\u001b[39m))\n\u001b[1;32m     10\u001b[0m num3 \u001b[38;5;241m=\u001b[39m \u001b[38;5;28mint\u001b[39m(\u001b[38;5;28minput\u001b[39m(\u001b[38;5;124m\"\u001b[39m\u001b[38;5;124mEnter third number: \u001b[39m\u001b[38;5;124m\"\u001b[39m))\n",
      "\u001b[0;31mValueError\u001b[0m: invalid literal for int() with base 10: 'asdfad'"
     ]
    }
   ],
   "source": [
    "# Assignment for College\n",
    "\n",
    "# 1. Write a program to take input from the user and display the output \n",
    "name = input(\"Enter your name:\")\n",
    "print(\"Wow Your name is: \", name)\n",
    "\n",
    "#2. Product of three numbers and display what's the maximum number and minimum number\n",
    "num1 = int(input(\"Enter first number: \"))\n",
    "num2 = int(input(\"Enter second number: \"))\n",
    "num3 = int(input(\"Enter third number: \"))\n",
    "product = num1 * num2 * num3\n",
    "print(product)\n",
    "print(\"Maximum number is: \", max(num1, num2, num3))\n",
    "print(\"Minimum number is: \", min(num1, num2, num3))\n",
    "\n",
    "\n",
    "\n",
    "name=input(\"Enter your name: \")\n",
    "age=input(\"Enter your age: \")\n",
    "marks=input(\"Enter your marks: \")\n",
    "isPass=input(\"Are you pass? \")\n",
    "address=input(\"Enter your address: \")\n",
    "\n",
    "print(\"Name: \", str(name),\n",
    "      \" Age: \", int(age),\n",
    "      \" Marks: \", float(marks), \n",
    "      \" isPass: \", bool(isPass), \" Address: \", str(address))\n",
    "\n"
   ]
  },
  {
   "cell_type": "code",
   "execution_count": 3,
   "metadata": {},
   "outputs": [
    {
     "name": "stdout",
     "output_type": "stream",
     "text": [
      "Simple Interest is:  60000.0\n"
     ]
    }
   ],
   "source": [
    "\n",
    "# Quest 1\n",
    "value = input(\"\")\n",
    "print(type(value))\n",
    "\n",
    "\n",
    "\n",
    "# Question 2\n",
    "p = float(input(\"\"))\n",
    "r = float(input(\"\"))\n",
    "t = float(input(\"\"))\n",
    "si = (p * r * t) / 100\n",
    "print(si)\n",
    "print(type(si))\n",
    "print(type(si))\n",
    "print(type(si))\n"
   ]
  },
  {
   "cell_type": "code",
   "execution_count": 2,
   "metadata": {},
   "outputs": [
    {
     "name": "stdout",
     "output_type": "stream",
     "text": [
      "True\n",
      "True\n",
      "False\n",
      "False\n",
      "True\n",
      "False\n",
      "True\n",
      "False\n",
      "False\n",
      "4\n",
      "76\n"
     ]
    }
   ],
   "source": [
    "# OR (|) Operator: Returns True if at least one operand is True\n",
    "print(True | False)  # Output: True (one True)\n",
    "print(True | True)   # Output: True (both True)\n",
    "print(False | False) # Output: False (both False)\n",
    "\n",
    "# AND (&&) Operator: Returns True if both operands are True\n",
    "print(True and False)  # Output: False (one False)\n",
    "print(True and True)   # Output: True (both True)\n",
    "print(False and False) # Output: False (both False)\n",
    "\n",
    "# XOR (^) Operator: Returns True if only one operand is True\n",
    "print(True ^ False)  # Output: True (one True)\n",
    "print(True ^ True)   # Output: False (both True)\n",
    "print(False ^ False) # Output: False (both False)\n",
    "\n"
   ]
  }
 ],
 "metadata": {
  "kernelspec": {
   "display_name": "Python 3",
   "language": "python",
   "name": "python3"
  },
  "language_info": {
   "codemirror_mode": {
    "name": "ipython",
    "version": 3
   },
   "file_extension": ".py",
   "mimetype": "text/x-python",
   "name": "python",
   "nbconvert_exporter": "python",
   "pygments_lexer": "ipython3",
   "version": "3.10.14"
  }
 },
 "nbformat": 4,
 "nbformat_minor": 2
}
