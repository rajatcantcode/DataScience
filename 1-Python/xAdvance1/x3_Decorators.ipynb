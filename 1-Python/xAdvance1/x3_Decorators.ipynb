{
 "cells": [
  {
   "cell_type": "markdown",
   "metadata": {},
   "source": [
    "Decorators are a powerful tool in Python to modify or extend the behavior of functions or methods.\n",
    "They are commonly used to add functionality to functions or methods without modifying their actual code.\n",
    "\n",
    "Before understanding Decorators it's essential to know about copy function & closures"
   ]
  },
  {
   "cell_type": "code",
   "execution_count": 2,
   "metadata": {},
   "outputs": [
    {
     "name": "stdout",
     "output_type": "stream",
     "text": [
      "Hello Rajat\n",
      "Hello Rajat\n"
     ]
    }
   ],
   "source": [
    "# Function Copy\n",
    "def sayHello():\n",
    "    print(\"Hello Rajat\")\n",
    "\n",
    "# Function Copy\n",
    "x = sayHello\n",
    "x()\n",
    "\n",
    "# Deleting the original function sayHello\n",
    "del sayHello\n",
    "x()"
   ]
  },
  {
   "cell_type": "code",
   "execution_count": 9,
   "metadata": {},
   "outputs": [
    {
     "name": "stdout",
     "output_type": "stream",
     "text": [
      "Hi Rajat ! Closures touch up\n"
     ]
    }
   ],
   "source": [
    "#Closures refer to a function that returns another function and accesses variables from its parent function.\n",
    "def outerFunction(msg):\n",
    "    message = msg\n",
    "    def innerFunction():\n",
    "        print(message+\" Closures touch up\")\n",
    "    return innerFunction\n",
    "\n",
    "result = outerFunction(\"Hi Rajat !\")\n",
    "result()"
   ]
  },
  {
   "cell_type": "code",
   "execution_count": 22,
   "metadata": {},
   "outputs": [
    {
     "name": "stdout",
     "output_type": "stream",
     "text": [
      "Wrapper executed this line before 'sayHelloToRajat' function\n",
      "Hi Rajat\n",
      "Wrapper executed this line before 'sayHelloToRajat' function\n",
      "Hi Rajat\n"
     ]
    }
   ],
   "source": [
    "# Decorators - modify or extend the behavior of functions or methods without changing their definition.\n",
    "def decoratorFunction(originalFunction):\n",
    "    def wrapperFunction():\n",
    "        print(f\"Wrapper executed this line before '{originalFunction.__name__}' function\")\n",
    "        return originalFunction()\n",
    "    return wrapperFunction\n",
    "\n",
    "def sayHelloToRajat():\n",
    "    print(\"Hi Rajat\")\n",
    "\n",
    "# Way 1 \n",
    "decoratedDisplay = decoratorFunction(sayHelloToRajat)\n",
    "decoratedDisplay()\n",
    "\n",
    "print(\"------------------\")\n",
    "\n",
    "# Way 2\n",
    "@decoratorFunction\n",
    "def sayHelloToRajat():\n",
    "    print(\"Hi Rajat\")\n",
    "x = sayHelloToRajat\n",
    "x()\n"
   ]
  },
  {
   "cell_type": "code",
   "execution_count": null,
   "metadata": {},
   "outputs": [],
   "source": []
  },
  {
   "cell_type": "code",
   "execution_count": 19,
   "metadata": {},
   "outputs": [
    {
     "name": "stdout",
     "output_type": "stream",
     "text": [
      "Wrapper executed this line before 'sayHelloToRajat' function\n",
      "Hi Rajat\n",
      "None\n"
     ]
    }
   ],
   "source": [
    "def decoratorFunction(originalFunction):\n",
    "    def wrapperFunction(*args, **kwargs):\n",
    "        print(f\"Wrapper executed this line before '{originalFunction.__name__}' function\")\n",
    "        return originalFunction(*args, **kwargs)\n",
    "    return wrapperFunction\n",
    "\n",
    "@decoratorFunction\n",
    "def sayHelloToRajat(name):\n",
    "    print(f\"Hi {name}\")\n",
    "\n",
    "x = sayHelloToRajat(\"Rajat\")\n",
    "print(x)\n"
   ]
  }
 ],
 "metadata": {
  "kernelspec": {
   "display_name": "Python 3",
   "language": "python",
   "name": "python3"
  },
  "language_info": {
   "codemirror_mode": {
    "name": "ipython",
    "version": 3
   },
   "file_extension": ".py",
   "mimetype": "text/x-python",
   "name": "python",
   "nbconvert_exporter": "python",
   "pygments_lexer": "ipython3",
   "version": "3.10.14"
  }
 },
 "nbformat": 4,
 "nbformat_minor": 2
}
