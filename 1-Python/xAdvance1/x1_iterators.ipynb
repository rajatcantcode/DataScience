{
 "cells": [
  {
   "cell_type": "markdown",
   "metadata": {},
   "source": [
    "Iterators are advanced concepts that allow for efficient looping and efficient memory management.    \n",
    "Iterators provide a way to iterate over a sequence of elements without having to store them all simultaneously in memory."
   ]
  },
  {
   "cell_type": "code",
   "execution_count": 22,
   "metadata": {},
   "outputs": [
    {
     "name": "stdout",
     "output_type": "stream",
     "text": [
      "<class 'list'>\n",
      "<class 'list_iterator'>\n",
      "<list_iterator object at 0x105bc9900>\n"
     ]
    }
   ],
   "source": [
    "# Iterator is an object that contains a countable number of values and we need to \n",
    "# use 'iter()' and 'next()' methods to iterate through the values.\n",
    "\n",
    "myList = [1,2,3,4,5,6]\n",
    "print(type(myList))\n",
    "myIter = iter(myList) # converting list to iterator\n",
    "print(type(myIter))\n",
    "print(myIter) # <list_iterator object at 0x7f8b3b3b3b50> - memory location\n"
   ]
  },
  {
   "cell_type": "code",
   "execution_count": 53,
   "metadata": {},
   "outputs": [
    {
     "name": "stdout",
     "output_type": "stream",
     "text": [
      "Apologies End of the list\n"
     ]
    }
   ],
   "source": [
    "# Trying to get the next item after the end of the iterator\n",
    "try:\n",
    "    print(next(myIter)) # 1\n",
    "    print(next(myIter)) # 2\n",
    "    print(next(myIter)) # 3\n",
    "    print(next(myIter)) # 4\n",
    "    print(next(myIter)) # 5\n",
    "    print(next(myIter)) # 6\n",
    "    print(next(myIter)) # error\n",
    "except StopIteration:\n",
    "    print(\"Apologies End of the list\")"
   ]
  },
  {
   "cell_type": "code",
   "execution_count": 50,
   "metadata": {},
   "outputs": [
    {
     "name": "stdout",
     "output_type": "stream",
     "text": [
      "H\n",
      "e\n",
      "l\n",
      "l\n",
      "o\n",
      " End of the word\n"
     ]
    }
   ],
   "source": [
    "# String iterator\n",
    "myString = \"Hello\"\n",
    "myStrIter = iter(myString)\n",
    "\n",
    "try:\n",
    "    print(next(myStrIter))  # H\n",
    "    print(next(myStrIter))  # e\n",
    "    print(next(myStrIter))  # l\n",
    "    print(next(myStrIter))  # l\n",
    "    print(next(myStrIter))  # o\n",
    "    # Attempting to go beyond the last character will raise StopIteration\n",
    "    print(next(myStrIter))  # This will raise StopIteration\n",
    "except StopIteration:\n",
    "    print(\"Simba! End of the word\")\n"
   ]
  }
 ],
 "metadata": {
  "kernelspec": {
   "display_name": "Python 3",
   "language": "python",
   "name": "python3"
  },
  "language_info": {
   "codemirror_mode": {
    "name": "ipython",
    "version": 3
   },
   "file_extension": ".py",
   "mimetype": "text/x-python",
   "name": "python",
   "nbconvert_exporter": "python",
   "pygments_lexer": "ipython3",
   "version": "3.10.14"
  }
 },
 "nbformat": 4,
 "nbformat_minor": 2
}
