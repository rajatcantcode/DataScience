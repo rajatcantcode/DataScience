{
 "cells": [
  {
   "cell_type": "markdown",
   "metadata": {},
   "source": [
    "## Processes that Run in Parallel\n",
    "\n",
    "- **CPU-Bound Tasks**: These are tasks that require a lot of processing power from the CPU (Central Processing Unit). Examples include complex mathematical computations or processing large amounts of data. These tasks use the CPU heavily and can be slow if run one after another.\n",
    "\n",
    "- **Parallel Execution**: This means running multiple tasks at the same time. If your computer has multiple CPU cores (like multiple small \"brains\" in the CPU), each core can handle a different task simultaneously. This makes CPU-bound tasks faster by dividing the work across multiple cores."
   ]
  },
  {
   "cell_type": "code",
   "execution_count": 8,
   "metadata": {},
   "outputs": [
    {
     "name": "stdout",
     "output_type": "stream",
     "text": [
      "Time taken: 0.050241708755493164\n"
     ]
    },
    {
     "name": "stderr",
     "output_type": "stream",
     "text": [
      "Traceback (most recent call last):\n",
      "  File \"<string>\", line 1, in <module>\n",
      "Traceback (most recent call last):\n",
      "  File \"<string>\", line 1, in <module>\n",
      "  File \"/Users/rajatsharma/Documents/MachineLearning/MachineLearning-myCode/venv/lib/python3.10/multiprocessing/spawn.py\", line 116, in spawn_main\n",
      "  File \"/Users/rajatsharma/Documents/MachineLearning/MachineLearning-myCode/venv/lib/python3.10/multiprocessing/spawn.py\", line 116, in spawn_main\n",
      "    exitcode = _main(fd, parent_sentinel)\n",
      "  File \"/Users/rajatsharma/Documents/MachineLearning/MachineLearning-myCode/venv/lib/python3.10/multiprocessing/spawn.py\", line 126, in _main\n",
      "    exitcode = _main(fd, parent_sentinel)\n",
      "  File \"/Users/rajatsharma/Documents/MachineLearning/MachineLearning-myCode/venv/lib/python3.10/multiprocessing/spawn.py\", line 126, in _main\n",
      "    self = reduction.pickle.load(from_parent)\n",
      "    AttributeErrorself = reduction.pickle.load(from_parent): Can't get attribute 'square_numbers' on <module '__main__' (built-in)>\n",
      "\n",
      "AttributeError: Can't get attribute 'cube_numbers' on <module '__main__' (built-in)>\n"
     ]
    }
   ],
   "source": [
    "# Code is not working in Jupyter notebook\n",
    "# cd \"1-Python/xx👑MultiThreadingAndMultiProcessing/Practical_Implementation\"\n",
    "# python x3_MultiProcessing.py\n",
    "\n",
    "import multiprocessing\n",
    "import time\n",
    "\n",
    "def square_numbers():\n",
    "    for i in range(5):\n",
    "        time.sleep(2)\n",
    "        print(f\"Square: {i*i}\")\n",
    "\n",
    "def cube_numbers():\n",
    "    for i in range(5):\n",
    "        time.sleep(2)\n",
    "        print(f\"Cube: {i * i * i}\")\n",
    "\n",
    "# It is mandatory to use the if __name__ == '__main__': to avoid the error\n",
    "# used to avoid recursive process creation\n",
    "\n",
    "if __name__ == '__main__':\n",
    "    # Create processes\n",
    "    p1 = multiprocessing.Process(target=square_numbers)\n",
    "    p2 = multiprocessing.Process(target=cube_numbers)\n",
    "\n",
    "    t = time.time()\n",
    "\n",
    "    # Start the processes\n",
    "    p1.start()\n",
    "    p2.start()\n",
    "\n",
    "    # Wait for the processes to finish\n",
    "    p1.join()\n",
    "    p2.join()\n",
    "\n",
    "    print(\"Time taken:\", time.time() - t)"
   ]
  }
 ],
 "metadata": {
  "kernelspec": {
   "display_name": "Python 3",
   "language": "python",
   "name": "python3"
  },
  "language_info": {
   "codemirror_mode": {
    "name": "ipython",
    "version": 3
   },
   "file_extension": ".py",
   "mimetype": "text/x-python",
   "name": "python",
   "nbconvert_exporter": "python",
   "pygments_lexer": "ipython3",
   "version": "3.10.14"
  }
 },
 "nbformat": 4,
 "nbformat_minor": 2
}
