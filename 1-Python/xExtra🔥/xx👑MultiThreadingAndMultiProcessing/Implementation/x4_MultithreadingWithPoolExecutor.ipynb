{
 "cells": [
  {
   "cell_type": "code",
   "execution_count": 1,
   "metadata": {},
   "outputs": [
    {
     "name": "stdout",
     "output_type": "stream",
     "text": [
      "Number :1\n",
      "Number :2\n",
      "Number :3\n",
      "Number :4\n",
      "Number :5\n",
      "Number :6\n",
      "Number :7\n",
      "Number :8\n",
      "Number :9\n",
      "Number :0\n",
      "Number :1\n",
      "Number :2\n",
      "Number :3\n"
     ]
    }
   ],
   "source": [
    "# Multithreading With Thread Pool Executor\n",
    "\n",
    "from concurrent.futures import ThreadPoolExecutor\n",
    "import time\n",
    "\n",
    "def print_number(number):\n",
    "    time.sleep(1)\n",
    "    return f\"Number :{number}\"\n",
    "\n",
    "numbers=[1,2,3,4,5,6,7,8,9,0,1,2,3]\n",
    "\n",
    "# Creating 3 Threads \n",
    "with ThreadPoolExecutor(max_workers=3) as executor:\n",
    "    results=executor.map(print_number,numbers)\n",
    "\n",
    "for result in results:\n",
    "    print(result)"
   ]
  }
 ],
 "metadata": {
  "kernelspec": {
   "display_name": "Python 3",
   "language": "python",
   "name": "python3"
  },
  "language_info": {
   "codemirror_mode": {
    "name": "ipython",
    "version": 3
   },
   "file_extension": ".py",
   "mimetype": "text/x-python",
   "name": "python",
   "nbconvert_exporter": "python",
   "pygments_lexer": "ipython3",
   "version": "3.10.14"
  }
 },
 "nbformat": 4,
 "nbformat_minor": 2
}
