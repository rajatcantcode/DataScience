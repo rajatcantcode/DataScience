{
 "cells": [
  {
   "cell_type": "markdown",
   "metadata": {},
   "source": [
    "#### MultiThreading"
   ]
  },
  {
   "cell_type": "markdown",
   "metadata": {},
   "source": [
    "#### When to Use MultiThreading?\n",
    "\n",
    "- **When You Have a Lot of I/O Bound Tasks**  \n",
    "  I/O-bound tasks involve the interaction of a computer program with the system's disk or network, such as file operations or network requests.\n",
    "\n",
    "- **For Concurrent Execution**  \n",
    "  When you want your application to handle more tasks at the same time and work faster by doing multiple things at once."
   ]
  },
  {
   "cell_type": "code",
   "execution_count": 9,
   "metadata": {},
   "outputs": [
    {
     "name": "stdout",
     "output_type": "stream",
     "text": [
      "num: 0\n",
      "num: 1\n",
      "num: 2\n",
      "num: 3\n",
      "num: 4\n",
      "s\n",
      "i\n",
      "m\n",
      "b\n",
      "a\n",
      "Time taken: 20.04005193710327\n"
     ]
    }
   ],
   "source": [
    "# Without Multi Threading\n",
    "\n",
    "import time \n",
    "def print_numbers2():\n",
    "    for i in range(5):\n",
    "        time.sleep(2)\n",
    "        print(\"num:\",i)\n",
    "\n",
    "def print_letters2():\n",
    "    for letter in \"simba\":\n",
    "        time.sleep(2)\n",
    "        print(letter)\n",
    "\n",
    "t = time.time()\n",
    "print_numbers2()\n",
    "print_letters2()\n",
    "print(\"Time taken:\", time.time()-t)"
   ]
  },
  {
   "cell_type": "code",
   "execution_count": 13,
   "metadata": {},
   "outputs": [
    {
     "name": "stdout",
     "output_type": "stream",
     "text": [
      "Letter:RNumber:0\n",
      "\n",
      "Number:1Letter:a\n",
      "\n",
      "Number:2\n",
      "Letter:j\n",
      "Number:3\n",
      "Letter:a\n",
      "Number:4\n",
      "Letter:t\n",
      "10.020234107971191\n"
     ]
    }
   ],
   "source": [
    "import threading\n",
    "import time\n",
    "\n",
    "# DOUBT : Know the Reason why the spaces are generating in the output\n",
    "\n",
    "def print_numbers():\n",
    "    for i in range(5):\n",
    "        time.sleep(2)\n",
    "        print(f\"Number:{i}\")\n",
    "\n",
    "def print_letter():\n",
    "    for letter in \"Rajat\":\n",
    "        time.sleep(2)\n",
    "        print(f\"Letter:{letter}\")\n",
    "\n",
    "# Creating 2 threads and concurrently executing the functions\n",
    "t1=threading.Thread(target=print_numbers)\n",
    "t2=threading.Thread(target=print_letter)\n",
    "\n",
    "t=time.time()\n",
    "\n",
    "# Performing the operations\n",
    "t1.start()\n",
    "t2.start()\n",
    "\n",
    "# Waiting for the threads to complete\n",
    "t1.join()\n",
    "t2.join()\n",
    "\n",
    "print(time.time() - t)"
   ]
  }
 ],
 "metadata": {
  "kernelspec": {
   "display_name": "Python 3",
   "language": "python",
   "name": "python3"
  },
  "language_info": {
   "codemirror_mode": {
    "name": "ipython",
    "version": 3
   },
   "file_extension": ".py",
   "mimetype": "text/x-python",
   "name": "python",
   "nbconvert_exporter": "python",
   "pygments_lexer": "ipython3",
   "version": "3.10.14"
  }
 },
 "nbformat": 4,
 "nbformat_minor": 2
}
