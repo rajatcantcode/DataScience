{
 "cells": [
  {
   "cell_type": "markdown",
   "metadata": {},
   "source": [
    "## 1. Program\n",
    "\n",
    "A **program** is a sequence of instructions written in a programming language like Python or JavaScript. It is essentially a set of code that tells a computer what to do. \n",
    "\n",
    "### Example:\n",
    "- **Google Chrome**: An executable file (`.exe`) that serves as a program. It contains instructions that dictate how the browser should function, handle user input, display web pages, and more."
   ]
  },
  {
   "cell_type": "markdown",
   "metadata": {},
   "source": [
    "## 2. Process\n",
    "\n",
    "A **process** is an instance of a program that is being executed.\n",
    "\n",
    "When you run a program, the operating system creates a process, which is an active entity. It has its own memory space and resources allocated by the operating system.\n",
    "\n",
    "[Activity Monitor On mac](../xxx___assets/ActivityMonitor.mp4)\n",
    "\n",
    "\n",
    "![](../xxx___assets/process.png)\n",
    "\n",
    "### Key Points:\n",
    "- A process is independent and isolated.\n",
    "- One Process cannot corrupt another process\n",
    "- Each process runs in its own memory space. If a process requires specific I/O operations, the separate memory spaces can increase execution time due to the overhead of switching between processes."
   ]
  },
  {
   "cell_type": "markdown",
   "metadata": {},
   "source": [
    "## 3. Threads\n",
    "\n",
    "A **thread** is the smallest unit of execution within a process. A process can have multiple threads running concurrently, allowing for multitasking within the same process. Threads share the same memory space but have their own execution stack and register.\n",
    "\n",
    "### Key Points:\n",
    "- Threads within the same process share memory and resources.\n",
    "- Threads are used for parallelism to perform tasks simultaneously.\n",
    "\n",
    "\n",
    "<img src=\"../xxx___assets/SingleThreadProcess.png\" alt=\"Single Thread Process\" width=\"350\"/>\n",
    "\n",
    "<img src=\"../xxx___assets/MultipleThreadedProcess.png\" alt=\"Multi Threaded Process\" width=\"350\"/>\n",
    "\n"
   ]
  },
  {
   "cell_type": "markdown",
   "metadata": {},
   "source": [
    "#### Practical Examples of Processes and Threads\n",
    "\n",
    "- **Process Example**: Opening Google Chrome creates a process. Each tab within Chrome may run as a separate process to ensure isolation.\n",
    "- **Thread Example**: While watching a video on a web page (one thread), the browser can also download a file in the background (another thread) without interrupting the video.\n",
    "\n",
    "This is useful for improving the performance and responsiveness of applications."
   ]
  }
 ],
 "metadata": {
  "language_info": {
   "name": "python"
  }
 },
 "nbformat": 4,
 "nbformat_minor": 2
}
