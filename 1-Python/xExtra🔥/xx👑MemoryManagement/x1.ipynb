{
 "cells": [
  {
   "cell_type": "markdown",
   "metadata": {},
   "source": [
    "#### Python Memory Management\n",
    "Memory management in Python involves a combination of automatic garbage collection, reference counting, and various internal optimizations to efficiently manage memory allocation and deallocation. Understanding these mechanisms can help developers write more efficient and robust applications.\n",
    "\n",
    "1. Key Concepts in Python Memory Management\n",
    "2. Memory Allocation and Deallocation\n",
    "3. Reference Counting\n",
    "4. Garbage Collection\n",
    "5. The gc Module\n",
    "6. Memory Management Best Practices"
   ]
  },
  {
   "cell_type": "markdown",
   "metadata": {},
   "source": [
    "##### Reference Counting\n",
    "Reference counting is the primary method Python uses to manage memory. Each object in Python maintains a count of references pointing to it. When the reference count drops to zero, the memory occupied by the object is deallocated."
   ]
  },
  {
   "cell_type": "code",
   "execution_count": 1,
   "metadata": {},
   "outputs": [
    {
     "name": "stdout",
     "output_type": "stream",
     "text": [
      "2\n"
     ]
    }
   ],
   "source": [
    "import sys as rajatSystemConfiguration\n",
    "\n",
    "a = []  # `a` is the first reference to the empty list `[]`\n",
    "print(rajatSystemConfiguration.getrefcount(a))  # Shows 2 Because 1 reference from `a` + 1 from `getrefcount()` argument\n",
    "\n",
    "b = a  # `b` is the second reference to the list `[]` (the same list as `a`)\n",
    "print(rajatSystemConfiguration.getrefcount(a))  # Shows 3 Because 1 reference from `a` + 1 from `b` + 1 from `getrefcount()` argument"
   ]
  },
  {
   "cell_type": "markdown",
   "metadata": {},
   "source": [
    "##### Garbage Collection\n",
    "\n",
    "Python automatically manages memory using **garbage collection**. It frees up memory by removing objects that are no longer needed.\n",
    "\n",
    "- **Reference Cycles**: This happens when two or more objects refer to each other, creating a loop. Even if they are not used anymore, their reference count doesn't go to zero, so they stay in memory.\n",
    "\n",
    "#### <span style=\"color: red;\">Problem:</span>\n",
    "- **Reference Cycles**: Objects that reference each other can't be freed automatically because their reference count never reaches zero.\n",
    "\n",
    "#### <span style=\"color: green;\">Solution:</span>\n",
    "- **Cyclic Garbage Collector**: Python's garbage collector can detect these reference cycles and remove them, freeing up memory."
   ]
  },
  {
   "cell_type": "code",
   "execution_count": 4,
   "metadata": {},
   "outputs": [
    {
     "data": {
      "text/plain": [
       "0"
      ]
     },
     "execution_count": 4,
     "metadata": {},
     "output_type": "execute_result"
    }
   ],
   "source": [
    "import gc as rajatGarbageCollector\n",
    "\n",
    "rajatGarbageCollector.enable()  # Enable the garbage collector\n",
    "rajatGarbageCollector.collect()  # Force the garbage collector to run\n",
    "rajatGarbageCollector.disable()  # Disable the garbage collector"
   ]
  },
  {
   "cell_type": "markdown",
   "metadata": {},
   "source": [
    "#### Summary Of Below Code\n",
    "Step 1-3: Initial Circular Reference Creation\n",
    "\n",
    "    +-------+       +-------+\n",
    "    | obj1  | ----> | obj2  |\n",
    "    |       | <---- |       |\n",
    "    +-------+       +-------+\n",
    "\n",
    "Step 4: Break Strong References\n",
    "\n",
    "    obj1 = None\n",
    "    obj2 = None\n",
    "    \n",
    "    +-------+       +-------+\n",
    "    | None  |       | None  |\n",
    "    |       | ----> |       |\n",
    "    |       | <---- |       |\n",
    "    +-------+       +-------+\n",
    "    (obj1, obj2 are no longer accessible)\n",
    "\n",
    "Step 5: Garbage Collection\n",
    "\n",
    "    Garbage Collector identifies the circular reference \n",
    "    and cleans up the memory, removing both objects.\n",
    "    \n",
    "    Memory is freed up, so gc.collect() returns a number > 0\n"
   ]
  },
  {
   "cell_type": "code",
   "execution_count": 11,
   "metadata": {},
   "outputs": [
    {
     "name": "stdout",
     "output_type": "stream",
     "text": [
      "Rajat has been deleted\n",
      "Simba has been deleted\n",
      "Collected: 11 objects\n",
      "[{'collections': 192, 'collected': 1708, 'uncollectable': 0}, {'collections': 17, 'collected': 502, 'uncollectable': 0}, {'collections': 10, 'collected': 60, 'uncollectable': 0}]\n",
      "Unreachable objects: []\n"
     ]
    }
   ],
   "source": [
    "import gc as rajatGarbageCollector\n",
    "\n",
    "# Enable the garbage collector\n",
    "rajatGarbageCollector.enable()\n",
    "\n",
    "class CircularReference:\n",
    "    def __init__(self, name):\n",
    "        self.name = name  # Initialize the 'name' attribute\n",
    "        self.reference = None\n",
    "        \n",
    "    def __del__(self):\n",
    "        print(f'{self.name} has been deleted')\n",
    "\n",
    "# Create two objects that reference each other\n",
    "obj1 = CircularReference(\"Rajat\")\n",
    "obj2 = CircularReference(\"Simba\")\n",
    "\n",
    "obj1.reference = obj2\n",
    "obj2.reference = obj1\n",
    "\n",
    "# Break the strong references to obj1 and obj2\n",
    "del obj1\n",
    "del obj2\n",
    "\n",
    "# Force the garbage collector to run\n",
    "print(f\"Collected: {rajatGarbageCollector.collect()} objects\")\n",
    "\n",
    "# Disable the garbage collector\n",
    "rajatGarbageCollector.disable()\n",
    "\n",
    "# Get garbage collection stats\n",
    "print(rajatGarbageCollector.get_stats())\n",
    "\n",
    "# Get Unreachable objects (garbage)\n",
    "print(f\"Unreachable objects: {rajatGarbageCollector.garbage}\")\n"
   ]
  },
  {
   "cell_type": "markdown",
   "metadata": {},
   "source": [
    "# 🧠 Memory Management Best Practices\n",
    "\n",
    "Managing memory efficiently is crucial for writing optimal Python code. Here are some best practices to help you handle memory effectively:\n",
    "\n",
    "1. **Use Local Variables**:  \n",
    "   Local variables are created within functions and have a shorter lifespan. They are automatically freed when the function ends, which helps in saving memory.  \n",
    "   <span style=\"color: green;\">*Summary: Prefer using local variables inside functions instead of global variables whenever possible.*</span>\n",
    "\n",
    "2. **Avoid Circular References**:  \n",
    "   Circular references occur when two or more objects reference each other, creating a loop that prevents their memory from being freed. This can lead to **memory leaks**.  \n",
    "   <span style=\"color: red;\">*Problem: Circular references can keep objects in memory longer than necessary.*</span>  \n",
    "   <span style=\"color: green;\">*Solution: Be mindful of object references and use weak references (via the `weakref` module) to prevent this.*</span>\n",
    "\n",
    "3. **Use Generators**:  \n",
    "   Generators produce items one at a time instead of creating the entire collection in memory. This makes them highly memory-efficient, especially when dealing with large datasets.  \n",
    "   <span style=\"color: green;\">*Summary: Use generators (created with `yield` keyword) to process large data streams or perform iterative computations.*</span>\n",
    "\n",
    "4. **Explicitly Delete Objects**:  \n",
    "   Use the `del` statement to delete variables and objects when they are no longer needed. This helps the garbage collector to free up memory faster.  \n",
    "   <span style=\"color: green;\">*Example: `del my_variable` removes `my_variable` from memory.*</span>\n",
    "\n",
    "5. **Profile Memory Usage**:  \n",
    "   Use memory profiling tools like `tracemalloc` and `memory_profiler` to monitor and optimize memory usage in your programs. These tools can help identify memory leaks and areas that need improvement.  \n",
    "   <span style=\"color: green;\">*Summary: Regularly profile your application's memory usage to ensure efficient memory management.*</span>\n"
   ]
  },
  {
   "cell_type": "code",
   "execution_count": 12,
   "metadata": {},
   "outputs": [
    {
     "name": "stdout",
     "output_type": "stream",
     "text": [
      "--------------TIP 5---------------\n",
      "[ Top 10 ]\n",
      "/var/folders/3j/m011bbb94q72wyv4dr09th7w0000gn/T/ipykernel_3470/1546410107.py:11: size=416 B, count=1, average=416 B\n",
      "/var/folders/3j/m011bbb94q72wyv4dr09th7w0000gn/T/ipykernel_3470/1546410107.py:16: size=400 B, count=1, average=400 B\n",
      "/Users/rajatsharma/Documents/MachineLearning/MachineLearning-myCode/venv/lib/python3.10/site-packages/ipykernel/iostream.py:287: size=256 B, count=3, average=85 B\n",
      "/Users/rajatsharma/Documents/MachineLearning/MachineLearning-myCode/venv/lib/python3.10/site-packages/ipykernel/iostream.py:276: size=256 B, count=3, average=85 B\n",
      "/Users/rajatsharma/Documents/MachineLearning/MachineLearning-myCode/venv/lib/python3.10/site-packages/tornado/platform/asyncio.py:235: size=144 B, count=2, average=72 B\n",
      "/Users/rajatsharma/Documents/MachineLearning/MachineLearning-myCode/venv/lib/python3.10/site-packages/zmq/eventloop/zmqstream.py:695: size=144 B, count=1, average=144 B\n",
      "/Users/rajatsharma/Documents/MachineLearning/MachineLearning-myCode/venv/lib/python3.10/site-packages/zmq/sugar/attrsettr.py:45: size=110 B, count=2, average=55 B\n",
      "/Users/rajatsharma/Documents/MachineLearning/MachineLearning-myCode/venv/lib/python3.10/site-packages/zmq/sugar/socket.py:755: size=96 B, count=2, average=48 B\n",
      "/Users/rajatsharma/Documents/MachineLearning/MachineLearning-myCode/venv/lib/python3.10/asyncio/base_events.py:773: size=96 B, count=1, average=96 B\n",
      "/Users/rajatsharma/Documents/MachineLearning/MachineLearning-myCode/venv/lib/python3.10/asyncio/events.py:80: size=72 B, count=1, average=72 B\n",
      "/Users/rajatsharma/Documents/MachineLearning/MachineLearning-myCode/venv/lib/python3.10/site-packages/zmq/sugar/socket.py:756: size=64 B, count=1, average=64 B\n",
      "/Users/rajatsharma/Documents/MachineLearning/MachineLearning-myCode/venv/lib/python3.10/site-packages/zmq/sugar/socket.py:701: size=64 B, count=1, average=64 B\n",
      "/Users/rajatsharma/Documents/MachineLearning/MachineLearning-myCode/venv/lib/python3.10/site-packages/ipykernel/iostream.py:168: size=48 B, count=1, average=48 B\n",
      "/Users/rajatsharma/Documents/MachineLearning/MachineLearning-myCode/venv/lib/python3.10/asyncio/base_events.py:1893: size=48 B, count=1, average=48 B\n",
      "/Users/rajatsharma/Documents/MachineLearning/MachineLearning-myCode/venv/lib/python3.10/site-packages/zmq/eventloop/zmqstream.py:675: size=40 B, count=1, average=40 B\n",
      "/Users/rajatsharma/Documents/MachineLearning/MachineLearning-myCode/venv/lib/python3.10/site-packages/zmq/sugar/socket.py:806: size=8 B, count=1, average=8 B\n"
     ]
    }
   ],
   "source": [
    "# Tip 1 - Easy\n",
    "# Tip 2 - Already done\n",
    "# Tip 3 - Already done\n",
    "# Tip 4 - Already done \n",
    "# Tip 5 - Profile Memory Usage\n",
    "print(\"--------------TIP 5---------------\")\n",
    "# Tracemalloc is a built-in Python module that allows you to trace memory blocks allocated by your program.\n",
    "import tracemalloc as rajatKaTracemalloc\n",
    "\n",
    "def create_list():\n",
    "    return [i for i in range(10000)]\n",
    "\n",
    "def main():\n",
    "    rajatKaTracemalloc.start()\n",
    "    \n",
    "    create_list()\n",
    "    \n",
    "    snapshot = rajatKaTracemalloc.take_snapshot()\n",
    "    top_stats = snapshot.statistics('lineno')\n",
    "    \n",
    "    print(\"[ Top 10 ]\")\n",
    "    for stat in top_stats[::]:\n",
    "        print(stat)\n",
    "\n",
    "main()"
   ]
  }
 ],
 "metadata": {
  "kernelspec": {
   "display_name": "Python 3",
   "language": "python",
   "name": "python3"
  },
  "language_info": {
   "codemirror_mode": {
    "name": "ipython",
    "version": 3
   },
   "file_extension": ".py",
   "mimetype": "text/x-python",
   "name": "python",
   "nbconvert_exporter": "python",
   "pygments_lexer": "ipython3",
   "version": "3.10.14"
  }
 },
 "nbformat": 4,
 "nbformat_minor": 2
}
