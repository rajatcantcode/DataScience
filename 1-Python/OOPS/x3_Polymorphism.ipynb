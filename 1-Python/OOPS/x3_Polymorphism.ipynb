{
 "cells": [
  {
   "cell_type": "markdown",
   "metadata": {},
   "source": [
    "#### Polymorphism\n",
    "Polymorphism means having many forms.\n",
    "In simple words, It enables a single interface or method to work with different types of data, providing flexibility and reusability in the code. \n",
    "\n",
    "Note : In Python We say interface as abstract base class\n",
    "\n",
    "Can be divided into 2 parts - Method Overriding , Method Overloading"
   ]
  },
  {
   "cell_type": "code",
   "execution_count": 2,
   "metadata": {},
   "outputs": [
    {
     "data": {
      "text/plain": [
       "'Dog Barking'"
      ]
     },
     "execution_count": 2,
     "metadata": {},
     "output_type": "execute_result"
    }
   ],
   "source": [
    "# Method Overriding : Allows a child class to provide a specific implementation \n",
    "# of a method that is already provided by its parent class.\n",
    "\n",
    "class Animal:\n",
    "    def speak(self):\n",
    "        return \"Animal Speaking\"\n",
    "\n",
    "class Dog(Animal):\n",
    "    def speak(self):\n",
    "        return \"Dog Barking\"\n",
    "\n",
    "class Cat(Animal):\n",
    "    def speak(self):\n",
    "        return \"Cat Meowing\"\n",
    "\n",
    "d = Dog()\n",
    "d.speak() # Output : Dog Barking \n",
    "# Overriding the speak method of the parent class Animal in the child class Dog   \n",
    "\n",
    "c = Cat()\n",
    "c.speak() # Output : Cat Meowing    \n"
   ]
  },
  {
   "cell_type": "code",
   "execution_count": 3,
   "metadata": {},
   "outputs": [
    {
     "name": "stdout",
     "output_type": "stream",
     "text": [
      "the area is 20\n",
      "the area is 28.259999999999998\n"
     ]
    }
   ],
   "source": [
    "# Method Overriding - Part 2 \n",
    "\n",
    "# Parent class 1\n",
    "class Shape:\n",
    "    def area(self):\n",
    "        return \"Calculating area of the figure\"\n",
    "    \n",
    "## Child class 1\n",
    "class Rectangle(Shape):\n",
    "    def __init__(self,width,height):\n",
    "        self.width=width\n",
    "        self.height=height\n",
    "\n",
    "    def area(self):\n",
    "        return self.width * self.height\n",
    "    \n",
    "## Child class 2\n",
    "class Circle(Shape):\n",
    "    def __init__(self,radius):\n",
    "        self.radius=radius\n",
    "\n",
    "    def area(self):\n",
    "        return 3.14*self.radius *self.radius\n",
    "    \n",
    "# Function that demonstrates Polymorphism \n",
    "# How ? \n",
    "# The function takes an object of any class that has the method area() defined in it\n",
    "# and calls the area() method on that object. \n",
    "def print_area(shape):\n",
    "    print(f\"the area is {shape.area()}\")\n",
    "\n",
    "\n",
    "rectangle=Rectangle(4,5)\n",
    "circle=Circle(3)\n",
    "\n",
    "print_area(rectangle)\n",
    "print_area(circle)"
   ]
  },
  {
   "cell_type": "markdown",
   "metadata": {},
   "source": [
    "Abstract Base Classes (ABCs) are used to define common methods for a group of related objects. They can enforce that derived classes implement particular methods, promoting consistency across different implementations."
   ]
  },
  {
   "cell_type": "code",
   "execution_count": 8,
   "metadata": {},
   "outputs": [
    {
     "data": {
      "text/plain": [
       "\"Vehicle's engine has been stopped\""
      ]
     },
     "execution_count": 8,
     "metadata": {},
     "output_type": "execute_result"
    }
   ],
   "source": [
    "# Method Overriding - Part 3\n",
    "from abc import ABC,abstractmethod\n",
    "# ABC - <class 'abc.ABC'> ; abstractmethod - <function abstractmethod at 0x105164af0>\n",
    "\n",
    "# This abstractmethod is a type of decorator that is used to define a method as abstract in the abstract base class.\n",
    "\n",
    "# Defining an abstract class\n",
    "# We are extending it from ABC class which is an empty class in the abc module.\n",
    "class Vehicle(ABC):\n",
    "    @abstractmethod\n",
    "    def startEngine(self):\n",
    "        \"Vehicle's engine has been started\"\n",
    "\n",
    "    # @abstractmethod\n",
    "    def stopEngine(self):\n",
    "        return \"Vehicle's engine has been stopped\"\n",
    "\n",
    "# Child - 1\n",
    "class Car(Vehicle):\n",
    "    def startEngine(self):\n",
    "        return \"Car's engine has been started\"\n",
    "\n",
    "# Child - 2\n",
    "class Truck(Vehicle):\n",
    "    def startEngine(self):\n",
    "        return \"Truck's engine has been started\"\n",
    "    def stopEngine(self):\n",
    "        return \"Truck's engine has been stopped\"\n",
    "    \n",
    "# Learning 1\n",
    "# Error : We cannot create object of an abstract class\n",
    "# v=Vehicle()\n",
    "\n",
    "# Learning 2\n",
    "# It is important for the child class to implement the abstract method of the parent class\n",
    "# Like if we make 'stopEngine' method as abstract in the Vehicle class then Car will show Error because it's not implementing the stopEngine method\n",
    "c=Car()\n",
    "c.stopEngine() # Output : Vehicle's engine has been stopped"
   ]
  },
  {
   "cell_type": "code",
   "execution_count": 9,
   "metadata": {},
   "outputs": [
    {
     "name": "stdout",
     "output_type": "stream",
     "text": [
      "Hello from Parent1!\n",
      "Goodbye from Parent2!\n"
     ]
    }
   ],
   "source": [
    "# Good Example ***\n",
    "# Parent Class 1\n",
    "class Parent1:\n",
    "    def greet(self):\n",
    "        print(\"Hello from Parent1!\")\n",
    "\n",
    "# Parent Class 2\n",
    "class Parent2:\n",
    "    def greet(self):\n",
    "        print(\"Hello from Parent2!\")\n",
    "\n",
    "    def farewell(self):\n",
    "        print(\"Goodbye from Parent2!\")\n",
    "\n",
    "# Child Class inheriting from both Parent1 and Parent2\n",
    "class Child(Parent1, Parent2):\n",
    "    def greet(self):\n",
    "        super().greet()  # Calls Parent1's greet method by default (Method Resolution Order)\n",
    "\n",
    "# Create an instance of the Child class\n",
    "child = Child()\n",
    "\n",
    "# Call methods from both parents\n",
    "#  Method Resolution Order (MRO) is the order in which Python looks for a method in a hierarchy of classes.\n",
    "#  The MRO is left-to-right, depth-first.\n",
    "#  In this case, the Child class inherits from Parent1 first, then Parent2.\n",
    "\n",
    "child.greet()     # This will call Parent1's greet method due to the order of inheritance\n",
    "child.farewell()  # This will call Parent2's farewell method\n"
   ]
  },
  {
   "cell_type": "markdown",
   "metadata": {},
   "source": [
    "#### Method Overloading : define multiple methods with the same name but with different signatures.     \n",
    "\n",
    "### Note : Method Overloading is not possible in Python because      \n",
    "-- Python uses dynamic typing: It doesn't need to know the method's signature at compile time.    \n",
    "-- Last-defined method wins: If multiple methods have the same name, Python only keeps the last one, overwriting any previous definitions      "
   ]
  },
  {
   "cell_type": "code",
   "execution_count": 10,
   "metadata": {},
   "outputs": [
    {
     "name": "stdout",
     "output_type": "stream",
     "text": [
      "6\n"
     ]
    }
   ],
   "source": [
    "# Method Overloading Not possible in python\n",
    "class Example:\n",
    "    def add(self, a, b):\n",
    "        return a + b\n",
    "    \n",
    "    # Attempting to overload the 'add' method\n",
    "    def add(self, a, b, c):\n",
    "        return a + b + c\n",
    "\n",
    "# Create an instance\n",
    "example1 = Example()\n",
    "\n",
    "# This will only use the last 'add' method (with 3 parameters)\n",
    "print(example1.add(1, 2, 3))  # Output: 6\n",
    "\n",
    "# Trying to call the first 'add' method will cause an error:\n",
    "# print(example.add(1, 2))  # Error: missing 1 required positional argument: 'c'"
   ]
  },
  {
   "cell_type": "markdown",
   "metadata": {},
   "source": [
    "##### Practical Use Case of Method Overloading is calculate() method that handles integers, floats, or complex numbers differently. \n",
    "\n",
    "##### Since method overloading is not possible, we use default arguments and *args or **kwargs to handle different inputs in the same method.     "
   ]
  },
  {
   "cell_type": "code",
   "execution_count": 15,
   "metadata": {},
   "outputs": [
    {
     "name": "stdout",
     "output_type": "stream",
     "text": [
      "16\n",
      "5\n",
      "6\n"
     ]
    }
   ],
   "source": [
    "class Calculator:\n",
    "    def calculate(self, *args):\n",
    "        # If one argument, return square\n",
    "        if len(args) == 1:\n",
    "            return args[0] ** 2\n",
    "        # If two arguments, return their sum\n",
    "        elif len(args) == 2:\n",
    "            return args[0] + args[1]\n",
    "        # If three arguments, return their product\n",
    "        elif len(args) == 3:\n",
    "            return args[0] * args[1] * args[2]\n",
    "        else:\n",
    "            return \"Invalid number of arguments\"\n",
    "\n",
    "# Create an instance of Calculator\n",
    "calc = Calculator()\n",
    "\n",
    "# Test with different numbers of arguments\n",
    "print(calc.calculate(4))          # Output: 16 (Square of 4)\n",
    "print(calc.calculate(2, 3))       # Output: 5 (Sum of 2 and 3)\n",
    "print(calc.calculate(1, 2, 3))    # Output: 6 (Product of 1, 2, 3)\n",
    "\n"
   ]
  },
  {
   "cell_type": "markdown",
   "metadata": {},
   "source": [
    "#### *args vs **kwargs     \n",
    "##### *args: Handles multiple positional arguments; stores them in a tuple.     \n",
    "##### **kwargs: Handles multiple keyword arguments; stores them in a dictionary."
   ]
  },
  {
   "cell_type": "code",
   "execution_count": 16,
   "metadata": {},
   "outputs": [
    {
     "name": "stdout",
     "output_type": "stream",
     "text": [
      "1\n",
      "2\n",
      "3\n",
      "name: Alice\n",
      "age: 30\n"
     ]
    }
   ],
   "source": [
    "def example_function(*args):\n",
    "    for arg in args:\n",
    "        print(arg)\n",
    "\n",
    "example_function(1, 2, 3)  # Output: 1 2 3\n",
    "\n",
    "\n",
    "def example_function2(**kwargs):\n",
    "    for key, value in kwargs.items():\n",
    "        print(f\"{key}: {value}\")\n",
    "\n",
    "example_function2(name=\"Alice\", age=30)  # Output: name: Alice \\n age: 30\n"
   ]
  }
 ],
 "metadata": {
  "kernelspec": {
   "display_name": "Python 3",
   "language": "python",
   "name": "python3"
  },
  "language_info": {
   "codemirror_mode": {
    "name": "ipython",
    "version": 3
   },
   "file_extension": ".py",
   "mimetype": "text/x-python",
   "name": "python",
   "nbconvert_exporter": "python",
   "pygments_lexer": "ipython3",
   "version": "3.10.14"
  }
 },
 "nbformat": 4,
 "nbformat_minor": 2
}
