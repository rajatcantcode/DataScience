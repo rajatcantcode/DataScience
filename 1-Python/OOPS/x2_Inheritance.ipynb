{
 "cells": [
  {
   "cell_type": "markdown",
   "metadata": {},
   "source": [
    "Inheritance is a concept to inherit attributes and methods from another class."
   ]
  },
  {
   "cell_type": "code",
   "execution_count": 8,
   "metadata": {},
   "outputs": [
    {
     "name": "stdout",
     "output_type": "stream",
     "text": [
      "Rajat can walk\n",
      "Rajat can eat\n",
      "Welcome Rajat to the class of 2024\n"
     ]
    }
   ],
   "source": [
    "# Single Inheritance\n",
    "# Parent Class\n",
    "class Person:\n",
    "    def __init__(self, name, age):\n",
    "        self.name = name\n",
    "        self.age = age\n",
    "\n",
    "    def walk(self):\n",
    "        print(self.name, \"can walk\")\n",
    "\n",
    "    def eat(self):\n",
    "        print(self.name, \"can eat\")\n",
    "\n",
    "\n",
    "# Child Class\n",
    "# Student extends Person \n",
    "class Student(Person):\n",
    "    def __init__(self, name, age, year):\n",
    "        super().__init__(name, age) # This means We are calling the constructor of the parent class\n",
    "        self.graduationyear = year\n",
    "\n",
    "    def welcome(self):\n",
    "        print(\"Welcome\", self.name, \"to the class of\", self.graduationyear)\n",
    "\n",
    "student1 = Student(\"Rajat\",18,2024)\n",
    "student1.walk()\n",
    "student1.eat()\n",
    "student1.welcome()"
   ]
  },
  {
   "cell_type": "code",
   "execution_count": 28,
   "metadata": {},
   "outputs": [
    {
     "name": "stdout",
     "output_type": "stream",
     "text": [
      "isAlive Constructor\n",
      "Animal Constructor\n",
      "Dog Constructor\n",
      "Dog can bark\n"
     ]
    }
   ],
   "source": [
    "# Multiple Inheritance\n",
    "# When a class inherits from more than one class, it is called multiple inheritance.\n",
    "\n",
    "# Parent Class 1\n",
    "class Animal:\n",
    "    def __init__(self, name, tail):\n",
    "        print(\"Animal Constructor\")\n",
    "        self.name = name\n",
    "        self.tail = tail\n",
    "\n",
    "    def has_tail(self):\n",
    "        print(f\"Animal has {'a tail' if self.tail else 'no tail'}\")\n",
    "\n",
    "# Parent Class 2\n",
    "class isAlive:\n",
    "    def __init__(self, alive, extraPower=\"No\"):\n",
    "        print(\"isAlive Constructor\")\n",
    "        self.alive = alive\n",
    "        self.extraPower = extraPower  # Initialize extraPower in the constructor\n",
    "\n",
    "    def is_alive(self):\n",
    "        print(\"Is Alive:\", self.alive)\n",
    "\n",
    "    def is_dead(self):\n",
    "        print(\"Is Dead:\", not self.alive)\n",
    "\n",
    "    def extra_power(self):\n",
    "        print(f\"Extra Power: {'noExtraPower' if self.extraPower == 'No' else self.extraPower}\")\n",
    "\n",
    "\n",
    "# Summary of the above code\n",
    "# Animal - name and tail \n",
    "# isAlive - alive and extraPower\n",
    "# Dog - name, tail, alive, extraPower\n",
    "\n",
    "# Child Class\n",
    "class Dog(Animal, isAlive):\n",
    "    def __init__(self, name, tail, alive, extraPower=\"No\"):\n",
    "        isAlive.__init__(self, alive, extraPower) \n",
    "        Animal.__init__(self, name, tail)\n",
    " \n",
    "        print(\"Dog Constructor\")\n",
    "    \n",
    "    def bark(self):\n",
    "        print(\"Dog can bark\")\n",
    "\n",
    "# Correct instantiation\n",
    "dog1 = Dog(\"Simba\", True, True)\n",
    "dog1.bark()\n"
   ]
  }
 ],
 "metadata": {
  "kernelspec": {
   "display_name": "Python 3",
   "language": "python",
   "name": "python3"
  },
  "language_info": {
   "codemirror_mode": {
    "name": "ipython",
    "version": 3
   },
   "file_extension": ".py",
   "mimetype": "text/x-python",
   "name": "python",
   "nbconvert_exporter": "python",
   "pygments_lexer": "ipython3",
   "version": "3.10.14"
  }
 },
 "nbformat": 4,
 "nbformat_minor": 2
}
