{
 "cells": [
  {
   "cell_type": "markdown",
   "metadata": {},
   "source": [
    "#### Magic Methods\n",
    "Magic methods in Python, also known as dunder methods (double underscore methods), are special methods that start and end with double underscores.    \n",
    "These predefined methods enable you to define the behavior of objects for built-in operations, such as arithmetic operations, comparisons, and more.    \n",
    "By overriding these methods, you can customize how your objects interact with various Python operations."
   ]
  },
  {
   "cell_type": "markdown",
   "metadata": {},
   "source": [
    "- **`__init__`**: Initializes a new instance of a class.\n",
    "\n",
    "- **`__str__`**: Returns a string representation of an object, useful for informal or user-facing outputs.\n",
    "\n",
    "- **`__repr__`**: Returns an official string representation of an object, useful for debugging and development.\n",
    "\n",
    "- **`__len__`**: Returns the length of an object, typically used with containers like lists or strings.\n",
    "\n",
    "- **`__getitem__`**: Retrieves an item from a container, such as accessing elements in a list or dictionary.\n",
    "\n",
    "- **`__setitem__`**: Sets an item in a container, allowing you to modify elements in a list or dictionary-like object."
   ]
  },
  {
   "cell_type": "code",
   "execution_count": 4,
   "metadata": {},
   "outputs": [
    {
     "name": "stdout",
     "output_type": "stream",
     "text": [
      "['__class__', '__delattr__', '__dict__', '__dir__', '__doc__', '__eq__', '__format__', '__ge__', '__getattribute__', '__gt__', '__hash__', '__init__', '__init_subclass__', '__le__', '__lt__', '__module__', '__ne__', '__new__', '__reduce__', '__reduce_ex__', '__repr__', '__setattr__', '__sizeof__', '__str__', '__subclasshook__', '__weakref__', 'age', 'name']\n",
      "Rajat, 18 years old\n",
      "Person(name='Rajat', age=18)\n",
      "3\n",
      "2\n",
      "[1, 20, 3]\n"
     ]
    }
   ],
   "source": [
    "# Magic Methods Example\n",
    "class Person:\n",
    "    def __init__(self, name, age):\n",
    "        self.name = name\n",
    "        self.age = age\n",
    "\n",
    "    def __str__(self):\n",
    "        return f\"{self.name}, {self.age} years old\"\n",
    "\n",
    "    def __repr__(self):\n",
    "        return f\"Person(name={self.name!r}, age={self.age!r})\"\n",
    "\n",
    "class CustomList:\n",
    "    def __init__(self, items):\n",
    "        self.items = items\n",
    "\n",
    "    def __len__(self):\n",
    "        return len(self.items)\n",
    "\n",
    "    def __getitem__(self, index):\n",
    "        return self.items[index]\n",
    "\n",
    "    def __setitem__(self, index, value):\n",
    "        self.items[index] = value\n",
    "\n",
    "\n",
    "# Person class examples\n",
    "person = Person(\"Rajat\", 18)\n",
    "\n",
    "print(dir(person))\n",
    "\n",
    "# If We wouldn't have override the __str__ method then it would have printed the object location\n",
    "\n",
    "print(person)        # Uses __str__\n",
    "print(repr(person))  # Uses __repr__\n",
    "\n",
    "# CustomList class examples\n",
    "custom_list = CustomList([1, 2, 3])\n",
    "print(len(custom_list))    # Uses __len__\n",
    "print(custom_list[1])      # Uses __getitem__\n",
    "custom_list[1] = 20        # Uses __setitem__\n",
    "print(custom_list.items)   # Output: [1, 20, 3]\n"
   ]
  }
 ],
 "metadata": {
  "kernelspec": {
   "display_name": "Python 3",
   "language": "python",
   "name": "python3"
  },
  "language_info": {
   "codemirror_mode": {
    "name": "ipython",
    "version": 3
   },
   "file_extension": ".py",
   "mimetype": "text/x-python",
   "name": "python",
   "nbconvert_exporter": "python",
   "pygments_lexer": "ipython3",
   "version": "3.10.14"
  }
 },
 "nbformat": 4,
 "nbformat_minor": 2
}
