{
 "cells": [
  {
   "cell_type": "markdown",
   "metadata": {},
   "source": [
    "Object-Oriented Programming (OOP) is a programming paradigm that uses \"objects\" to design applications and computer programs. OOP allows for modeling real-world scenarios using classes and objects.\n",
    "\n",
    "Class is a blueprint for creating objects , attributes , methods"
   ]
  },
  {
   "cell_type": "code",
   "execution_count": 7,
   "metadata": {},
   "outputs": [
    {
     "name": "stdout",
     "output_type": "stream",
     "text": [
      "<class '__main__.Human'>\n",
      "True\n",
      "<__main__.Human object at 0x107a37520>\n"
     ]
    }
   ],
   "source": [
    "class Human:\n",
    "    pass # empty class\n",
    "\n",
    "# create an object of the class\n",
    "rajat = Human()\n",
    "print(type(rajat)) # <class '__main__.Human'>\n",
    "print(isinstance(rajat, Human)) # True\n",
    "print(rajat) # <__main__.Human object at 0x7f8b3b7b3b20>"
   ]
  },
  {
   "cell_type": "code",
   "execution_count": 9,
   "metadata": {},
   "outputs": [
    {
     "name": "stdout",
     "output_type": "stream",
     "text": [
      "Simba\n",
      "3\n",
      "Simba is barking\n",
      "Simba is wagging tail\n"
     ]
    }
   ],
   "source": [
    "# __init__ method is called when an object is created\n",
    "# __init__ method is called constructor\n",
    "\n",
    "class Dog:\n",
    "    # It's not compulsory to write self as the first argument\n",
    "    # But it's a good practice\n",
    "    # self is a reference to the object itself or \"this\" keyword in other languages\n",
    "    def __init__(self, name, age):\n",
    "        self.name = name\n",
    "        self.age = age\n",
    "\n",
    "    def bark(self):\n",
    "        print(f\"{self.name} is barking\")\n",
    "    \n",
    "    def tail_wag(self):\n",
    "        print(f\"{self.name} is wagging tail\")\n",
    "    \n",
    "    def eat(self):\n",
    "        print(f\"{self.name} is eating\")\n",
    "\n",
    "dog1 = Dog(\"Simba\",3)\n",
    "print(dog1.name) # Simba\n",
    "print(dog1.age) # 3\n",
    "dog1.bark() # Simba is barking\n",
    "dog1.tail_wag() # Simba is wagging tail"
   ]
  },
  {
   "cell_type": "code",
   "execution_count": 12,
   "metadata": {},
   "outputs": [
    {
     "name": "stdout",
     "output_type": "stream",
     "text": [
      "500 deposited successfully\n",
      "Balance: 1500\n",
      "Insufficient balance\n",
      "Balance: 1500\n",
      "500 withdrawn successfully\n",
      "Balance: 1000\n",
      "<__main__.BankAccount object at 0x107388ac0>\n",
      "4415807152\n"
     ]
    }
   ],
   "source": [
    "class BankAccount:\n",
    "    def __init__(self, name, balance=0):\n",
    "        self.name = name\n",
    "        self.balance = balance\n",
    "\n",
    "    def deposit(self, amount):\n",
    "        self.balance += amount\n",
    "        print(f\"{amount} deposited successfully\")\n",
    "    \n",
    "    def withdraw(self, amount):\n",
    "        if amount > self.balance:\n",
    "            print(\"Insufficient balance\")\n",
    "        else:\n",
    "            self.balance -= amount\n",
    "            print(f\"{amount} withdrawn successfully\")\n",
    "\n",
    "    def check_balance(self):\n",
    "        print(f\"Balance: {self.balance}\")\n",
    "\n",
    "account1 = BankAccount(\"Rajat\", 1000)\n",
    "account1.deposit(500)\n",
    "account1.check_balance()\n",
    "account1.withdraw(2000)\n",
    "account1.check_balance()\n",
    "account1.withdraw(500)\n",
    "account1.check_balance()\n",
    "print(account1) # Object are mutable in python that's why the location is changing everytime\n",
    "\n",
    "x = \"Rajat\"\n",
    "print(id(x)) # String are immutable in python that's why the location is not changing\n"
   ]
  },
  {
   "cell_type": "code",
   "execution_count": 11,
   "metadata": {},
   "outputs": [
    {
     "name": "stdout",
     "output_type": "stream",
     "text": [
      "4415807152\n"
     ]
    }
   ],
   "source": [
    "\n",
    "\n"
   ]
  }
 ],
 "metadata": {
  "kernelspec": {
   "display_name": "Python 3",
   "language": "python",
   "name": "python3"
  },
  "language_info": {
   "codemirror_mode": {
    "name": "ipython",
    "version": 3
   },
   "file_extension": ".py",
   "mimetype": "text/x-python",
   "name": "python",
   "nbconvert_exporter": "python",
   "pygments_lexer": "ipython3",
   "version": "3.10.14"
  }
 },
 "nbformat": 4,
 "nbformat_minor": 2
}
