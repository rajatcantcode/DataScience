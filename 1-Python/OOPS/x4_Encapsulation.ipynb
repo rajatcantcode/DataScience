{
 "cells": [
  {
   "cell_type": "markdown",
   "metadata": {},
   "source": [
    "##### Encapsulation\n",
    "Encapsulation is the concept of wrapping data (variables) and methods (functions) together as a single unit. It restricts direct access to some of the object's components, which is a means of preventing accidental interference and misuse of the data.\n"
   ]
  },
  {
   "cell_type": "code",
   "execution_count": 2,
   "metadata": {},
   "outputs": [
    {
     "name": "stdout",
     "output_type": "stream",
     "text": [
      "Rajat\n"
     ]
    },
    {
     "data": {
      "text/plain": [
       "['__class__',\n",
       " '__delattr__',\n",
       " '__dict__',\n",
       " '__dir__',\n",
       " '__doc__',\n",
       " '__eq__',\n",
       " '__format__',\n",
       " '__ge__',\n",
       " '__getattribute__',\n",
       " '__gt__',\n",
       " '__hash__',\n",
       " '__init__',\n",
       " '__init_subclass__',\n",
       " '__le__',\n",
       " '__lt__',\n",
       " '__module__',\n",
       " '__ne__',\n",
       " '__new__',\n",
       " '__reduce__',\n",
       " '__reduce_ex__',\n",
       " '__repr__',\n",
       " '__setattr__',\n",
       " '__sizeof__',\n",
       " '__str__',\n",
       " '__subclasshook__',\n",
       " '__weakref__',\n",
       " 'age',\n",
       " 'name']"
      ]
     },
     "execution_count": 2,
     "metadata": {},
     "output_type": "execute_result"
    }
   ],
   "source": [
    "# Access Modifiers : Public , Protected , Private\n",
    "\n",
    "# Summary - https://www.notion.so/Static-types-Part-2-Generics-Access-Modifiers-f521a7a0a820459eb4b5022f8aceda93?pvs=4#6264f8a2a399450a80335ce6aea75ee4\n",
    "\n",
    "# Note : In Python , Protected variables and methods can be access outside the class.\n",
    "# Public : self.name\n",
    "# Protected : self._name\n",
    "# Private : self.__name\n",
    "\n",
    "\n",
    "# Public : Accessible from anywhere\n",
    "class Person:\n",
    "    def __init__(self,name,age):\n",
    "        self.name=name    ## public variables\n",
    "        self.age=age      ## public variables\n",
    "\n",
    "person1=Person(\"Rajat\",18)\n",
    "print(person1.name) #Rajat\n",
    "\n",
    "dir(person1)\n",
    "\n",
    "# [\n",
    "#     '__class__',\n",
    "#     # Other omitted attributes or methods\n",
    "#     '__init__',\n",
    "#     # More omitted attributes or methods\n",
    "#     'age', # Public Variable\n",
    "#     'name' # Public Variable\n",
    "# ]\n",
    "\n",
    "\n"
   ]
  },
  {
   "cell_type": "code",
   "execution_count": 7,
   "metadata": {},
   "outputs": [
    {
     "name": "stdout",
     "output_type": "stream",
     "text": [
      "Rajat\n",
      "18\n",
      "Rajat\n"
     ]
    }
   ],
   "source": [
    "# Protected Variable Example\n",
    "class Person2:\n",
    "    def __init__(self, name, age):\n",
    "        self._name = name    # Protected variable\n",
    "        self._age = age     \n",
    "    \n",
    "    def display(self):\n",
    "        print(self._name)  # Accessing protected variable within the class\n",
    "        print(self._age)  \n",
    "\n",
    "class Demo(Person2):\n",
    "    def __init__(self, name, age):\n",
    "        super().__init__(name, age)  # Initialize the parent class\n",
    "        print(self._name)  # Accessing protected variable within the subclass\n",
    "\n",
    "# Create an instance of Person2\n",
    "person2 = Person2(\"Rajat\", 18)\n",
    "person2.display()  # Output: Rajat 18\n",
    "\n",
    "print(dir(person2))\n",
    "\n",
    "# Accessing the protected variable from outside the class\n",
    "print(person2._name)  # Output: Rajat\n"
   ]
  },
  {
   "cell_type": "code",
   "execution_count": 12,
   "metadata": {},
   "outputs": [
    {
     "name": "stdout",
     "output_type": "stream",
     "text": [
      "Rajat\n",
      "18\n",
      "['_Person3__age', '_Person3__name', '__class__', '__delattr__', '__dict__', '__dir__', '__doc__', '__eq__', '__format__', '__ge__', '__getattribute__', '__gt__', '__hash__', '__init__', '__init_subclass__', '__le__', '__lt__', '__module__', '__ne__', '__new__', '__reduce__', '__reduce_ex__', '__repr__', '__setattr__', '__sizeof__', '__str__', '__subclasshook__', '__weakref__', 'display']\n"
     ]
    }
   ],
   "source": [
    "# Private Variable Example\n",
    "class Person3:\n",
    "    def __init__(self, name, age):\n",
    "        self.__name = name    # Private variable\n",
    "        self.__age = age      # Private variable\n",
    "    \n",
    "    def display(self):\n",
    "        print(self.__name)  # Accessing private variable within the class\n",
    "        print(self.__age)   # Accessing private variable within the class\n",
    "\n",
    "# Create an instance of Person3\n",
    "person3 = Person3(\"Rajat\", 18)\n",
    "person3.display()  # Output: Rajat 18\n",
    "\n",
    "print(dir(person3))\n",
    "\n",
    "# Attempting to access private variables from outside the class\n",
    "# print(person3.__name)  # AttributeError: 'Person3' object has no attribute '__name'"
   ]
  },
  {
   "cell_type": "code",
   "execution_count": 14,
   "metadata": {},
   "outputs": [
    {
     "name": "stdout",
     "output_type": "stream",
     "text": [
      "Rajat\n",
      "Simba\n"
     ]
    }
   ],
   "source": [
    "# Getter and Setter Methods\n",
    "class Hero:\n",
    "    def __init__(self, name, age):\n",
    "        self.__name = name    # Private variable    \n",
    "    \n",
    "    # Getter Method to get the private variable\n",
    "    def get_name(self):\n",
    "        return self.__name\n",
    "    \n",
    "    # Setter Method to change the private variable\n",
    "    def set_name(self, name):\n",
    "        self.__name = name\n",
    "    \n",
    "# Create an instance of Hero\n",
    "rajat = Hero(\"Rajat\", 18)\n",
    "print(rajat.get_name())  # Output: Rajat\n",
    "rajat.set_name(\"Simba\")\n",
    "print(rajat.get_name())  # Output: Simba"
   ]
  }
 ],
 "metadata": {
  "kernelspec": {
   "display_name": "Python 3",
   "language": "python",
   "name": "python3"
  },
  "language_info": {
   "codemirror_mode": {
    "name": "ipython",
    "version": 3
   },
   "file_extension": ".py",
   "mimetype": "text/x-python",
   "name": "python",
   "nbconvert_exporter": "python",
   "pygments_lexer": "ipython3",
   "version": "3.10.14"
  }
 },
 "nbformat": 4,
 "nbformat_minor": 2
}
