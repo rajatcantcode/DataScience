{
 "cells": [
  {
   "cell_type": "markdown",
   "metadata": {},
   "source": [
    "#### Numpy\n",
    "NumPy is a fundamental library for scientific computing in Python. It provides support for arrays and 2D Arrays, along with a collection of mathematical functions to operate on these data structures.\n",
    "\n",
    "```pip install numpy``` Just Write this in jupiter notebook and run it"
   ]
  },
  {
   "cell_type": "code",
   "execution_count": 3,
   "metadata": {},
   "outputs": [
    {
     "name": "stdout",
     "output_type": "stream",
     "text": [
      "[1 2 3 4 5]\n",
      "<class 'numpy.ndarray'>\n",
      "(5,)\n"
     ]
    }
   ],
   "source": [
    "import numpy as rajatNumpy\n",
    "\n",
    "# Create a 1-D array using numpy\n",
    "array1 = rajatNumpy.array([1, 2, 3, 4, 5])\n",
    "print(array1)  # [1 2 3 4 5]\n",
    "print(type(array1))  # <class 'numpy.ndarray'>\n",
    "print(array1.shape)  # (5,) - The array has 5 elements (in one dimension)\n"
   ]
  },
  {
   "cell_type": "code",
   "execution_count": 5,
   "metadata": {},
   "outputs": [
    {
     "name": "stdout",
     "output_type": "stream",
     "text": [
      "[[ 1  2  3  4  5]\n",
      " [ 4  5  6  7  8]\n",
      " [ 7  8  9 10 11]]\n",
      "(3, 5)\n"
     ]
    }
   ],
   "source": [
    "# Create a 2-D array using numpy\n",
    "array2 = rajatNumpy.array([[1, 2, 3,4,5], [4, 5, 6,7,8], [7, 8, 9,10,11]])\n",
    "print(array2)\n",
    "# [[ 1  2  3  4  5]\n",
    "#  [ 4  5  6  7  8]\n",
    "#  [ 7  8  9 10 11]]\n",
    "print(array2.shape)  # (3, 5) - The array has 3 rows and 5 columns"
   ]
  },
  {
   "cell_type": "code",
   "execution_count": 9,
   "metadata": {},
   "outputs": [
    {
     "name": "stdout",
     "output_type": "stream",
     "text": [
      "[ 1  2  3  4  5  4  5  6  7  8  7  8  9 10 11]\n",
      "(15,)\n",
      "[[ 1  2  3]\n",
      " [ 4  5  4]\n",
      " [ 5  6  7]\n",
      " [ 8  7  8]\n",
      " [ 9 10 11]]\n"
     ]
    }
   ],
   "source": [
    "# We can convert a 2-D array to 1-D array using flatten() method\n",
    "array3 = array2.flatten()\n",
    "print(array3)  # [ 1  2  3  4  5  4  5  6  7  8  7  8  9 10 11]\n",
    "print(array3.shape) # (15,) - The array has 15 elements (in one dimension)\n",
    "\n",
    "# We can convert a 1-D array to 2-D array using reshape() method\n",
    "array4 = array3.reshape(5, 3)\n",
    "print(array4)\n",
    "# [[ 1  2  3]\n",
    "#  [ 4  5  4]\n",
    "#  [ 5  6  7]\n",
    "#  [ 8  7  8]\n",
    "#  [ 9 10 11]]"
   ]
  },
  {
   "cell_type": "code",
   "execution_count": 11,
   "metadata": {},
   "outputs": [
    {
     "name": "stdout",
     "output_type": "stream",
     "text": [
      "[1 2 3 4 5 6 7 8 9]\n"
     ]
    },
    {
     "data": {
      "text/plain": [
       "array([[1., 0., 0.],\n",
       "       [0., 1., 0.],\n",
       "       [0., 0., 1.]])"
      ]
     },
     "execution_count": 11,
     "metadata": {},
     "output_type": "execute_result"
    }
   ],
   "source": [
    "# Another way to create Array \n",
    "array5 = rajatNumpy.arange(1, 10) # Create an array with elements from 1 to 9\n",
    "print(array5)  # [1 2 3 4 5 6 7 8 9]\n",
    "\n",
    "# Matrix of only 1's\n",
    "rajatNumpy.ones((3,4))\n",
    "# array([[1., 1., 1., 1.],\n",
    "#        [1., 1., 1., 1.],\n",
    "#        [1., 1., 1., 1.]])\n",
    "\n",
    "# Identity Matrix - Matrix with 1's in diagonal and 0's elsewhere\n",
    "rajatNumpy.eye(3)\n"
   ]
  },
  {
   "cell_type": "code",
   "execution_count": 14,
   "metadata": {},
   "outputs": [
    {
     "name": "stdout",
     "output_type": "stream",
     "text": [
      "Number of dimensions: 2\n",
      "Size (number of elements): 9\n",
      "Data type of elements: <U21\n",
      "Item size (in bytes): 84\n"
     ]
    }
   ],
   "source": [
    "# Frequently used Attributes on numpy arrays\n",
    "arr = rajatNumpy.array([[1, 2, 3], [4, 5, 6]])\n",
    "\n",
    "print(\"Number of dimensions:\", arr.ndim)  # 2: 2-dimensional array\n",
    "print(\"Size (number of elements):\", arr.size)  # 6: total elements in the array\n",
    "print(\"Data type of elements:\", arr.dtype)  # int32 or int64, depending on platform\n",
    "print(\"Item size (in bytes):\", arr.itemsize)  # Size of each element in bytes (e.g., 4 or 8)"
   ]
  },
  {
   "cell_type": "markdown",
   "metadata": {},
   "source": [
    "### Element-Wise Operations"
   ]
  },
  {
   "cell_type": "markdown",
   "metadata": {},
   "source": [
    "#### Vectorised Operations on Numpy"
   ]
  },
  {
   "cell_type": "code",
   "execution_count": 17,
   "metadata": {},
   "outputs": [
    {
     "name": "stdout",
     "output_type": "stream",
     "text": [
      "Addition: [11 22 33 44 55]\n",
      "Substraction: [ -9 -18 -27 -36 -45]\n",
      "Multiplication: [ 10  40  90 160 250]\n",
      "Division: [0.1 0.1 0.1 0.1 0.1]\n"
     ]
    }
   ],
   "source": [
    "arr1=rajatNumpy.array([1,2,3,4,5])\n",
    "arr2=rajatNumpy.array([10,20,30,40,50])\n",
    "\n",
    "# Element-wise operations\n",
    "# Addition\n",
    "print(\"Addition:\", arr1+arr2)\n",
    "\n",
    "# Substraction\n",
    "print(\"Substraction:\", arr1-arr2)\n",
    "\n",
    "# Multiplication\n",
    "print(\"Multiplication:\", arr1 * arr2)\n",
    "\n",
    "# Division\n",
    "print(\"Division:\", arr1 / arr2)"
   ]
  },
  {
   "cell_type": "markdown",
   "metadata": {},
   "source": [
    "#### Universal Function"
   ]
  },
  {
   "cell_type": "code",
   "execution_count": 21,
   "metadata": {},
   "outputs": [
    {
     "name": "stdout",
     "output_type": "stream",
     "text": [
      "[1.41421356 1.73205081 2.         2.23606798 3.        ]\n",
      "[7.38905610e+00 2.00855369e+01 5.45981500e+01 1.48413159e+02\n",
      " 8.10308393e+03]\n",
      "[ 0.90929743  0.14112001 -0.7568025  -0.95892427  0.41211849]\n",
      "[0.69314718 1.09861229 1.38629436 1.60943791 2.19722458]\n"
     ]
    }
   ],
   "source": [
    "arr=rajatNumpy.array([2,3,4,5,9])\n",
    "\n",
    "# SquareRoot\n",
    "print(rajatNumpy.sqrt(arr))\n",
    "\n",
    "# Exponential\n",
    "print(rajatNumpy.exp(arr))\n",
    "\n",
    "# Sine\n",
    "print(rajatNumpy.sin(arr))\n",
    "\n",
    "# NaturalLog\n",
    "print(rajatNumpy.log(arr))"
   ]
  },
  {
   "cell_type": "markdown",
   "metadata": {},
   "source": [
    "### Array Slicing and Operations"
   ]
  },
  {
   "cell_type": "code",
   "execution_count": 26,
   "metadata": {},
   "outputs": [
    {
     "name": "stdout",
     "output_type": "stream",
     "text": [
      "[[ 6  7]\n",
      " [10 11]]\n",
      "1\n",
      "[[3 4]\n",
      " [7 8]]\n",
      "[[100   2   3   4]\n",
      " [  5   6   7   8]\n",
      " [  9  10  11  12]]\n"
     ]
    }
   ],
   "source": [
    "arr=rajatNumpy.array([[1,2,3,4],[5,6,7,8],[9,10,11,12]])\n",
    "# [[ 1  2  3  4]\n",
    "#  [ 5  6  7  8]\n",
    "#  [ 9 10 11 12]]\n",
    "print(arr[1:,1:3]) # [[ 6  7] [10 11]] - Slicing rows 1 to end and columns 1 to 3\n",
    "print(arr[0][0]) # 1 - Element at 0th row and 0th column\n",
    "print(arr[0:2,2:]) # [[3 4] [7 8]] - Slicing rows 0 to 2 and columns 2 to end\n",
    "arr[0,0]=100 # Modify the element at 0th row and 0th column"
   ]
  },
  {
   "cell_type": "markdown",
   "metadata": {},
   "source": [
    "## Practical Implementation 🔥\n",
    "\n",
    "#### - Statstical Concepts : Normalization (Brief : to have a mean of 0 and standard deviation of 1)"
   ]
  },
  {
   "cell_type": "code",
   "execution_count": null,
   "metadata": {},
   "outputs": [],
   "source": [
    "data = rajatNumpy.array([1, 2, 3, 4, 5, 6, 7, 8, 9, 10])\n",
    "\n",
    "# Mean\n",
    "mean = rajatNumpy.mean(data)\n",
    "print(\"Mean:\", mean)\n",
    "\n",
    "# Median\n",
    "median = rajatNumpy.median(data)\n",
    "print(\"Median:\", median)\n",
    "\n",
    "# Standard deviation\n",
    "std_dev = rajatNumpy.std(data)\n",
    "print(\"Standard Deviation:\", std_dev)\n",
    "\n",
    "# Variance\n",
    "variance = rajatNumpy.var(data)\n",
    "print(\"Variance:\", variance)\n"
   ]
  },
  {
   "cell_type": "markdown",
   "metadata": {},
   "source": [
    "#### - Logical Operation"
   ]
  },
  {
   "cell_type": "code",
   "execution_count": 31,
   "metadata": {},
   "outputs": [
    {
     "data": {
      "text/plain": [
       "array([ 1,  2,  3,  4,  5,  6,  7,  8,  9, 10])"
      ]
     },
     "execution_count": 31,
     "metadata": {},
     "output_type": "execute_result"
    }
   ],
   "source": [
    "## Logical operation\n",
    "data=rajatNumpy.array([1,2,3,4,5,6,7,8,9,10])\n",
    "data>5 # array([False, False, False, False, False,  True,  True,  True,  True, True])\n",
    "data[data>5] # array([ 6,  7,  8,  9, 10])\n",
    "# Note : 'and' wont work instead Logical '&' will be used\n",
    "data[(data>=5) & (data<=8)] # array([5, 6, 7, 8])\n",
    "\n"
   ]
  }
 ],
 "metadata": {
  "kernelspec": {
   "display_name": "Python 3",
   "language": "python",
   "name": "python3"
  },
  "language_info": {
   "codemirror_mode": {
    "name": "ipython",
    "version": 3
   },
   "file_extension": ".py",
   "mimetype": "text/x-python",
   "name": "python",
   "nbconvert_exporter": "python",
   "pygments_lexer": "ipython3",
   "version": "3.10.14"
  }
 },
 "nbformat": 4,
 "nbformat_minor": 2
}
