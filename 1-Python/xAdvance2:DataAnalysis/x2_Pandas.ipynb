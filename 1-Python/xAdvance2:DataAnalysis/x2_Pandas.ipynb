{
 "cells": [
  {
   "cell_type": "markdown",
   "metadata": {},
   "source": [
    "#### Pandas: DataFrame and Series\n",
    "\n",
    "Pandas is a popular Python library for data manipulation and analysis. It provides easy-to-use data structures and functions that allow for fast and flexible data handling, making it a go-to tool for data analysis and data cleaning tasks.\n",
    "\n",
    "**Key Data Structures in Pandas:**\n",
    "\n",
    "1. **Series**:\n",
    "   - A **Series** is a one-dimensional labeled array that can hold data of any type (integers, strings, floats, etc.).\n",
    "   - It is similar to a column in a spreadsheet or a single column in a DataFrame.\n",
    "   - Each element in a Series has an associated label, called an **index**.\n"
   ]
  },
  {
   "cell_type": "markdown",
   "metadata": {},
   "source": [
    "2. **DataFrame**:\n",
    "   - A **DataFrame** is a two-dimensional, size-mutable, and heterogeneous data structure with labeled axes (rows and columns).\n",
    "   - It is similar to a spreadsheet or a SQL table, or a dictionary of Series objects.\n",
    "   - A DataFrame can store different types of data (such as integers, floats, and strings) in different columns.\n",
    "\n",
    "\n"
   ]
  }
 ],
 "metadata": {
  "language_info": {
   "name": "python"
  }
 },
 "nbformat": 4,
 "nbformat_minor": 2
}
