{
 "cells": [
  {
   "cell_type": "markdown",
   "metadata": {},
   "source": [
    "#### SQL And SQLite\n",
    "SQL (Structured Query Language) is the standard language used for managing and manipulating relational databases.      \n",
    "SQLite is a self-contained, serverless, and zero-configuration database engine, commonly used for embedded database systems. In Python3 ,SQLite comes preinstalled"
   ]
  },
  {
   "cell_type": "code",
   "execution_count": 22,
   "metadata": {},
   "outputs": [
    {
     "data": {
      "text/plain": [
       "<sqlite3.Cursor at 0x10a9979c0>"
      ]
     },
     "execution_count": 22,
     "metadata": {},
     "output_type": "execute_result"
    }
   ],
   "source": [
    "import sqlite3\n",
    "\n",
    "# Connect to SQLite Database\n",
    "connection = sqlite3.connect('x1_data.db') # If the database does not exist, it will be created\n",
    "\n",
    "# Cursor is required to execute queries\n",
    "# Create a cursor object using the cursor() method\n",
    "cursor = connection.cursor()\n",
    "\n",
    "# Create a table\n",
    "cursor.execute(\n",
    "    '''CREATE TABLE IF NOT EXISTS users\n",
    "            (\n",
    "                id INTEGER PRIMARY KEY,\n",
    "                name TEXT Not NULL,\n",
    "                age INTEGER,\n",
    "                email TEXT\n",
    "            )''')\n",
    "\n",
    "# Commit the changes\n",
    "connection.commit()\n",
    "\n",
    "# Checking if the table was created\n",
    "cursor.execute('SELECT * FROM users') # <sqlite3.Cursor at 0x10449e8c0>"
   ]
  },
  {
   "cell_type": "markdown",
   "metadata": {},
   "source": [
    "### Whenever Using DB make sure to use try-except block\n",
    "\n",
    "\n",
    "##### CREATE"
   ]
  },
  {
   "cell_type": "code",
   "execution_count": 23,
   "metadata": {},
   "outputs": [],
   "source": [
    "import sqlite3\n",
    "\n",
    "#### Inserting single data into the table\n",
    "try:\n",
    "    # Create a connection to the database\n",
    "    connection = sqlite3.connect('x1_data.db')\n",
    "    cursor = connection.cursor()\n",
    "\n",
    "    # Insert single data into the table\n",
    "    cursor.execute('INSERT INTO users (name, age, email) VALUES (\"Raj\", 18, \"raj.noida@gmail.com\")')\n",
    "    # Commit the changes\n",
    "    connection.commit()\n",
    "except Exception as e:\n",
    "    print(e)\n",
    "finally:\n",
    "    # Close the cursor and connection\n",
    "    cursor.close()\n",
    "    connection.close()\n",
    "\n",
    "#### Inserting multiple data into the table\n",
    "users = [\n",
    "    (\"Rajat\", 18, \"rajatcantcode@gmail.com\"),\n",
    "    (\"Simba\", 3, \"simba@simba.com\"),\n",
    "    (\"Coco\", 4, \"coco@gmail.com\")\n",
    "]\n",
    "\n",
    "try:\n",
    "    # Reopen the connection and cursor\n",
    "    connection = sqlite3.connect('x1_data.db')\n",
    "    cursor = connection.cursor()\n",
    "\n",
    "    # Use `executemany` to insert multiple rows at once\n",
    "    cursor.executemany('INSERT INTO users (name, age, email) VALUES (?,?,?)', users)\n",
    "    # Commit the changes again\n",
    "    connection.commit()\n",
    "except Exception as e:\n",
    "    print(e)\n",
    "finally:\n",
    "    # Close the cursor and connection\n",
    "    cursor.close()\n",
    "    connection.close()\n"
   ]
  },
  {
   "cell_type": "markdown",
   "metadata": {},
   "source": [
    "#### READ"
   ]
  },
  {
   "cell_type": "code",
   "execution_count": 24,
   "metadata": {},
   "outputs": [
    {
     "name": "stdout",
     "output_type": "stream",
     "text": [
      "ID: 1, Name: Raj, Age: 18, Email: raj.noida@gmail.com\n",
      "ID: 2, Name: Rajat, Age: 18, Email: rajatcantcode@gmail.com\n",
      "ID: 3, Name: Simba, Age: 3, Email: simba@simba.com\n",
      "ID: 4, Name: Coco, Age: 4, Email: coco@gmail.com\n"
     ]
    }
   ],
   "source": [
    "try:\n",
    "    # Reopen the connection and cursor\n",
    "    connection = sqlite3.connect('x1_data.db')\n",
    "    cursor = connection.cursor()\n",
    "\n",
    "    # Query the data from the table\n",
    "    cursor.execute('SELECT * FROM users')\n",
    "    rows = cursor.fetchall()\n",
    "\n",
    "    # Print the rows in a formatted way\n",
    "    for row in rows:\n",
    "        print(f\"ID: {row[0]}, Name: {row[1]}, Age: {row[2]}, Email: {row[3]}\")\n",
    "\n",
    "except sqlite3.Error as e:\n",
    "    print(f\"An error occurred: {e}\")\n",
    "\n",
    "finally:\n",
    "    # Close the cursor and connection\n",
    "    cursor.close()\n",
    "    connection.close()\n"
   ]
  },
  {
   "cell_type": "markdown",
   "metadata": {},
   "source": [
    "#### UPDATE"
   ]
  },
  {
   "cell_type": "code",
   "execution_count": 26,
   "metadata": {},
   "outputs": [],
   "source": [
    "try:\n",
    "    # Reopen the connection and cursor\n",
    "    connection = sqlite3.connect('x1_data.db')\n",
    "    cursor = connection.cursor()\n",
    "\n",
    "    # Update the data in the table\n",
    "    cursor.execute('UPDATE users SET age = 100 WHERE name = \"Raj\"')\n",
    "    # Commit the changes\n",
    "    connection.commit()\n",
    "\n",
    "except sqlite3.Error as e:\n",
    "    print(f\"An error occurred: {e}\")\n",
    "\n",
    "finally:\n",
    "    # Close the cursor and connection\n",
    "    cursor.close()\n",
    "    connection.close()\n"
   ]
  },
  {
   "cell_type": "markdown",
   "metadata": {},
   "source": [
    "###### Checking the updated Data"
   ]
  },
  {
   "cell_type": "code",
   "execution_count": 27,
   "metadata": {},
   "outputs": [
    {
     "name": "stdout",
     "output_type": "stream",
     "text": [
      "ID: 1, Name: Raj, Age: 100, Email: raj.noida@gmail.com\n",
      "ID: 2, Name: Rajat, Age: 18, Email: rajatcantcode@gmail.com\n",
      "ID: 3, Name: Simba, Age: 3, Email: simba@simba.com\n",
      "ID: 4, Name: Coco, Age: 4, Email: coco@gmail.com\n"
     ]
    }
   ],
   "source": [
    "# Checking the updated data\n",
    "try:\n",
    "    # Reopen the connection and cursor\n",
    "    connection = sqlite3.connect('x1_data.db')\n",
    "    cursor = connection.cursor()\n",
    "\n",
    "    # Query the data from the table\n",
    "    cursor.execute('SELECT * FROM users')\n",
    "    rows = cursor.fetchall()\n",
    "\n",
    "    # Print the rows in a formatted way\n",
    "    for row in rows:\n",
    "        print(f\"ID: {row[0]}, Name: {row[1]}, Age: {row[2]}, Email: {row[3]}\")\n",
    "\n",
    "except sqlite3.Error as e:\n",
    "    print(f\"An error occurred: {e}\")\n",
    "\n",
    "finally:\n",
    "    # Close the cursor and connection\n",
    "    cursor.close()\n",
    "    connection.close()\n"
   ]
  },
  {
   "cell_type": "markdown",
   "metadata": {},
   "source": [
    "#### Delete"
   ]
  },
  {
   "cell_type": "code",
   "execution_count": 28,
   "metadata": {},
   "outputs": [],
   "source": [
    "try:\n",
    "    # Reopen the connection and cursor\n",
    "    connection = sqlite3.connect('x1_data.db')\n",
    "    cursor = connection.cursor()\n",
    "\n",
    "    # Delete the data from the table\n",
    "    cursor.execute('DELETE FROM users WHERE name = \"Raj\"')\n",
    "    # Commit the changes\n",
    "    connection.commit()\n",
    "\n",
    "except sqlite3.Error as e:\n",
    "    print(f\"An error occurred: {e}\")\n",
    "\n",
    "finally:\n",
    "    # Close the cursor and connection\n",
    "    cursor.close()\n",
    "    connection.close()"
   ]
  },
  {
   "cell_type": "markdown",
   "metadata": {},
   "source": [
    "###### Checking the updated Data"
   ]
  },
  {
   "cell_type": "code",
   "execution_count": 29,
   "metadata": {},
   "outputs": [
    {
     "name": "stdout",
     "output_type": "stream",
     "text": [
      "ID: 2, Name: Rajat, Age: 18, Email: rajatcantcode@gmail.com\n",
      "ID: 3, Name: Simba, Age: 3, Email: simba@simba.com\n",
      "ID: 4, Name: Coco, Age: 4, Email: coco@gmail.com\n"
     ]
    }
   ],
   "source": [
    "# Checking the updated data\n",
    "try:\n",
    "    # Reopen the connection and cursor\n",
    "    connection = sqlite3.connect('x1_data.db')\n",
    "    cursor = connection.cursor()\n",
    "\n",
    "    # Query the data from the table\n",
    "    cursor.execute('SELECT * FROM users')\n",
    "    rows = cursor.fetchall()\n",
    "\n",
    "    # Print the rows in a formatted way\n",
    "    for row in rows:\n",
    "        print(f\"ID: {row[0]}, Name: {row[1]}, Age: {row[2]}, Email: {row[3]}\")\n",
    "\n",
    "except sqlite3.Error as e:\n",
    "    print(f\"An error occurred: {e}\")\n",
    "\n",
    "finally:\n",
    "    # Close the cursor and connection\n",
    "    cursor.close()\n",
    "    connection.close()\n"
   ]
  }
 ],
 "metadata": {
  "kernelspec": {
   "display_name": "Python 3",
   "language": "python",
   "name": "python3"
  },
  "language_info": {
   "codemirror_mode": {
    "name": "ipython",
    "version": 3
   },
   "file_extension": ".py",
   "mimetype": "text/x-python",
   "name": "python",
   "nbconvert_exporter": "python",
   "pygments_lexer": "ipython3",
   "version": "3.10.14"
  }
 },
 "nbformat": 4,
 "nbformat_minor": 2
}
