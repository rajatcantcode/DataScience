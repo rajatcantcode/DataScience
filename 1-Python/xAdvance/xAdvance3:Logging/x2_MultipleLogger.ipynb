{
 "cells": [
  {
   "cell_type": "code",
   "execution_count": 2,
   "metadata": {},
   "outputs": [
    {
     "name": "stderr",
     "output_type": "stream",
     "text": [
      "2024-09-13 13:28:26 - module1 - DEBUG - This is debug message for module1\n",
      "2024-09-13 13:28:26 - module2 - WARNING - This is a warning message for module 2\n",
      "2024-09-13 13:28:26 - module2 - ERROR - This is an error message\n"
     ]
    }
   ],
   "source": [
    "import logging\n",
    "# create a logger for module 1\n",
    "logger1=logging.getLogger(\"module1\")\n",
    "logger1.setLevel(logging.DEBUG)\n",
    "\n",
    "# create a logger for module 2\n",
    "logger2=logging.getLogger(\"module2\")\n",
    "logger2.setLevel(logging.WARNING)\n",
    "\n",
    "# Configure logging settings\n",
    "logging.basicConfig(\n",
    "    level=logging.DEBUG,\n",
    "    format='%(asctime)s - %(name)s - %(levelname)s - %(message)s',\n",
    "    datefmt='%Y-%m-%d %H:%M:%S'\n",
    ")\n",
    "\n",
    "## log message with different loggers\n",
    "logger1.debug(\"This is debug message for module1\")\n",
    "logger2.warning(\"This is a warning message for module 2\")\n",
    "logger2.error(\"This is an error message\")"
   ]
  },
  {
   "cell_type": "markdown",
   "metadata": {},
   "source": [
    "#### Practical Real Life"
   ]
  },
  {
   "cell_type": "code",
   "execution_count": 8,
   "metadata": {},
   "outputs": [
    {
     "name": "stderr",
     "output_type": "stream",
     "text": [
      "2024-09-13 16:49:31 - Rajat's Code - DEBUG - Dividing two numbers\n",
      "2024-09-13 16:49:31 - Rajat's Code - ERROR - Division by zero\n"
     ]
    }
   ],
   "source": [
    "import logging\n",
    "\n",
    "# Configure logging settings\n",
    "logging.basicConfig(\n",
    "    level=logging.DEBUG,\n",
    "    format='%(asctime)s - %(name)s - %(levelname)s - %(message)s',\n",
    "    datefmt='%Y-%m-%d %H:%M:%S',\n",
    "    handlers=[\n",
    "        logging.FileHandler('x2.log'),\n",
    "        logging.StreamHandler()  # This handler logs to the console\n",
    "    ]\n",
    ")\n",
    "\n",
    "logger = logging.getLogger(\"Rajat's Code\")\n",
    "\n",
    "def add(a,b):\n",
    "    \"\"\"Adds two numbers and logs the operation.\"\"\"\n",
    "    try:\n",
    "        logger.debug(\"Adding two numbers\")\n",
    "        return a + b\n",
    "    except Exception as e:\n",
    "        logger.error(f\"Error adding numbers: {e}\")\n",
    "        return None\n",
    "\n",
    "def subtract(a,b):\n",
    "    \n",
    "    \"\"\"Subtracts the second number from the first and logs the operation.\"\"\"\n",
    "    try:\n",
    "       logger.debug(\"Subtracting two numbers\")\n",
    "       return a - b\n",
    "    except Exception as e:\n",
    "       logger.error(f\"Error subtracting numbers: {e}\")\n",
    "       return None\n",
    "\n",
    "def multiply(a,b):\n",
    "    \"\"\"Multiplies two numbers and logs the operation.\"\"\"\n",
    "    try:\n",
    "        logger.debug(\"Multiplying two numbers\")\n",
    "        return a * b\n",
    "    except Exception as e:\n",
    "        logger.error(f\"Error multiplying numbers: {e}\")\n",
    "        return None\n",
    "\n",
    "def divide(a,b):\n",
    "    \"\"\"Divides the first number by the second and logs the operation.\"\"\"\n",
    "    try:\n",
    "        result = a / b\n",
    "        logger.debug(\"Dividing two numbers\")\n",
    "        return result\n",
    "    except ZeroDivisionError:\n",
    "        logger.error(\"Division by zero\")\n",
    "        return None\n",
    "    \n",
    "divide(10,1)\n",
    "divide(10,0)"
   ]
  }
 ],
 "metadata": {
  "kernelspec": {
   "display_name": "Python 3",
   "language": "python",
   "name": "python3"
  },
  "language_info": {
   "codemirror_mode": {
    "name": "ipython",
    "version": 3
   },
   "file_extension": ".py",
   "mimetype": "text/x-python",
   "name": "python",
   "nbconvert_exporter": "python",
   "pygments_lexer": "ipython3",
   "version": "3.10.14"
  }
 },
 "nbformat": 4,
 "nbformat_minor": 2
}
