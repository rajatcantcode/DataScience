{
 "cells": [
  {
   "cell_type": "markdown",
   "metadata": {},
   "source": [
    "#### Pandas: DataFrame and Series\n",
    "\n",
    "Pandas is a popular Python library for data manipulation and analysis. It provides easy-to-use data structures and functions that allow for fast and flexible data handling, making it a go-to tool for data analysis and data cleaning tasks.\n",
    "\n",
    "**Key Data Structures in Pandas:** \n",
    "\n",
    "1. **Series**:\n",
    "   - A **Series** is a one-dimensional labeled array that can hold data of any type (integers, strings, floats, etc.).\n",
    "   - It is similar to a column in a spreadsheet or a single column in a DataFrame.\n",
    "   - Each element in a Series has an associated label, called an **index**.\n"
   ]
  },
  {
   "cell_type": "code",
   "execution_count": 3,
   "metadata": {},
   "outputs": [
    {
     "name": "stdout",
     "output_type": "stream",
     "text": [
      "0    Rajat\n",
      "1    Simba\n",
      "2    Rajat\n",
      "3    Simba\n",
      "4    Rajat\n",
      "5    Simba\n",
      "6    Rajat\n",
      "7    Simba\n",
      "8    Rajat\n",
      "9    Simba\n",
      "dtype: object\n"
     ]
    },
    {
     "data": {
      "text/plain": [
       "pandas.core.series.Series"
      ]
     },
     "execution_count": 3,
     "metadata": {},
     "output_type": "execute_result"
    }
   ],
   "source": [
    "import pandas as pd\n",
    "data = [\"Rajat\",\"Simba\",\"Rajat\",\"Simba\",\"Rajat\",\"Simba\",\"Rajat\",\"Simba\",\"Rajat\",\"Simba\"]\n",
    "pdSeries = pd.Series(data)\n",
    "print(pdSeries) # Indexing is already done by pandas\n",
    "type(pdSeries) # pandas.core.series.Series"
   ]
  },
  {
   "cell_type": "code",
   "execution_count": 8,
   "metadata": {},
   "outputs": [
    {
     "name": "stdout",
     "output_type": "stream",
     "text": [
      "Name            Rajat\n",
      "Age                18\n",
      "City    Greater Noida\n",
      "dtype: object\n",
      "-----------------\n",
      "a    Rajat\n",
      "b    Simba\n",
      "c    Rajat\n",
      "d    Simba\n",
      "dtype: object\n"
     ]
    }
   ],
   "source": [
    "# Create a series from Dictionary\n",
    "data = {\"Name\":\"Rajat\",\"Age\":18,\"City\":\"Greater Noida\"}\n",
    "pdSeries = pd.Series(data)\n",
    "print(pdSeries) # Key is used as index in this case\n",
    "\n",
    "print(\"-----------------\")\n",
    "\n",
    "# Create a series from List with custom index\n",
    "data = [\"Rajat\",\"Simba\",\"Rajat\",\"Simba\"]\n",
    "index = [\"a\",\"b\",\"c\",\"d\"] # Note Index = data length\n",
    "pdSeries = pd.Series(data,index=index)\n",
    "print(pdSeries) # Custom index is used in this case\n"
   ]
  },
  {
   "cell_type": "markdown",
   "metadata": {},
   "source": [
    "2. **DataFrame**:\n",
    "   - A **DataFrame** is a two-dimensional, size-mutable, and heterogeneous data structure with labeled axes (rows and columns).\n",
    "   - It is similar to a spreadsheet or a SQL table, or a dictionary of Series objects.\n",
    "   - A DataFrame can store different types of data (such as integers, floats, and strings) in different columns.\n",
    "\n",
    "\n"
   ]
  },
  {
   "cell_type": "code",
   "execution_count": 4,
   "metadata": {},
   "outputs": [
    {
     "name": "stdout",
     "output_type": "stream",
     "text": [
      "<class 'dict'>\n",
      "    Name  Age           City\n",
      "0  Rajat   18  Greater Noida\n",
      "1  Simba    3          Noida\n",
      "2  Rajat   18  Greater Noida\n",
      "3  Simba    3          Noida\n",
      "<class 'pandas.core.frame.DataFrame'>\n"
     ]
    }
   ],
   "source": [
    "import pandas as pd\n",
    "\n",
    "# Create a Dataframe from a Dictionary\n",
    "data = {\n",
    "    \"Name\":[\"Rajat\",\"Simba\",\"Rajat\",\"Simba\"],\n",
    "    \"Age\":[18,3,18,3],\n",
    "    \"City\":[\"Greater Noida\",\"Noida\",\"Greater Noida\",\"Noida\"]\n",
    "}\n",
    "pdDataFrame = pd.DataFrame(data)\n",
    "print(pdDataFrame) # Indexing is already done by pandas\n",
    "print(type(pdDataFrame)) # pandas.core.frame.DataFrame"
   ]
  },
  {
   "cell_type": "code",
   "execution_count": 7,
   "metadata": {},
   "outputs": [
    {
     "name": "stdout",
     "output_type": "stream",
     "text": [
      "           Name  Age           City\n",
      "0  [Rajat, Raj]   18  Greater Noida\n",
      "1         Simba    3          Noida\n",
      "2         Rajat   18  Greater Noida\n",
      "3         Simba    3          Noida\n"
     ]
    }
   ],
   "source": [
    "# Create a DataFrame from List of Dictionary\n",
    "data = [\n",
    "    {\"Name\":[\"Rajat\",\"Raj\"],\"Age\":18,\"City\":\"Greater Noida\"},\n",
    "    {\"Name\":\"Simba\",\"Age\":3,\"City\":\"Noida\"},\n",
    "    {\"Name\":\"Rajat\",\"Age\":18,\"City\":\"Greater Noida\"},\n",
    "    {\"Name\":\"Simba\",\"Age\":3,\"City\":\"Noida\"}\n",
    "]\n",
    "pdDataFrame = pd.DataFrame(data)\n",
    "print(pdDataFrame) "
   ]
  },
  {
   "cell_type": "code",
   "execution_count": 15,
   "metadata": {},
   "outputs": [
    {
     "data": {
      "text/html": [
       "<div>\n",
       "<style scoped>\n",
       "    .dataframe tbody tr th:only-of-type {\n",
       "        vertical-align: middle;\n",
       "    }\n",
       "\n",
       "    .dataframe tbody tr th {\n",
       "        vertical-align: top;\n",
       "    }\n",
       "\n",
       "    .dataframe thead th {\n",
       "        text-align: right;\n",
       "    }\n",
       "</style>\n",
       "<table border=\"1\" class=\"dataframe\">\n",
       "  <thead>\n",
       "    <tr style=\"text-align: right;\">\n",
       "      <th></th>\n",
       "      <th>Transaction ID</th>\n",
       "      <th>Date</th>\n",
       "      <th>Product Category</th>\n",
       "      <th>Product Name</th>\n",
       "      <th>Units Sold</th>\n",
       "      <th>Unit Price</th>\n",
       "      <th>Total Revenue</th>\n",
       "      <th>Region</th>\n",
       "      <th>Payment Method</th>\n",
       "    </tr>\n",
       "  </thead>\n",
       "  <tbody>\n",
       "    <tr>\n",
       "      <th>0</th>\n",
       "      <td>10001</td>\n",
       "      <td>2024-01-01</td>\n",
       "      <td>Electronics</td>\n",
       "      <td>iPhone 14 Pro</td>\n",
       "      <td>2</td>\n",
       "      <td>999.99</td>\n",
       "      <td>1999.98</td>\n",
       "      <td>North America</td>\n",
       "      <td>Credit Card</td>\n",
       "    </tr>\n",
       "    <tr>\n",
       "      <th>1</th>\n",
       "      <td>10002</td>\n",
       "      <td>2024-01-02</td>\n",
       "      <td>Home Appliances</td>\n",
       "      <td>Dyson V11 Vacuum</td>\n",
       "      <td>1</td>\n",
       "      <td>499.99</td>\n",
       "      <td>499.99</td>\n",
       "      <td>Europe</td>\n",
       "      <td>PayPal</td>\n",
       "    </tr>\n",
       "    <tr>\n",
       "      <th>2</th>\n",
       "      <td>10003</td>\n",
       "      <td>2024-01-03</td>\n",
       "      <td>Clothing</td>\n",
       "      <td>Levi's 501 Jeans</td>\n",
       "      <td>3</td>\n",
       "      <td>69.99</td>\n",
       "      <td>209.97</td>\n",
       "      <td>Asia</td>\n",
       "      <td>Debit Card</td>\n",
       "    </tr>\n",
       "  </tbody>\n",
       "</table>\n",
       "</div>"
      ],
      "text/plain": [
       "   Transaction ID        Date Product Category      Product Name  Units Sold  \\\n",
       "0           10001  2024-01-01      Electronics     iPhone 14 Pro           2   \n",
       "1           10002  2024-01-02  Home Appliances  Dyson V11 Vacuum           1   \n",
       "2           10003  2024-01-03         Clothing  Levi's 501 Jeans           3   \n",
       "\n",
       "   Unit Price  Total Revenue         Region Payment Method  \n",
       "0      999.99        1999.98  North America    Credit Card  \n",
       "1      499.99         499.99         Europe         PayPal  \n",
       "2       69.99         209.97           Asia     Debit Card  "
      ]
     },
     "execution_count": 15,
     "metadata": {},
     "output_type": "execute_result"
    }
   ],
   "source": [
    "# Reading a CSV file\n",
    "data = pd.read_csv(\"x1.csv\")\n",
    "data.head(3) # First 3 rows\n",
    "# print(data) # To print all the rows\n",
    "\n"
   ]
  },
  {
   "cell_type": "code",
   "execution_count": 53,
   "metadata": {},
   "outputs": [
    {
     "data": {
      "text/plain": [
       "'iPhone 14 Pro'"
      ]
     },
     "execution_count": 53,
     "metadata": {},
     "output_type": "execute_result"
    }
   ],
   "source": [
    "# Accessing Above data using pandas\n",
    "\n",
    "# Columns\n",
    "# print(data[\"Product Name\"]) # Accessing a single column\n",
    "# print(data[[\"Product Name\",\"Unit Price\"]]) # Accessing multiple columns\n",
    "\n",
    "# Rows - iloc and loc\n",
    "\n",
    "# .iloc: Selects data by integer positions (like array indexing).\n",
    "# data.iloc[0] # Accessing a single row\n",
    "# data.iloc[0:3] # Accessing multiple rows\n",
    "# data.iloc[0,3] # Accessing a single cell of the 0th index row\n",
    "# data.iloc[0:3,0:3] # Accessing multiple cells of the 0th index row\n",
    "\n",
    "# .loc: Selects data by labels (name/index).\n",
    "# data.loc[0,\"Product Name\"] # Accessing a single cell of the 0th index row\n",
    "# data.loc[0:3,\"Product Name\"] # Accessing multiple rows with a single column\n",
    "# data.loc[0:3,[\"Product Name\",\"Unit Price\"]] # Accessing multiple cells of different rows\n",
    "# data.loc[data[\"Unit Price\"]>1000] # Accessing rows based on condition\n",
    "# data.loc[data['Transaction ID'] == 10008, 'Product Name']\n",
    "\n",
    "# Accessing a single cell\n",
    "data.at[0,\"Product Name\"]\n",
    "data.iat[0,3] # Row index, Column index"
   ]
  },
  {
   "cell_type": "code",
   "execution_count": 4,
   "metadata": {},
   "outputs": [
    {
     "data": {
      "text/html": [
       "<div>\n",
       "<style scoped>\n",
       "    .dataframe tbody tr th:only-of-type {\n",
       "        vertical-align: middle;\n",
       "    }\n",
       "\n",
       "    .dataframe tbody tr th {\n",
       "        vertical-align: top;\n",
       "    }\n",
       "\n",
       "    .dataframe thead th {\n",
       "        text-align: right;\n",
       "    }\n",
       "</style>\n",
       "<table border=\"1\" class=\"dataframe\">\n",
       "  <thead>\n",
       "    <tr style=\"text-align: right;\">\n",
       "      <th></th>\n",
       "      <th>Transaction ID</th>\n",
       "      <th>Date</th>\n",
       "      <th>Product Category</th>\n",
       "      <th>Product Name</th>\n",
       "      <th>Units Sold</th>\n",
       "      <th>Total Revenue</th>\n",
       "      <th>Region</th>\n",
       "      <th>Payment Method</th>\n",
       "    </tr>\n",
       "  </thead>\n",
       "  <tbody>\n",
       "    <tr>\n",
       "      <th>1</th>\n",
       "      <td>10002</td>\n",
       "      <td>2024-01-02</td>\n",
       "      <td>Home Appliances</td>\n",
       "      <td>Dyson V11 Vacuum</td>\n",
       "      <td>1</td>\n",
       "      <td>499.99</td>\n",
       "      <td>Europe</td>\n",
       "      <td>PayPal</td>\n",
       "    </tr>\n",
       "    <tr>\n",
       "      <th>2</th>\n",
       "      <td>10003</td>\n",
       "      <td>2024-01-03</td>\n",
       "      <td>Clothing</td>\n",
       "      <td>Levi's 501 Jeans</td>\n",
       "      <td>3</td>\n",
       "      <td>209.97</td>\n",
       "      <td>Asia</td>\n",
       "      <td>Debit Card</td>\n",
       "    </tr>\n",
       "    <tr>\n",
       "      <th>3</th>\n",
       "      <td>10004</td>\n",
       "      <td>2024-01-04</td>\n",
       "      <td>Books</td>\n",
       "      <td>The Da Vinci Code</td>\n",
       "      <td>4</td>\n",
       "      <td>63.96</td>\n",
       "      <td>North America</td>\n",
       "      <td>Credit Card</td>\n",
       "    </tr>\n",
       "  </tbody>\n",
       "</table>\n",
       "</div>"
      ],
      "text/plain": [
       "   Transaction ID        Date Product Category       Product Name  Units Sold  \\\n",
       "1           10002  2024-01-02  Home Appliances   Dyson V11 Vacuum           1   \n",
       "2           10003  2024-01-03         Clothing   Levi's 501 Jeans           3   \n",
       "3           10004  2024-01-04            Books  The Da Vinci Code           4   \n",
       "\n",
       "   Total Revenue         Region Payment Method  \n",
       "1         499.99         Europe         PayPal  \n",
       "2         209.97           Asia     Debit Card  \n",
       "3          63.96  North America    Credit Card  "
      ]
     },
     "execution_count": 4,
     "metadata": {},
     "output_type": "execute_result"
    }
   ],
   "source": [
    "import pandas as pd\n",
    "# Data Manipulation with Pandas - Adding, Removing, Changing Columns and Rows\n",
    "\n",
    "# Reading a CSV file\n",
    "data = pd.read_csv(\"x1.csv\")\n",
    "\n",
    "# Adding a new column\n",
    "data[\"x\"] = \"Rajat\" # Changing the value of a column\n",
    "data.head(3)\n",
    "\n",
    "# Remove a column\n",
    "data = data.drop(\"x\", axis=1)\n",
    "data.head(3)\n",
    "\n",
    "# inplace = True will make the changes in the original dataframe itself \n",
    "# and will not return anything.\n",
    "data.drop(\"Unit Price\", axis=1, inplace=True)\n",
    "data.head(3)\n",
    "\n",
    "# Drop a row\n",
    "data.drop(0, axis=0, inplace=True)\n",
    "data.head(3)"
   ]
  },
  {
   "cell_type": "code",
   "execution_count": 5,
   "metadata": {},
   "outputs": [
    {
     "name": "stdout",
     "output_type": "stream",
     "text": [
      "<class 'pandas.core.frame.DataFrame'>\n",
      "RangeIndex: 239 entries, 1 to 239\n",
      "Data columns (total 8 columns):\n",
      " #   Column            Non-Null Count  Dtype  \n",
      "---  ------            --------------  -----  \n",
      " 0   Transaction ID    239 non-null    int64  \n",
      " 1   Date              239 non-null    object \n",
      " 2   Product Category  239 non-null    object \n",
      " 3   Product Name      239 non-null    object \n",
      " 4   Units Sold        239 non-null    int64  \n",
      " 5   Total Revenue     239 non-null    float64\n",
      " 6   Region            239 non-null    object \n",
      " 7   Payment Method    239 non-null    object \n",
      "dtypes: float64(1), int64(2), object(5)\n",
      "memory usage: 15.1+ KB\n"
     ]
    },
    {
     "data": {
      "text/plain": [
       "Transaction ID        int64\n",
       "Date                 object\n",
       "Product Category     object\n",
       "Product Name         object\n",
       "Units Sold            int64\n",
       "Total Revenue       float64\n",
       "Region               object\n",
       "Payment Method       object\n",
       "dtype: object"
      ]
     },
     "execution_count": 5,
     "metadata": {},
     "output_type": "execute_result"
    }
   ],
   "source": [
    "# More Methods for Data Manipulation\n",
    "data.describe() # Summary of the data\n",
    "data.info() # Information about the data\n",
    "data.shape # Shape of the data\n",
    "data.columns # Columns of the data\n",
    "data.index # Index of the data\n",
    "data.tail(5) # last 5 rows\n",
    "data.dtypes"
   ]
  }
 ],
 "metadata": {
  "kernelspec": {
   "display_name": "Python 3",
   "language": "python",
   "name": "python3"
  },
  "language_info": {
   "codemirror_mode": {
    "name": "ipython",
    "version": 3
   },
   "file_extension": ".py",
   "mimetype": "text/x-python",
   "name": "python",
   "nbconvert_exporter": "python",
   "pygments_lexer": "ipython3",
   "version": "3.10.14"
  }
 },
 "nbformat": 4,
 "nbformat_minor": 2
}
