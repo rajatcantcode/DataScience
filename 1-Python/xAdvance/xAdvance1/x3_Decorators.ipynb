{
 "cells": [
  {
   "cell_type": "markdown",
   "metadata": {},
   "source": [
    "Decorators are a powerful tool in Python to modify or extend the behavior of functions or methods.\n",
    "They are commonly used to add functionality to functions or methods without modifying their actual code.\n",
    "\n",
    "Before understanding Decorators it's essential to know about copy function & closures"
   ]
  },
  {
   "cell_type": "code",
   "execution_count": 2,
   "metadata": {},
   "outputs": [
    {
     "name": "stdout",
     "output_type": "stream",
     "text": [
      "Hello Rajat\n",
      "Hello Rajat\n"
     ]
    }
   ],
   "source": [
    "# Function Copy\n",
    "def sayHello():\n",
    "    print(\"Hello Rajat\")\n",
    "\n",
    "# Function Copy\n",
    "x = sayHello\n",
    "x()\n",
    "\n",
    "# Deleting the original function sayHello\n",
    "del sayHello\n",
    "x()"
   ]
  },
  {
   "cell_type": "code",
   "execution_count": 9,
   "metadata": {},
   "outputs": [
    {
     "name": "stdout",
     "output_type": "stream",
     "text": [
      "Hi Rajat ! Closures touch up\n"
     ]
    }
   ],
   "source": [
    "#Closures refer to a function that returns another function and accesses variables from its parent function.\n",
    "def outerFunction(msg):\n",
    "    message = msg\n",
    "    def innerFunction():\n",
    "        print(message+\" Closures touch up\")\n",
    "    return innerFunction\n",
    "\n",
    "result = outerFunction(\"Hi Rajat !\")\n",
    "result()"
   ]
  },
  {
   "cell_type": "code",
   "execution_count": 27,
   "metadata": {},
   "outputs": [
    {
     "name": "stdout",
     "output_type": "stream",
     "text": [
      "Wrapper executed 'this' line before 'sayHelloToRajat' function\n",
      "Hi Rajat\n",
      "------------------\n",
      "Wrapper executed 'this' line before 'sayHelloToRajat' function\n",
      "Hi Rajat\n"
     ]
    }
   ],
   "source": [
    "# Decorators - modify or extend the behavior of functions or methods without changing their definition.\n",
    "def decoratorFunction(originalFunction):\n",
    "    def wrapperFunction():\n",
    "        print(f\"Wrapper executed 'this' line before '{originalFunction.__name__}' function\")\n",
    "        return originalFunction()\n",
    "    return wrapperFunction\n",
    "\n",
    "def sayHelloToRajat():\n",
    "    print(\"Hi Rajat\")\n",
    "\n",
    "# Way 1 \n",
    "decoratedDisplay = decoratorFunction(sayHelloToRajat)\n",
    "decoratedDisplay()\n",
    "\n",
    "print(\"------------------\")\n",
    "\n",
    "# Way 2\n",
    "@decoratorFunction # This is equivalent to sayHelloToRajat = decoratorFunction(sayHelloToRajat)\n",
    "def sayHelloToRajat():\n",
    "    print(\"Hi Rajat\")\n",
    "decoratedDisplay2 = sayHelloToRajat\n",
    "decoratedDisplay2()"
   ]
  },
  {
   "cell_type": "code",
   "execution_count": 28,
   "metadata": {},
   "outputs": [
    {
     "name": "stdout",
     "output_type": "stream",
     "text": [
      "Logging: Executing 'add_numbers' with arguments (5, 3) and keyword arguments {}\n",
      "Logging: 'add_numbers' executed successfully and returned 8\n",
      "Result of add_numbers: 8\n",
      "Logging: Executing 'greet_person' with arguments ('Rajat',) and keyword arguments {'greeting': 'Hi'}\n",
      "Hi, Rajat!\n",
      "Logging: 'greet_person' executed successfully and returned None\n"
     ]
    }
   ],
   "source": [
    "# Practical Example : Logging Decorator\n",
    "\n",
    "def logging_decorator(original_function):\n",
    "    \"\"\"\n",
    "    A decorator function that logs the execution of the wrapped function.\n",
    "    \"\"\"\n",
    "    def wrapper_function(*args, **kwargs):\n",
    "        print(f\"Logging: Executing '{original_function.__name__}' with arguments {args} and keyword arguments {kwargs}\")\n",
    "        # Call the original function and capture its result\n",
    "        result = original_function(*args, **kwargs)\n",
    "        print(f\"Logging: '{original_function.__name__}' executed successfully and returned {result}\")\n",
    "        return result  # Return the result of the original function\n",
    "    \n",
    "    return wrapper_function\n",
    "\n",
    "@logging_decorator\n",
    "def add_numbers(a, b):\n",
    "    \"\"\"\n",
    "    A simple function that adds two numbers.\n",
    "    \"\"\"\n",
    "    return a + b\n",
    "\n",
    "@logging_decorator\n",
    "def greet_person(name, greeting=\"Hello\"):\n",
    "    \"\"\"\n",
    "    A simple function that greets a person with a given greeting.\n",
    "    \"\"\"\n",
    "    print(f\"{greeting}, {name}!\")\n",
    "\n",
    "# Using the decorated functions\n",
    "result = add_numbers(5, 3)\n",
    "print(f\"Result of add_numbers: {result}\")\n",
    "\n",
    "greet_person(\"Rajat\", greeting=\"Hi\")\n"
   ]
  },
  {
   "cell_type": "code",
   "execution_count": 29,
   "metadata": {},
   "outputs": [
    {
     "name": "stdout",
     "output_type": "stream",
     "text": [
      "Admin task performed\n",
      "User does not have the required role\n"
     ]
    }
   ],
   "source": [
    "# Practical Implementation - Authorization Decorator\n",
    "def authorize_decorator(required_role):\n",
    "    def decorator(original_function):\n",
    "        def wrapper_function(user, *args, **kwargs):\n",
    "            if user.get('role') != required_role:\n",
    "                raise PermissionError(\"User does not have the required role\")\n",
    "            return original_function(user, *args, **kwargs)\n",
    "        return wrapper_function\n",
    "    return decorator\n",
    "\n",
    "@authorize_decorator('admin')\n",
    "def perform_admin_task(user):\n",
    "    return \"Admin task performed\"\n",
    "\n",
    "# Simulating users with different roles\n",
    "user_admin = {'role': 'admin'}\n",
    "user_guest = {'role': 'guest'}\n",
    "\n",
    "print(perform_admin_task(user_admin))\n",
    "\n",
    "try:\n",
    "    print(perform_admin_task(user_guest))\n",
    "except PermissionError as e:\n",
    "    print(e)\n"
   ]
  }
 ],
 "metadata": {
  "kernelspec": {
   "display_name": "Python 3",
   "language": "python",
   "name": "python3"
  },
  "language_info": {
   "codemirror_mode": {
    "name": "ipython",
    "version": 3
   },
   "file_extension": ".py",
   "mimetype": "text/x-python",
   "name": "python",
   "nbconvert_exporter": "python",
   "pygments_lexer": "ipython3",
   "version": "3.10.14"
  }
 },
 "nbformat": 4,
 "nbformat_minor": 2
}
