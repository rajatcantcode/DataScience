{
 "cells": [
  {
   "cell_type": "markdown",
   "metadata": {},
   "source": [
    "Generators provide an easy way to create iterators.    \n",
    "They are created using functions and the yield keyword.    \n",
    "The yield keyword allows a function to produce a series of values lazily, meaning it generates values on the fly without storing them all in memory.  "
   ]
  },
  {
   "cell_type": "code",
   "execution_count": 4,
   "metadata": {},
   "outputs": [
    {
     "name": "stdout",
     "output_type": "stream",
     "text": [
      "0\n",
      "1\n",
      "4\n",
      "9\n",
      "16\n"
     ]
    }
   ],
   "source": [
    "def square (n): \n",
    "    for i in range(n): \n",
    "        print (i**2)\n",
    "\n",
    "square(5)"
   ]
  },
  {
   "cell_type": "code",
   "execution_count": 10,
   "metadata": {},
   "outputs": [
    {
     "data": {
      "text/plain": [
       "<generator object squareGen at 0x107235850>"
      ]
     },
     "execution_count": 10,
     "metadata": {},
     "output_type": "execute_result"
    }
   ],
   "source": [
    "def squareGen(n):\n",
    "    for i in range(n):\n",
    "        yield i**2\n",
    "\n",
    "squareGen(5) # <generator object squareGen at 0x107235620> \n",
    "# Note : This is a generator object , not the values at memory location 0x107235620"
   ]
  },
  {
   "cell_type": "code",
   "execution_count": 22,
   "metadata": {},
   "outputs": [
    {
     "name": "stdout",
     "output_type": "stream",
     "text": [
      "0\n",
      "1\n",
      "4\n",
      "9\n",
      "16\n",
      "-------------------\n",
      "0\n",
      "1\n",
      "4\n",
      "9\n",
      "16\n"
     ]
    }
   ],
   "source": [
    "# To get the values from the generator object, we can use a for loop\n",
    "for i in squareGen(5):\n",
    "    print(i) # 0 1 4 9 16\n",
    "\n",
    "print(\"-------------------\")\n",
    "\n",
    "# Another way to get the values from the generator object is to use the next() function\n",
    "x = squareGen(5)\n",
    "print(next(x)) # 0\n",
    "print(next(x)) # 1\n",
    "print(next(x)) # 4\n",
    "print(next(x)) # 9\n",
    "print(next(x)) # 16"
   ]
  },
  {
   "cell_type": "code",
   "execution_count": 25,
   "metadata": {},
   "outputs": [
    {
     "name": "stdout",
     "output_type": "stream",
     "text": [
      "1\n",
      "2\n",
      "3\n",
      "4\n"
     ]
    }
   ],
   "source": [
    "# The best part about generators is that we can return multiple values from a function\n",
    "# without storing them in memory. This is useful when we have a large number of values to return\n",
    "\n",
    "def gen1():\n",
    "    yield 1\n",
    "    yield 2\n",
    "    yield 3\n",
    "    yield 4\n",
    "\n",
    "gen1() # <generator object gen1 at 0x107235620>\n",
    "\n",
    "for i in gen1():\n",
    "    print(i) # 1 2 3 4\n"
   ]
  },
  {
   "cell_type": "code",
   "execution_count": 32,
   "metadata": {},
   "outputs": [
    {
     "name": "stdout",
     "output_type": "stream",
     "text": [
      "Lorem ipsum dolor sit amet, consectetur adipiscing elit. Sed do eiusmod tempor incididunt ut labore et dolore magna aliqua. Ut enim ad minim veniam, quis nostrud exercitation ullamco laboris nisi ut aliquip ex ea commodo consequat. Duis aute irure dolor in reprehenderit in voluptate velit esse cillum dolore eu fugiat nulla pariatur. Excepteur sint occaecat cupidatat non proident, sunt in culpa qui officia deserunt mollit anim id est laborum.\n",
      "\n",
      "Nunc eget felis at nulla ultricies commodo. Quisque aliquam, felis id eleifend facilisis, lectus libero scelerisque urna, in ultricies eros turpis at mi. Mauris facilisis nunc at risus interdum, nec aliquam arcu ultrices. Aliquam erat volutpat. Nulla facilisi. Nulla facilisi.\n",
      "\n",
      "Praesent vitae lectus euismod, tincidunt nibh et, aliquet dolor. Integer et sapien felis. Cras suscipit, lacus vitae facilisis hendrerit, enim quam lobortis nunc, vitae aliquet erat mauris quis ipsum. Nulla facilisi. Nulla facilisi.\n",
      "\n",
      "Donec cursus, turpis et cursus fringilla, nulla nisl ultrices elit, vel tincidunt diam nulla et libero. Nam ac lacus nec dui rutrum lacinia. Mauris in magna id nunc sollicitudin lacinia. Mauris in magna id nunc sollicitudin lacinia.\n",
      "\n",
      "Sed volutpat, odio quis pharetra lacinia, nisl risus venenatis tellus, id eleifend ipsum nibh eget turpis. Donec ac sapien euismod, mattis orci ut, porttitor lectus. Nulla facilisi. Nulla facilisi.\n"
     ]
    }
   ],
   "source": [
    "# Practical Example of Generators\n",
    "# Let's say we have a large file and we want to read the file line by line\n",
    "# We can use a generator to read the file line by line without storing the entire file in memory\n",
    "\n",
    "def read_large_file(file_name):\n",
    "    with open(file_name, 'r') as file:\n",
    "        for line in file:\n",
    "            yield line\n",
    "\n",
    "read_large_file(\"x2_random.txt\") # <generator object read_large_file at 0x107235620> - This is a generator object\n",
    "\n",
    "try:\n",
    "    for line in read_large_file(\"x2_randomWords.txt\"):\n",
    "        print(line.strip()) # strip() is used to remove the newline character at the end of each line\n",
    "except Exception as e:\n",
    "    print(e)"
   ]
  }
 ],
 "metadata": {
  "kernelspec": {
   "display_name": "Python 3",
   "language": "python",
   "name": "python3"
  },
  "language_info": {
   "codemirror_mode": {
    "name": "ipython",
    "version": 3
   },
   "file_extension": ".py",
   "mimetype": "text/x-python",
   "name": "python",
   "nbconvert_exporter": "python",
   "pygments_lexer": "ipython3",
   "version": "3.10.14"
  }
 },
 "nbformat": 4,
 "nbformat_minor": 2
}
