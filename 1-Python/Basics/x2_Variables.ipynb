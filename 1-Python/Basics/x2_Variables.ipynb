{
 "cells": [
  {
   "cell_type": "markdown",
   "metadata": {},
   "source": [
    "### Variables"
   ]
  },
  {
   "cell_type": "code",
   "execution_count": 4,
   "metadata": {},
   "outputs": [
    {
     "name": "stdout",
     "output_type": "stream",
     "text": [
      "My name is Rajat and I am 32 years old.\n",
      "My name is Rajat and I am 32 years old.24\n"
     ]
    }
   ],
   "source": [
    "age = 32\n",
    "name = \"Rajat\"\n",
    "male = True\n",
    "dogs = 24\n",
    "print(\"My name is\", name, \"and I am\", age, \"years old.\")\n",
    "# %s - string , %d - integer , %f - float , %r - raw data , %x - hex value, %o - octal value\n",
    "print(\"My name is %s and I am %d years old.%d\" % (name, age,dogs))"
   ]
  },
  {
   "cell_type": "code",
   "execution_count": 11,
   "metadata": {},
   "outputs": [
    {
     "ename": "TypeError",
     "evalue": "%x format: an integer is required, not float",
     "output_type": "error",
     "traceback": [
      "\u001b[0;31m---------------------------------------------------------------------------\u001b[0m",
      "\u001b[0;31mTypeError\u001b[0m                                 Traceback (most recent call last)",
      "Cell \u001b[0;32mIn[11], line 5\u001b[0m\n\u001b[1;32m      3\u001b[0m name\u001b[38;5;241m=\u001b[39m\u001b[38;5;124m\"\u001b[39m\u001b[38;5;124mRajat\u001b[39m\u001b[38;5;124m\"\u001b[39m\n\u001b[1;32m      4\u001b[0m \u001b[38;5;66;03m# Problem is $d is used for hex value and age is float so it will give error\u001b[39;00m\n\u001b[0;32m----> 5\u001b[0m \u001b[38;5;28mprint\u001b[39m(\u001b[38;5;124;43m\"\u001b[39;49m\u001b[38;5;124;43mMy name is \u001b[39;49m\u001b[38;5;132;43;01m%s\u001b[39;49;00m\u001b[38;5;124;43m and I am \u001b[39;49m\u001b[38;5;132;43;01m%x\u001b[39;49;00m\u001b[38;5;124;43m years old.\u001b[39;49m\u001b[38;5;124;43m\"\u001b[39;49m\u001b[43m \u001b[49m\u001b[38;5;241;43m%\u001b[39;49m\u001b[43m \u001b[49m\u001b[43m(\u001b[49m\u001b[43mname\u001b[49m\u001b[43m,\u001b[49m\u001b[43m \u001b[49m\u001b[43mage\u001b[49m\u001b[43m)\u001b[49m)\n\u001b[1;32m      6\u001b[0m \u001b[38;5;66;03m# Correct one\u001b[39;00m\n\u001b[1;32m      7\u001b[0m \u001b[38;5;66;03m# print(\"My name is %s and I am %f years old.\" % (name, age))\u001b[39;00m\n",
      "\u001b[0;31mTypeError\u001b[0m: %x format: an integer is required, not float"
     ]
    }
   ],
   "source": [
    "# Python is dynamic type language so we can determine the type of variable at runtime and assign the value accordingly\n",
    "age = 31.5\n",
    "name=\"Rajat\"\n",
    "# Problem is $d is used for hex value and age is float so it will give error\n",
    "print(\"My name is %s and I am %x years old.\" % (name, age))\n",
    "# Correct one\n",
    "# print(\"My name is %s and I am %f years old.\" % (name, age))\n"
   ]
  },
  {
   "cell_type": "code",
   "execution_count": 9,
   "metadata": {},
   "outputs": [
    {
     "name": "stdout",
     "output_type": "stream",
     "text": [
      "<class 'int'>\n",
      "<class 'str'>\n"
     ]
    }
   ],
   "source": [
    "# Type Checking and Conversion \n",
    "age = 30\n",
    "print(type(age))\n",
    "\n",
    "ageString = str(age)\n",
    "age = ageString\n",
    "print(type(age))"
   ]
  },
  {
   "cell_type": "code",
   "execution_count": 1,
   "metadata": {},
   "outputs": [
    {
     "name": "stdout",
     "output_type": "stream",
     "text": [
      "20\n",
      "<class 'str'>\n",
      "<class 'int'>\n"
     ]
    }
   ],
   "source": [
    "# This will open the prompt and take the input from the user\n",
    "age = input(\"What is your age ?\")\n",
    "print(age)\n",
    "print(\"age type was :\" + type(age))\n",
    "age = int(age)\n",
    "print(\"age type is :\" + type(age))"
   ]
  },
  {
   "cell_type": "code",
   "execution_count": 2,
   "metadata": {},
   "outputs": [
    {
     "name": "stdout",
     "output_type": "stream",
     "text": [
      "50\n"
     ]
    }
   ],
   "source": [
    "# Simple Calculator\n",
    "\n",
    "input1 = input(\"Enter the first number : \")\n",
    "input2 = input(\"Enter the second number : \")\n",
    "operation = input(\"Enter the operation : \")\n",
    "\n",
    "if operation == \"+\":\n",
    "    print(int(input1) + int(input2))\n",
    "elif operation == \"-\":\n",
    "    print(int(input1) - int(input2))\n",
    "elif operation == \"*\":\n",
    "    print(int(input1) * int(input2))\n",
    "elif operation == \"/\":\n",
    "    print(int(input1) / int(input2))\n",
    "else:\n",
    "    print(\"Invalid Operation\")"
   ]
  }
 ],
 "metadata": {
  "kernelspec": {
   "display_name": "Python 3",
   "language": "python",
   "name": "python3"
  },
  "language_info": {
   "codemirror_mode": {
    "name": "ipython",
    "version": 3
   },
   "file_extension": ".py",
   "mimetype": "text/x-python",
   "name": "python",
   "nbconvert_exporter": "python",
   "pygments_lexer": "ipython3",
   "version": "3.10.14"
  }
 },
 "nbformat": 4,
 "nbformat_minor": 2
}
