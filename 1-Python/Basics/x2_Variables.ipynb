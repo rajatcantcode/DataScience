{
 "cells": [
  {
   "cell_type": "markdown",
   "metadata": {},
   "source": [
    "### Variables"
   ]
  },
  {
   "cell_type": "code",
   "execution_count": 4,
   "metadata": {},
   "outputs": [
    {
     "name": "stdout",
     "output_type": "stream",
     "text": [
      "My name is Rajat and I am 32 years old.\n",
      "My name is Rajat and I am 32 years old.24\n"
     ]
    }
   ],
   "source": [
    "age = 32\n",
    "name = \"Rajat\"\n",
    "male = True\n",
    "dogs = 24\n",
    "print(\"My name is\", name, \"and I am\", age, \"years old.\")\n",
    "# %s - string , %d - integer , %f - float , %r - raw data , %x - hex value, %o - octal value\n",
    "print(\"My name is %s and I am %d years old.%d\" % (name, age,dogs))"
   ]
  },
  {
   "cell_type": "code",
   "execution_count": 6,
   "metadata": {},
   "outputs": [
    {
     "name": "stdout",
     "output_type": "stream",
     "text": [
      "My name is Rajat and I am 25 years old.\n"
     ]
    }
   ],
   "source": [
    "# Python is dynamic type language so we can determine the type of variable at runtime and assign the value accordingly\n",
    "age = 25\n",
    "print(\"My name is %s and I am %d years old.\" % (name, age))\n",
    "age = 31.5\n",
    "print(\"My name is %s and I am %d years old.\" % (name, age))"
   ]
  },
  {
   "cell_type": "code",
   "execution_count": 9,
   "metadata": {},
   "outputs": [
    {
     "name": "stdout",
     "output_type": "stream",
     "text": [
      "<class 'int'>\n",
      "<class 'str'>\n"
     ]
    }
   ],
   "source": [
    "# Type Checking and Conversion \n",
    "age = 30\n",
    "print(type(age))\n",
    "\n",
    "ageString = str(age)\n",
    "age = ageString\n",
    "print(type(age))"
   ]
  },
  {
   "cell_type": "code",
   "execution_count": 12,
   "metadata": {},
   "outputs": [
    {
     "name": "stdout",
     "output_type": "stream",
     "text": [
      "13\n",
      "<class 'str'>\n",
      "<class 'int'>\n"
     ]
    }
   ],
   "source": [
    "# This will open the prompt and take the input from the user\n",
    "age = input(\"What is your age ?\")\n",
    "print(age)\n",
    "print(type(age))\n",
    "age = int(age)\n",
    "print(type(age))"
   ]
  },
  {
   "cell_type": "code",
   "execution_count": 14,
   "metadata": {},
   "outputs": [
    {
     "name": "stdout",
     "output_type": "stream",
     "text": [
      "Invalid Operation\n"
     ]
    }
   ],
   "source": [
    "# Simple Calculator\n",
    "\n",
    "input1 = input(\"Enter the first number : \")\n",
    "input2 = input(\"Enter the second number : \")\n",
    "operation = input(\"Enter the operation : \")\n",
    "\n",
    "if operation == \"+\":\n",
    "    print(int(input1) + int(input2))\n",
    "elif operation == \"-\":\n",
    "    print(int(input1) - int(input2))\n",
    "elif operation == \"*\":\n",
    "    print(int(input1) * int(input2))\n",
    "elif operation == \"/\":\n",
    "    print(int(input1) / int(input2))\n",
    "else:\n",
    "    print(\"Invalid Operation\")"
   ]
  }
 ],
 "metadata": {
  "kernelspec": {
   "display_name": "Python 3",
   "language": "python",
   "name": "python3"
  },
  "language_info": {
   "codemirror_mode": {
    "name": "ipython",
    "version": 3
   },
   "file_extension": ".py",
   "mimetype": "text/x-python",
   "name": "python",
   "nbconvert_exporter": "python",
   "pygments_lexer": "ipython3",
   "version": "3.10.14"
  }
 },
 "nbformat": 4,
 "nbformat_minor": 2
}
