{
 "cells": [
  {
   "cell_type": "markdown",
   "metadata": {
    "vscode": {
     "languageId": "perl"
    }
   },
   "source": [
    "### Operators"
   ]
  },
  {
   "cell_type": "code",
   "execution_count": 3,
   "metadata": {},
   "outputs": [
    {
     "name": "stdout",
     "output_type": "stream",
     "text": [
      "110 90 1000 10.0 0 100000000000000000000 10\n"
     ]
    }
   ],
   "source": [
    "# Arithmetic Operators\n",
    "a = 100\n",
    "b = 10\n",
    "c = a + b #Addition\n",
    "d = a - b #Subtraction\n",
    "e = a * b #Multiplication\n",
    "result = a / b #Division\n",
    "f = a % b #Modulus\n",
    "g = a ** b #Exponentiation\n",
    "h = a // b #Floor Division\n",
    "print(c, d, e, result, f, g, h)\n"
   ]
  },
  {
   "cell_type": "code",
   "execution_count": 4,
   "metadata": {},
   "outputs": [
    {
     "name": "stdout",
     "output_type": "stream",
     "text": [
      "False\n",
      "True\n",
      "False\n",
      "True\n",
      "False\n",
      "True\n"
     ]
    }
   ],
   "source": [
    "# Comparison Operators\n",
    "a = 10\n",
    "b = 20\n",
    "print(a == b) #Equal\n",
    "print(a != b) #Not Equal\n",
    "print(a > b) #Greater Than\n",
    "print(a < b) #Less Than\n",
    "print(a >= b) #Greater Than or Equal To\n",
    "print(a <= b) #Less Than or Equal To\n"
   ]
  },
  {
   "cell_type": "code",
   "execution_count": 1,
   "metadata": {},
   "outputs": [
    {
     "name": "stdout",
     "output_type": "stream",
     "text": [
      "False\n",
      "True\n",
      "False\n",
      "False\n",
      "True\n"
     ]
    }
   ],
   "source": [
    "# Logical Operators\n",
    "a = True\n",
    "b = False\n",
    "print(a and b) #Logical AND\n",
    "print(a or b) #Logical OR\n",
    "print(not a) #Logical NOT\n",
    "\n",
    "x = False \n",
    "print(x)\n",
    "x = not x #Reverse of Boolean Value\n",
    "print(x)\n"
   ]
  }
 ],
 "metadata": {
  "kernelspec": {
   "display_name": "Python 3",
   "language": "python",
   "name": "python3"
  },
  "language_info": {
   "codemirror_mode": {
    "name": "ipython",
    "version": 3
   },
   "file_extension": ".py",
   "mimetype": "text/x-python",
   "name": "python",
   "nbconvert_exporter": "python",
   "pygments_lexer": "ipython3",
   "version": "3.10.14"
  }
 },
 "nbformat": 4,
 "nbformat_minor": 2
}
