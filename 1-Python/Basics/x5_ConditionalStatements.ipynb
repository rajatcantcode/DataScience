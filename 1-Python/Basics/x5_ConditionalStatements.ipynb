{
 "cells": [
  {
   "cell_type": "markdown",
   "metadata": {},
   "source": [
    "### Conditional Operators - if , else , else if , Nested Conditional Statements"
   ]
  },
  {
   "cell_type": "code",
   "execution_count": 3,
   "metadata": {},
   "outputs": [
    {
     "name": "stdout",
     "output_type": "stream",
     "text": [
      "You are exactly 5 years old\n"
     ]
    }
   ],
   "source": [
    "age = 5\n",
    "if age > 5:\n",
    "    print(\"You are older than 5\")\n",
    "elif age == 5:\n",
    "    print(\"You are exactly 5 years old\")\n",
    "else:\n",
    "    print(\"You are younger than 5\")\n"
   ]
  },
  {
   "cell_type": "code",
   "execution_count": 4,
   "metadata": {},
   "outputs": [
    {
     "name": "stdout",
     "output_type": "stream",
     "text": [
      "You are younger than 5\n"
     ]
    }
   ],
   "source": [
    "# Nested Conditional statments\n",
    "if age > 5:\n",
    "    if age > 10:\n",
    "        print(\"You are older than 10\")\n",
    "    else:\n",
    "        print(\"You are older than 5 but younger than 10\")\n",
    "else:\n",
    "    print(\"You are younger than 5\")\n",
    "    "
   ]
  },
  {
   "cell_type": "code",
   "execution_count": 1,
   "metadata": {},
   "outputs": [
    {
     "name": "stdout",
     "output_type": "stream",
     "text": [
      "This is a leap year\n"
     ]
    }
   ],
   "source": [
    "# Determine a leap year\n",
    "year = input(\"Enter a year: \")\n",
    "year = int(year)\n",
    "if year % 4 == 0:\n",
    "    if year % 100 == 0:\n",
    "        if year % 400 == 0:\n",
    "            print(\"This is a leap year\")\n",
    "        else:\n",
    "            print(\"This is not a leap year\")\n",
    "    else:\n",
    "        print(\"This is a leap year\")\n",
    "else:\n",
    "    print(\"This is not a leap year\")"
   ]
  },
  {
   "cell_type": "code",
   "execution_count": 3,
   "metadata": {},
   "outputs": [
    {
     "name": "stdout",
     "output_type": "stream",
     "text": [
      "You are either younger than 5 or older than 10\n",
      "You qualify as a human being\n"
     ]
    }
   ],
   "source": [
    "# And , Or , Not\n",
    "\n",
    "# And\n",
    "age = 18\n",
    "if age > 5 and age < 10:\n",
    "    print(\"You are older than 5 but younger than 10\")\n",
    "else:\n",
    "    print(\"You are either younger than 5 or older than 10\")\n",
    "\n",
    "# Or\n",
    "gender = \"male\"\n",
    "if gender == \"male\" or gender == \"female\":\n",
    "    print(\"You qualify as a human being\")\n",
    "\n",
    "# Not\n",
    "if not age > 5:\n",
    "    print(\"You are not older than 5\")\n"
   ]
  }
 ],
 "metadata": {
  "kernelspec": {
   "display_name": "Python 3",
   "language": "python",
   "name": "python3"
  },
  "language_info": {
   "codemirror_mode": {
    "name": "ipython",
    "version": 3
   },
   "file_extension": ".py",
   "mimetype": "text/x-python",
   "name": "python",
   "nbconvert_exporter": "python",
   "pygments_lexer": "ipython3",
   "version": "3.10.14"
  }
 },
 "nbformat": 4,
 "nbformat_minor": 2
}
