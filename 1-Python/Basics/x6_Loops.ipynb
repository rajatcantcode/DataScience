{
 "cells": [
  {
   "cell_type": "markdown",
   "metadata": {},
   "source": [
    "Loops - for , while , do while loop , control statements - break , continue , pass , Nested Loops"
   ]
  },
  {
   "cell_type": "code",
   "execution_count": 2,
   "metadata": {},
   "outputs": [
    {
     "name": "stdout",
     "output_type": "stream",
     "text": [
      "range(0, 5)\n"
     ]
    }
   ],
   "source": [
    "range(5) # 0, 1, 2, 3, 4 give us numbers 0 to 5 (exclusive)"
   ]
  },
  {
   "cell_type": "code",
   "execution_count": 7,
   "metadata": {},
   "outputs": [
    {
     "name": "stdout",
     "output_type": "stream",
     "text": [
      "0\n",
      "1\n",
      "2\n",
      "3\n",
      "4\n",
      " \n",
      "0\n",
      "1\n",
      "2\n",
      " \n",
      "0\n",
      "2\n",
      "4\n",
      "6\n",
      "8\n",
      " \n",
      "10\n",
      "9\n",
      "8\n",
      "7\n",
      "6\n",
      "5\n",
      "4\n",
      "3\n",
      "2\n",
      "1\n"
     ]
    }
   ],
   "source": [
    "for i in range(5):\n",
    "    print(i)\n",
    "\n",
    "print(\" \")\n",
    "\n",
    "for i in range(0,3):\n",
    "    print(i)\n",
    "\n",
    "print(\" \")\n",
    "\n",
    "for i in range(0,10,2):\n",
    "    print(i)\n",
    "\n",
    "print(\" \")\n",
    "\n",
    "for i in range(10,0,-1):\n",
    "    print(i)"
   ]
  },
  {
   "cell_type": "code",
   "execution_count": 24,
   "metadata": {},
   "outputs": [
    {
     "name": "stdout",
     "output_type": "stream",
     "text": [
      "H\n",
      "e\n",
      "l\n",
      "l\n",
      "o\n",
      " \n",
      "W\n",
      "o\n",
      "r\n",
      "l\n",
      "d\n",
      "------\n",
      "Hello World\n",
      "Hello World\n",
      "Hello World\n",
      "Hello World\n",
      "Hello World\n",
      "H\n",
      "e\n",
      "l\n",
      "l\n",
      "o\n",
      "Space is here exit the loop : )\n",
      "------\n",
      "r\n",
      "Space is here\n",
      "a\n",
      "0\n",
      "1\n",
      "2\n",
      "3\n",
      "4\n"
     ]
    }
   ],
   "source": [
    "## Strings\n",
    "str = \"Hello World\"\n",
    "for i in str:\n",
    "    print(i)\n",
    "\n",
    "print(\"------\")\n",
    "\n",
    "# While loop\n",
    "count = 1\n",
    "while True:\n",
    "    print(\"Hello World\")\n",
    "    count += 1\n",
    "    if(count> 5):\n",
    "        break\n",
    "\n",
    "    \n",
    "\n",
    "# Break Statment\n",
    "str = \"Hello World\"\n",
    "for i in str:\n",
    "    if i == \" \":\n",
    "        print(\"Space is here exit the loop : )\")\n",
    "        break\n",
    "    print(i)\n",
    "\n",
    "print(\"------\")\n",
    "\n",
    "# Continue Statment\n",
    "str = \"r a\"\n",
    "for i in str:\n",
    "    if i == \" \":\n",
    "        print(\"Space is here\")\n",
    "        continue\n",
    "    print(i)\n",
    "\n",
    "# Pass Statment it's a null operation -- when it is executed, nothing happens\n",
    "for i in range(5):\n",
    "    if i == 2:\n",
    "        pass\n",
    "    print(i)"
   ]
  },
  {
   "cell_type": "code",
   "execution_count": 27,
   "metadata": {},
   "outputs": [
    {
     "name": "stdout",
     "output_type": "stream",
     "text": [
      " \n",
      "[ 0 0 ]\n",
      "[ 0 1 ]\n",
      "[ 0 2 ]\n",
      "[ 0 3 ]\n",
      "[ 0 4 ]\n",
      " \n",
      "[ 1 0 ]\n",
      "[ 1 1 ]\n",
      "[ 1 2 ]\n",
      "[ 1 3 ]\n",
      "[ 1 4 ]\n",
      " \n",
      "[ 2 0 ]\n",
      "[ 2 1 ]\n",
      "[ 2 2 ]\n",
      "[ 2 3 ]\n",
      "[ 2 4 ]\n",
      " \n",
      "[ 3 0 ]\n",
      "[ 3 1 ]\n",
      "[ 3 2 ]\n",
      "[ 3 3 ]\n",
      "[ 3 4 ]\n",
      " \n",
      "[ 4 0 ]\n",
      "[ 4 1 ]\n",
      "[ 4 2 ]\n",
      "[ 4 3 ]\n",
      "[ 4 4 ]\n"
     ]
    }
   ],
   "source": [
    "# Nested Loop\n",
    "for i in range(5):\n",
    "        print(\" \")\n",
    "        for j in range(5):\n",
    "            print(\"[\",i, j,\"]\")"
   ]
  },
  {
   "cell_type": "code",
   "execution_count": 30,
   "metadata": {},
   "outputs": [
    {
     "name": "stdout",
     "output_type": "stream",
     "text": [
      "45\n"
     ]
    }
   ],
   "source": [
    "# Calculate the sum of first n natural numbers\n",
    "n = 10\n",
    "sum = 0\n",
    "for i in range(n):\n",
    "    sum += i\n",
    "print(sum)"
   ]
  },
  {
   "cell_type": "code",
   "execution_count": 36,
   "metadata": {},
   "outputs": [
    {
     "name": "stdout",
     "output_type": "stream",
     "text": [
      "2\n",
      "3\n",
      "5\n",
      "7\n",
      "11\n",
      "13\n",
      "17\n",
      "19\n",
      "23\n",
      "29\n",
      "31\n",
      "37\n",
      "41\n",
      "43\n",
      "47\n",
      "53\n",
      "59\n",
      "61\n",
      "67\n",
      "71\n",
      "73\n",
      "79\n",
      "83\n",
      "89\n",
      "97\n"
     ]
    }
   ],
   "source": [
    "# Prime numbers between 1 to 100\n",
    "for i in range(1,101):\n",
    "    if i > 1:\n",
    "        for j in range(2,i):\n",
    "            if i % j == 0:\n",
    "                break\n",
    "        # else block will execute if the inner loop did not break that is number is not visible with any number\n",
    "        ## Learning : else block can be executed with for loop as well\n",
    "        else:\n",
    "            print(i)"
   ]
  },
  {
   "cell_type": "code",
   "execution_count": null,
   "metadata": {},
   "outputs": [],
   "source": []
  }
 ],
 "metadata": {
  "kernelspec": {
   "display_name": "Python 3",
   "language": "python",
   "name": "python3"
  },
  "language_info": {
   "codemirror_mode": {
    "name": "ipython",
    "version": 3
   },
   "file_extension": ".py",
   "mimetype": "text/x-python",
   "name": "python",
   "nbconvert_exporter": "python",
   "pygments_lexer": "ipython3",
   "version": "3.10.14"
  }
 },
 "nbformat": 4,
 "nbformat_minor": 2
}
