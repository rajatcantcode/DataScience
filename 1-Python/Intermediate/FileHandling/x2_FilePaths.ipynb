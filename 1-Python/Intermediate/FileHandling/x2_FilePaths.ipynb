{
 "cells": [
  {
   "cell_type": "code",
   "execution_count": 4,
   "metadata": {},
   "outputs": [
    {
     "name": "stdout",
     "output_type": "stream",
     "text": [
      "Generated random number: 6\n",
      "Directory 'rajatKaPackage_6' created successfully\n",
      "\n",
      "Files and directories in the current directory:\n",
      "x1_counter.txt\n",
      "rajatKaPackage_6\n",
      "demo.bin\n",
      "demo.txt\n",
      "x2_FilePaths.ipynb\n",
      "x1_task_dest.txt\n",
      "rajat.txt\n",
      "x1_FileOperations.ipynb\n",
      "x1_task_src.txt\n"
     ]
    }
   ],
   "source": [
    "# Import necessary modules\n",
    "import os\n",
    "import random\n",
    "\n",
    "# Generate a random number between 1 and 10\n",
    "x = random.randint(1, 10)\n",
    "print(f\"Generated random number: {x}\")\n",
    "\n",
    "# Create a new directory with a random number in its name\n",
    "package_name = f\"rajatKaPackage_{x}\"\n",
    "os.mkdir(package_name)\n",
    "print(f\"Directory '{package_name}' created successfully\")\n",
    "\n",
    "# Listing Files And Directories\n",
    "items = os.listdir(\".\")  # List files in the current directory\n",
    "print(\"\\nFiles and directories in the current directory:\")\n",
    "for item in items:\n",
    "    print(item)\n"
   ]
  },
  {
   "cell_type": "code",
   "execution_count": 10,
   "metadata": {},
   "outputs": [
    {
     "name": "stdout",
     "output_type": "stream",
     "text": [
      "\n",
      "File path: rajatKaPackage/rajatKiFile9.txt\n",
      "rajatKaPackage_6 is a directory.\n"
     ]
    }
   ],
   "source": [
    "import os \n",
    "import random \n",
    "\n",
    "# Joining Paths - One of the most important features of os\n",
    "dir_name = \"rajatKaPackage\"\n",
    "x = random.randint(1, 10)\n",
    "\n",
    "# Correctly format the file name using an f-string\n",
    "file_name = f\"rajatKiFile{x}.txt\"\n",
    "\n",
    "# Joining the directory name and file name\n",
    "full_path = os.path.join(dir_name, file_name)\n",
    "print(f\"\\nFile path: {full_path}\")\n",
    "\n",
    "\n",
    "# Checking if a file path is a file or directory\n",
    "if os.path.isfile(full_path):\n",
    "    print(f\"{full_path} is a file.\")\n",
    "elif os.path.isdir(full_path):\n",
    "    print(f\"{full_path} is a directory.\")\n",
    "else:\n",
    "    print(f\"{full_path} is neither a file nor a directory.\") # This will be printed because the file does not exist"
   ]
  }
 ],
 "metadata": {
  "kernelspec": {
   "display_name": "Python 3",
   "language": "python",
   "name": "python3"
  },
  "language_info": {
   "codemirror_mode": {
    "name": "ipython",
    "version": 3
   },
   "file_extension": ".py",
   "mimetype": "text/x-python",
   "name": "python",
   "nbconvert_exporter": "python",
   "pygments_lexer": "ipython3",
   "version": "3.10.14"
  }
 },
 "nbformat": 4,
 "nbformat_minor": 2
}
