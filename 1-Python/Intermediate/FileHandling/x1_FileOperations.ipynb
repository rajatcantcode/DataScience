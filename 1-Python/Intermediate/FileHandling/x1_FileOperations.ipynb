{
 "cells": [
  {
   "cell_type": "markdown",
   "metadata": {},
   "source": [
    "File handling provides built-in functions and methods to read write to files both text and binary"
   ]
  },
  {
   "cell_type": "code",
   "execution_count": 6,
   "metadata": {},
   "outputs": [
    {
     "name": "stdout",
     "output_type": "stream",
     "text": [
      "Hey This is Rajat - 1\n",
      "Hey This is Rajat - 2\n",
      "Hey This is Rajat - 3 \n",
      "Hey This is Rajat - 4\n",
      "Hey This is Rajat - 5\n",
      "Hey This is Rajat - 6\n",
      "Hey This is Rajat - 7\n",
      "Hey This is Rajat - 8\n",
      "------------------\n",
      "H\n",
      "------------------\n",
      "Hey This is Rajat - 1\n",
      "\n",
      "Hey This is Rajat - 2\n",
      "\n",
      "------------------\n",
      "Hey This is Rajat - 1\n",
      "\n",
      "Hey This is Rajat - 2\n",
      "\n",
      "Hey This is Rajat - 3 \n",
      "\n",
      "Hey This is Rajat - 4\n",
      "\n",
      "Hey This is Rajat - 5\n",
      "\n",
      "Hey This is Rajat - 6\n",
      "\n",
      "Hey This is Rajat - 7\n",
      "\n",
      "Hey This is Rajat - 8\n",
      "------------------\n",
      "Hey This is Rajat - 1\n",
      "Hey This is Rajat - 2\n",
      "Hey This is Rajat - 3\n",
      "Hey This is Rajat - 4\n",
      "Hey This is Rajat - 5\n",
      "Hey This is Rajat - 6\n",
      "Hey This is Rajat - 7\n",
      "Hey This is Rajat - 8\n"
     ]
    }
   ],
   "source": [
    "\n",
    "### Text Files\n",
    "\n",
    "# Read File\n",
    "with open(\"demo.txt\", \"r\") as file:\n",
    "    print(file.read()) # read the whole file\n",
    "\n",
    "print(\"------------------\")\n",
    "\n",
    "# Read only parts of the file \n",
    "with open(\"demo.txt\", \"r\") as file:\n",
    "    print(file.read(1)) # read the first character\n",
    "\n",
    "print(\"------------------\")\n",
    "\n",
    "# Read the file line by line\n",
    "with open(\"demo.txt\", \"r\") as file:\n",
    "    print(file.readline()) # read the first line\n",
    "    print(file.readline()) # read the second line\n",
    "\n",
    "print(\"------------------\")\n",
    "\n",
    "# Loop through the file line by line\n",
    "with open(\"demo.txt\", \"r\") as file:\n",
    "    for line in file:\n",
    "        print(line)\n",
    "\n",
    "# Problem with the above code is that it also reads a new line\n",
    "\n",
    "print(\"------------------\")\n",
    "\n",
    "# Solution to the above problem\n",
    "with open(\"demo.txt\",\"r\") as file:\n",
    "   for line in file:\n",
    "        print(line.strip()) # strip() removes any whitespace including new line"
   ]
  },
  {
   "cell_type": "code",
   "execution_count": 7,
   "metadata": {},
   "outputs": [],
   "source": [
    "# Write a file (Overwriting)\n",
    "with open(\"demo.txt\", \"w\") as file:\n",
    "    # '\\n' is used to add a new line\n",
    "    file.write(\"I am Rajat\\n\")\n",
    "    file.write(\"I am a Terrorist\\n\")\n",
    "\n",
    "# Write a file (Appending)\n",
    "with open(\"demo.txt\",\"a\") as file:\n",
    "    file.write(\"And I am a good person\\n\")\n",
    "\n",
    "# Writing a list of lines to a file\n",
    "# Note : that the file is overwritten\n",
    "lines = [\"I am Rajat\\n\", \"I am white-label Terrorist\\n\", \"And I am a BAD person\\n\"]\n",
    "with open(\"demo.txt\", \"w\") as file:\n",
    "    for line in lines:\n",
    "        file.write(line)"
   ]
  },
  {
   "cell_type": "code",
   "execution_count": 13,
   "metadata": {},
   "outputs": [
    {
     "name": "stdout",
     "output_type": "stream",
     "text": [
      "b'Hello World'\n"
     ]
    }
   ],
   "source": [
    "# Binary Files\n",
    "\n",
    "# Write a binary file\n",
    "\n",
    "# wb = write binary\n",
    "data = b'\\x48\\x65\\x6c\\x6c\\x6f\\x20\\x57\\x6f\\x72\\x6c\\x64' # Hello World\n",
    "with open(\"demo.bin\", \"wb\") as file:\n",
    "   file.write(data)\n",
    "\n",
    "# Read a binary file\n",
    "\n",
    "# rb = read binary\n",
    "with open(\"demo.bin\", \"rb\") as file:\n",
    "    print(file.read())\n"
   ]
  },
  {
   "cell_type": "code",
   "execution_count": 25,
   "metadata": {},
   "outputs": [
    {
     "name": "stdout",
     "output_type": "stream",
     "text": [
      "Hey This is my Task 1\n",
      "Lines : 2 \n",
      "Words : 14 \n",
      "Characters : 62\n"
     ]
    }
   ],
   "source": [
    "# Task 1 : Read a file from the source and write it to the destination\n",
    "with open(\"x1_task_src.txt\", \"r\") as source:\n",
    "    with open(\"x1_task_dest.txt\", \"w\") as destination:\n",
    "        for line in source:\n",
    "            print(line)\n",
    "            destination.write(line)\n",
    "\n",
    "# Task 2 : Read a text file and count the number of lines, words and characters\n",
    "\n",
    "# sum(iterable,start) \n",
    "# iterable such as list, tuple, set, dictionary, etc. \n",
    "# numbers = [1, 2, 3, 4, 5]\n",
    "# total = sum(numbers)\n",
    "# print(total) - 15\n",
    "\n",
    "def counter(file_path):\n",
    "    with open(file_path,\"r\") as file : \n",
    "        lines = file.readlines()\n",
    "        line_count = len(lines)\n",
    "    # Note : line.split() will split the line into words and returns the list of words\n",
    "        # len(line.split()) will return the number of words in the line\n",
    "        # we are looping through all the lines and counting the number of words in each line\n",
    "        # with sum() we are adding all the words in the file\n",
    "        words_count = sum(len(line.split()) for line in lines)\n",
    "        characters_count = sum(len(line) for line in lines)\n",
    "        return line_count, words_count, characters_count\n",
    "\n",
    "filepath = \"x1_counter.txt\"\n",
    "lines, words, characters = counter(filepath)\n",
    "print(f\"Lines : {lines} \\nWords : {words} \\nCharacters : {characters}\")\n"
   ]
  },
  {
   "cell_type": "markdown",
   "metadata": {},
   "source": [
    "The 'w+' mode is used to open a file for both reading and writing. If the file does not exist, it will be created. If the file does exist, its content will be truncated (overwritten)."
   ]
  },
  {
   "cell_type": "code",
   "execution_count": 34,
   "metadata": {},
   "outputs": [
    {
     "name": "stdout",
     "output_type": "stream",
     "text": [
      "\n",
      "Hello This is Rajat\n",
      "\n",
      "Hello This is Rajat2\n",
      "\n"
     ]
    }
   ],
   "source": [
    "# Reading and Writing to a file\n",
    "with open(\"rajat.txt\", \"w+\") as file:\n",
    "    # Write the first line\n",
    "    file.write(\"Hello This is Rajat\\n\")\n",
    "\n",
    "    # This will not print anything as the file cursor is at the end of the file\n",
    "    print(file.read())\n",
    "    \n",
    "    # Move the file cursor to the beginning to read the content\n",
    "    file.seek(0)\n",
    "    print(file.read())  # This prints \"Hello This is Rajat\"\n",
    "    \n",
    "    # Move the file cursor to the beginning of the file again\n",
    "    file.seek(0)\n",
    "    \n",
    "    # Write the second line, which will overwrite the first line\n",
    "    file.write(\"Hello This is Rajat2\\n\")\n",
    "    \n",
    "    # Move the file cursor to the beginning to read the updated content\n",
    "    file.seek(0)\n",
    "    print(file.read())  # This prints \"Hello This is Rajat2\"\n"
   ]
  }
 ],
 "metadata": {
  "kernelspec": {
   "display_name": "Python 3",
   "language": "python",
   "name": "python3"
  },
  "language_info": {
   "codemirror_mode": {
    "name": "ipython",
    "version": 3
   },
   "file_extension": ".py",
   "mimetype": "text/x-python",
   "name": "python",
   "nbconvert_exporter": "python",
   "pygments_lexer": "ipython3",
   "version": "3.10.14"
  }
 },
 "nbformat": 4,
 "nbformat_minor": 2
}
