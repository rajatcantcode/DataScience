{
 "cells": [
  {
   "cell_type": "markdown",
   "metadata": {},
   "source": [
    "## Dictionaires\n",
    "\n",
    "- Creating  \n",
    "- Accessing elements   \n",
    "- Modifying  \n",
    "- Methods  \n",
    "- Iteration  \n",
    "- Nested Disctionaries   \n",
    "- Dictionary comprehension    \n",
    "- Practical Exmaples and Common errors   \n",
    "\n",
    "Disctionaires are unordered collection of items . They store data in key-value pairs. Keys must be unique and immutable (eg. strings, numbers, or tuples)       \n",
    "while can be of any type"
   ]
  },
  {
   "cell_type": "code",
   "execution_count": 23,
   "metadata": {},
   "outputs": [
    {
     "name": "stdout",
     "output_type": "stream",
     "text": [
      "<class 'dict'>\n"
     ]
    }
   ],
   "source": [
    "# list - []\n",
    "# tuple - ()\n",
    "# Dictionary - {}\n",
    "\n",
    "empty_dictionary = {}\n",
    "print(type(empty_dictionary))"
   ]
  },
  {
   "cell_type": "code",
   "execution_count": 24,
   "metadata": {},
   "outputs": [
    {
     "name": "stdout",
     "output_type": "stream",
     "text": [
      "{}\n",
      "<class 'dict'>\n"
     ]
    }
   ],
   "source": [
    "empty_dictionary = dict() # another way to create empty dictionary\n",
    "empty_dictionary\n",
    "print(empty_dictionary)\n",
    "print(type(empty_dictionary))"
   ]
  },
  {
   "cell_type": "code",
   "execution_count": 25,
   "metadata": {},
   "outputs": [
    {
     "name": "stdout",
     "output_type": "stream",
     "text": [
      "{'name': 'John', 'age': 25, 'courses': ['Math', 'CompSci']}\n",
      "{'name': 'Rajat'}\n"
     ]
    }
   ],
   "source": [
    "student = {'name': 'John', 'age': 25, 'courses': ['Math', 'CompSci']}\n",
    "print(student)\n",
    "\n",
    "#Single key is always used to access the value \n",
    "student = {'name':\"John\", 'name':\"Rajat\"}\n",
    "print(student)"
   ]
  },
  {
   "cell_type": "code",
   "execution_count": 26,
   "metadata": {},
   "outputs": [
    {
     "name": "stdout",
     "output_type": "stream",
     "text": [
      "Rajat\n",
      "Rajat\n",
      "None\n",
      "Not Found\n"
     ]
    }
   ],
   "source": [
    "## acessing Dictionary elements\n",
    "print(student['name'])\n",
    "\n",
    "## Antoher way to access the elements\n",
    "# get method provided by dictionary\n",
    "print(student.get('name'))\n",
    "print(student.get('girlfriend')) # if key is not present it will return None\n",
    "print(student.get('girlfriend', 'Not Found')) # if key is not present it will return 'Not Found'"
   ]
  },
  {
   "cell_type": "code",
   "execution_count": 27,
   "metadata": {},
   "outputs": [
    {
     "name": "stdout",
     "output_type": "stream",
     "text": [
      "{'name': 'Rajat'}\n",
      " \n",
      "{'name': 'Rajat', 'phone': '555-5555'}\n",
      " \n",
      "{'name': 'Jane', 'phone': '555-5555'}\n",
      " \n",
      "{'name': 'Jane', 'phone': '555-5555', 'age': 26}\n",
      " \n",
      "{'name': 'Jane', 'phone': '555-5555'}\n",
      " \n"
     ]
    }
   ],
   "source": [
    "## Modifying the dictionary elements\n",
    "## Dictionary are mutable , so you can update, delete and add the elements\n",
    "\n",
    "student = {'name':'Rajat'}\n",
    "print(student) # original dictionary\n",
    "print(\" \")\n",
    "\n",
    "student['phone'] = '555-5555' # adding new key value pair\n",
    "print(student)\n",
    "print(\" \")\n",
    "\n",
    "student['name'] = 'Jane' # updating the value of key\n",
    "print(student)\n",
    "print(\" \")\n",
    "\n",
    "student.update({'name': 'Jane', 'age': 26, 'phone': '555-5555'}) # updating multiple key value pair\n",
    "print(student)\n",
    "print(\" \")\n",
    "\n",
    "del student['age'] # deleting the key value pair\n",
    "print(student)\n",
    "print(\" \")\n"
   ]
  },
  {
   "cell_type": "code",
   "execution_count": 28,
   "metadata": {},
   "outputs": [
    {
     "name": "stdout",
     "output_type": "stream",
     "text": [
      "dict_keys(['name', 'phone'])\n",
      " \n",
      "dict_values(['Jane', '555-5555'])\n",
      " \n",
      "dict_items([('name', 'Jane'), ('phone', '555-5555')])\n",
      " \n"
     ]
    }
   ],
   "source": [
    "# Important Dictionary methods\n",
    "keys = student.keys() \n",
    "print(keys)\n",
    "\n",
    "print(\" \")\n",
    "\n",
    "values = student.values()\n",
    "print(values)\n",
    "\n",
    "print(\" \")\n",
    "\n",
    "items = student.items()\n",
    "print(items) # it will return the key value pair in tuple\n",
    "\n",
    "print(\" \")\n",
    "\n"
   ]
  },
  {
   "cell_type": "code",
   "execution_count": 29,
   "metadata": {},
   "outputs": [
    {
     "name": "stdout",
     "output_type": "stream",
     "text": [
      "{'name': 'Rajat'}\n",
      "{'name': 'Rajat'}\n",
      "{'name': 'John'}\n",
      "{'name': 'John'}\n",
      "{'name': 'John', 'age': 25, 'courses': ['Math', 'CompSci']}\n"
     ]
    }
   ],
   "source": [
    "student = {'name': 'Rajat'}\n",
    "student_copy = student # it will create the reference of student dictionary\n",
    "print(student)\n",
    "print(student_copy)\n",
    "\n",
    "student['name'] = 'John'\n",
    "print(student)\n",
    "print(student_copy) # both will have the same value\n",
    "\n",
    "\n",
    "## shallow copy of dictionary\n",
    "student = {'name': 'John', 'age': 25, 'courses': ['Math', 'CompSci']}\n",
    "student_copy = student.copy() # This will create the copy and assign to a different memory location\n",
    "print(student_copy)\n",
    "\n"
   ]
  },
  {
   "cell_type": "code",
   "execution_count": 35,
   "metadata": {},
   "outputs": [
    {
     "name": "stdout",
     "output_type": "stream",
     "text": [
      "{'name': 'John', 'age': 25, 'courses': ['Math', 'CompSci']}\n",
      " \n",
      "name John\n",
      "age 25\n",
      "courses ['Math', 'CompSci']\n",
      " \n",
      "John\n",
      "25\n",
      "['Math', 'CompSci']\n",
      " \n",
      "name\n",
      "age\n",
      "courses\n"
     ]
    }
   ],
   "source": [
    "## Iterating over the dictionary\n",
    "print(student)\n",
    "\n",
    "print(\" \")\n",
    "\n",
    "for key, value in student.items():\n",
    "    print(key, value)\n",
    "\n",
    "print(\" \")\n",
    "\n",
    "for value  in student.values():\n",
    "    print(value)\n",
    "\n",
    "print(\" \")\n",
    "\n",
    "for key in student.keys():\n",
    "    print(key)\n"
   ]
  },
  {
   "cell_type": "code",
   "execution_count": 46,
   "metadata": {},
   "outputs": [
    {
     "name": "stdout",
     "output_type": "stream",
     "text": [
      "{'student1': {'name': 'John', 'age': 25}, 'student2': {'name': 'Rajat', 'age': 26}}\n",
      "student1\n",
      "student2\n",
      "{'name': 'John', 'age': 25}\n",
      "John\n",
      "student1 {'name': 'John', 'age': 25}\n",
      "student2 {'name': 'Rajat', 'age': 26}\n",
      " \n",
      "student1 {'name': 'John', 'age': 25}\n",
      "name John\n",
      "age 25\n",
      "student2 {'name': 'Rajat', 'age': 26}\n",
      "name Rajat\n",
      "age 26\n"
     ]
    }
   ],
   "source": [
    "# Nested Dictionary\n",
    "students = {\n",
    "    'student1': {'name': 'John', 'age': 25},\n",
    "    'student2': {'name': 'Rajat', 'age': 26},\n",
    "}\n",
    "print(students)\n",
    "\n",
    "for student in students:\n",
    "    print(student)\n",
    "\n",
    "# Accessing the nested dictionary\n",
    "print(students['student1'])\n",
    "print(students['student1']['name'])\n",
    "\n",
    "for student,student_info in students.items():\n",
    "    print(student, student_info)\n",
    "\n",
    "print(\" \")\n",
    "\n",
    "for student,student_info in students.items():\n",
    "    print(student, student_info)\n",
    "    for key,value in student_info.items():\n",
    "        print(key, value)"
   ]
  },
  {
   "cell_type": "code",
   "execution_count": 48,
   "metadata": {},
   "outputs": [
    {
     "name": "stdout",
     "output_type": "stream",
     "text": [
      "{1: 1, 2: 4, 3: 9, 4: 16, 5: 25}\n",
      "{2: 4, 4: 16}\n"
     ]
    }
   ],
   "source": [
    "# Dictionary Comprehension\n",
    "numbers = [1,2,3,4,5]\n",
    "squared_numbers = {num:num**2 for num in numbers}\n",
    "print(squared_numbers)\n",
    "\n",
    "# Dictionary Comprehension with condition\n",
    "numbers = [1,2,3,4,5]\n",
    "squared_numbers = {num:num**2 for num in numbers if num%2 == 0}\n",
    "print(squared_numbers)"
   ]
  },
  {
   "cell_type": "code",
   "execution_count": 50,
   "metadata": {},
   "outputs": [
    {
     "name": "stdout",
     "output_type": "stream",
     "text": [
      "{1: 1, 2: 4, 3: 1, 4: 5, 44: 2}\n",
      "{1: 1, 2: 4, 3: 1, 4: 5, 44: 2}\n"
     ]
    }
   ],
   "source": [
    "numbers = [1, 2, 2, 2, 2, 3, 4, 4, 4, 44, 44, 4, 4]\n",
    "\n",
    "frequency = {}\n",
    "for number in numbers:\n",
    "    if number in frequency:\n",
    "        frequency[number] += 1\n",
    "    else:\n",
    "        frequency[number] = 1\n",
    "print(frequency)\n",
    "\n",
    "\n",
    "count = {num: numbers.count(num) for num in numbers}\n",
    "print(count)\n",
    "\n"
   ]
  },
  {
   "cell_type": "code",
   "execution_count": 52,
   "metadata": {},
   "outputs": [
    {
     "name": "stdout",
     "output_type": "stream",
     "text": [
      "{'name': 'John', 'age': 25, 'c': 10000, 'phone': '555-5555'}\n"
     ]
    }
   ],
   "source": [
    "# Merge two dictionaries into one\n",
    "dict1 = {'name': 'John', 'age': 25 , 'c':32}\n",
    "dict2 = {'c':10000, 'phone': '555-5555'}\n",
    "dict3 = {**dict1, **dict2} # This will merge the two dictionaries\n",
    "print(dict3)"
   ]
  }
 ],
 "metadata": {
  "kernelspec": {
   "display_name": "Python 3",
   "language": "python",
   "name": "python3"
  },
  "language_info": {
   "codemirror_mode": {
    "name": "ipython",
    "version": 3
   },
   "file_extension": ".py",
   "mimetype": "text/x-python",
   "name": "python",
   "nbconvert_exporter": "python",
   "pygments_lexer": "ipython3",
   "version": "3.10.14"
  }
 },
 "nbformat": 4,
 "nbformat_minor": 2
}
