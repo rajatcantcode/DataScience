{
 "cells": [
  {
   "cell_type": "markdown",
   "metadata": {},
   "source": [
    "# Tuple\n",
    "Tuples are ordered collections of elements that are immutable, meaning they cannot be modified once created. They are represented by parentheses and can contain any type of data. Tuples are commonly used to group related data together. Here's an example code snippet that demonstrates the creation of a tuple:\n",
    "\n",
    "```python\n",
    "# Create a tuple\n",
    "my_tuple = (1, 2, 3, 'a', 'b', 'c')\n",
    "```\n",
    "\n",
    "In this example, `my_tuple` is a tuple that contains integers and strings."
   ]
  },
  {
   "cell_type": "code",
   "execution_count": 5,
   "metadata": {},
   "outputs": [
    {
     "name": "stdout",
     "output_type": "stream",
     "text": [
      "()\n",
      "<class 'tuple'>\n"
     ]
    }
   ],
   "source": [
    "empty_tuple = ()\n",
    "print(empty_tuple)\n",
    "print(type(empty_tuple))"
   ]
  },
  {
   "cell_type": "code",
   "execution_count": 6,
   "metadata": {},
   "outputs": [
    {
     "name": "stdout",
     "output_type": "stream",
     "text": [
      "(1, 2, 3, 4, 5)\n",
      "[1, 2, 3, 4, 5]\n"
     ]
    }
   ],
   "source": [
    "# Down there is tuple() function that converts a list into a tuple\n",
    "ListToTuple = tuple([1, 2, 3, 4, 5]) # - Note : We are putting a list inside the tuple fxn\n",
    "print(ListToTuple) # (1, 2, 3, 4, 5) - Tuple\n",
    "\n",
    "# Tuple can be converted back to the list using list() function\n",
    "TupleToList = list((1, 2, 3, 4, 5))\n",
    "print(TupleToList)\n",
    "\n",
    "# check = tuple(1,2,3,4,5)  # This will raise a TypeError because tuple() function is expecting a single argument but got 5 xD\n",
    "# print(check)"
   ]
  },
  {
   "cell_type": "code",
   "execution_count": 33,
   "metadata": {},
   "outputs": [
    {
     "name": "stdout",
     "output_type": "stream",
     "text": [
      "1\n",
      "2\n",
      "(2, 3, 4)\n",
      "(1, 3, 5, 2, 4, 6)\n",
      "(1, 3, 5, 1, 3, 5, 1, 3, 5)\n"
     ]
    }
   ],
   "source": [
    "numbers = tuple([1, 2, 3, 4, 5])\n",
    "\n",
    "## Acessing elements in a tuple\n",
    "print(numbers[0])\n",
    "print(numbers[1])\n",
    "\n",
    "## Slicing a tuple\n",
    "print(numbers[1:4])\n",
    "\n",
    "## Concatenating tuples\n",
    "odd = (1, 3, 5)\n",
    "even = (2, 4, 6)\n",
    "numbers = odd + even\n",
    "print(numbers)\n",
    "\n",
    "## Repetition\n",
    "print(odd * 3)\n"
   ]
  },
  {
   "cell_type": "code",
   "execution_count": 7,
   "metadata": {},
   "outputs": [
    {
     "ename": "TypeError",
     "evalue": "'tuple' object does not support item assignment",
     "output_type": "error",
     "traceback": [
      "\u001b[0;31m---------------------------------------------------------------------------\u001b[0m",
      "\u001b[0;31mTypeError\u001b[0m                                 Traceback (most recent call last)",
      "Cell \u001b[0;32mIn[7], line 3\u001b[0m\n\u001b[1;32m      1\u001b[0m \u001b[38;5;66;03m# Immutable nature of tuples - Once a tuple is created, it cannot be modified\u001b[39;00m\n\u001b[0;32m----> 3\u001b[0m \u001b[43mnumbers\u001b[49m\u001b[43m[\u001b[49m\u001b[38;5;241;43m0\u001b[39;49m\u001b[43m]\u001b[49m \u001b[38;5;241m=\u001b[39m \u001b[38;5;241m5\u001b[39m  \u001b[38;5;66;03m# This will raise an ERROR\u001b[39;00m\n",
      "\u001b[0;31mTypeError\u001b[0m: 'tuple' object does not support item assignment"
     ]
    }
   ],
   "source": [
    "# Immutable nature of tuples - Once a tuple is created, it cannot be modified\n",
    "\n",
    "numbers[0] = 5  # This will raise an ERROR - TypeError"
   ]
  },
  {
   "cell_type": "code",
   "execution_count": 5,
   "metadata": {},
   "outputs": [
    {
     "name": "stdout",
     "output_type": "stream",
     "text": [
      "3\n",
      "1\n"
     ]
    }
   ],
   "source": [
    "#Tuple Methods\n",
    "numbers = (1,2,1,2,3,1,2)\n",
    "print(numbers.count(1))  # Count the number of occurrences of 1 in the tuple\n",
    "print(numbers.index(2))  # Find the index of 5 in the tuple\n"
   ]
  },
  {
   "cell_type": "code",
   "execution_count": 36,
   "metadata": {},
   "outputs": [
    {
     "name": "stdout",
     "output_type": "stream",
     "text": [
      "(1, 2, 3, 4, 5)\n",
      "1\n",
      "2\n"
     ]
    }
   ],
   "source": [
    "# Packing and Unpacking\n",
    "\n",
    "# Packing\n",
    "numbers = 1, 2, 3, 4, 5\n",
    "print(numbers)\n",
    "\n",
    "# Unpacking or Destructuring\n",
    "a, b, c, d, e = numbers\n",
    "print(a)\n",
    "print(b)"
   ]
  },
  {
   "cell_type": "code",
   "execution_count": 37,
   "metadata": {},
   "outputs": [
    {
     "name": "stdout",
     "output_type": "stream",
     "text": [
      "(1, 2, 3, 4, 5)\n",
      "1\n",
      "[2, 3, 4]\n",
      "5\n"
     ]
    }
   ],
   "source": [
    "# Unpacking with * operator\n",
    "print(numbers)\n",
    "a, *b, c = numbers\n",
    "print(a)\n",
    "print(b) # All the elements except the first and the last\n",
    "print(c)"
   ]
  },
  {
   "cell_type": "code",
   "execution_count": 7,
   "metadata": {},
   "outputs": [
    {
     "name": "stdout",
     "output_type": "stream",
     "text": [
      "[1, 2, [3, 4, 5], 6]\n",
      "----\n",
      "([1, 2], (3, 4, 5), 6)\n",
      "(3, 4, 5)\n",
      "4\n",
      "(3, 4, 5)\n"
     ]
    }
   ],
   "source": [
    "# Nested List\n",
    "nested_list = [1, 2, [3, 4, 5], 6]\n",
    "print(nested_list) \n",
    "\n",
    "print(\"----\")\n",
    "\n",
    "# Nested Tuples\n",
    "nested_tuple = ([1, 2], (3, 4, 5), 6)\n",
    "print(nested_tuple)\n",
    "print(nested_tuple[1])          # Access the tuple (3, 4, 5)\n",
    "print(nested_tuple[1][1])       # Access the second element of (3, 4, 5), which is 4\n",
    "print(nested_tuple[1][0:3])     # Access the full tuple (3, 4, 5)"
   ]
  },
  {
   "cell_type": "code",
   "execution_count": 43,
   "metadata": {},
   "outputs": [
    {
     "name": "stdout",
     "output_type": "stream",
     "text": [
      "(1, 2, (3, 4, 5), 6)\n",
      "1\n",
      "2\n",
      "3\n",
      "4\n",
      "5\n",
      "6\n"
     ]
    }
   ],
   "source": [
    "print(nested_tuple) # (1, 2, (3, 4, 5), 6)\n",
    "# Iterating over nested tuples\n",
    "for n in nested_tuple:\n",
    "    if isinstance(n, tuple): # Check if the element is a tuple\n",
    "        for value in n:\n",
    "            print(value)\n",
    "    else:\n",
    "        print(n)"
   ]
  }
 ],
 "metadata": {
  "kernelspec": {
   "display_name": "Python 3",
   "language": "python",
   "name": "python3"
  },
  "language_info": {
   "codemirror_mode": {
    "name": "ipython",
    "version": 3
   },
   "file_extension": ".py",
   "mimetype": "text/x-python",
   "name": "python",
   "nbconvert_exporter": "python",
   "pygments_lexer": "ipython3",
   "version": "3.10.14"
  }
 },
 "nbformat": 4,
 "nbformat_minor": 2
}
