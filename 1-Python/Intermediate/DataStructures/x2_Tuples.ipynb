{
 "cells": [
  {
   "cell_type": "markdown",
   "metadata": {},
   "source": [
    "# Tuple\n",
    "Tuples are ordered collections of elements that are immutable, meaning they cannot be modified once created. They are represented by parentheses and can contain any type of data. Tuples are commonly used to group related data together. Here's an example code snippet that demonstrates the creation of a tuple:\n",
    "\n",
    "```python\n",
    "# Create a tuple\n",
    "my_tuple = (1, 2, 3, 'a', 'b', 'c')\n",
    "```\n",
    "\n",
    "In this example, `my_tuple` is a tuple that contains integers and strings."
   ]
  },
  {
   "cell_type": "code",
   "execution_count": 31,
   "metadata": {},
   "outputs": [
    {
     "name": "stdout",
     "output_type": "stream",
     "text": [
      "()\n",
      "<class 'tuple'>\n"
     ]
    }
   ],
   "source": [
    "empty_tuple = ()\n",
    "print(empty_tuple)\n",
    "print(type(empty_tuple))\n"
   ]
  },
  {
   "cell_type": "code",
   "execution_count": 32,
   "metadata": {},
   "outputs": [
    {
     "name": "stdout",
     "output_type": "stream",
     "text": [
      "(1, 2, 3, 4, 5)\n",
      "[1, 2, 3, 4, 5]\n"
     ]
    }
   ],
   "source": [
    "# If 'list' has been redefined accidentally\n",
    "list = __builtins__.list  # Reset 'list' to the built-in list type\n",
    "\n",
    "numbers = tuple([1, 2, 3, 4, 5])  # tuple() function converts a list into a tuple\n",
    "print(numbers)\n",
    "\n",
    "converted_list = list((1, 2, 3, 4, 5))  # tuple of numbers converted back to a list\n",
    "print(converted_list)"
   ]
  },
  {
   "cell_type": "code",
   "execution_count": 33,
   "metadata": {},
   "outputs": [
    {
     "name": "stdout",
     "output_type": "stream",
     "text": [
      "1\n",
      "2\n",
      "(2, 3, 4)\n",
      "(1, 3, 5, 2, 4, 6)\n",
      "(1, 3, 5, 1, 3, 5, 1, 3, 5)\n"
     ]
    }
   ],
   "source": [
    "## Acessing elements in a tuple\n",
    "print(numbers[0])\n",
    "print(numbers[1])\n",
    "\n",
    "## Slicing a tuple\n",
    "print(numbers[1:4])\n",
    "\n",
    "## Concatenating tuples\n",
    "odd = (1, 3, 5)\n",
    "even = (2, 4, 6)\n",
    "numbers = odd + even\n",
    "print(numbers)\n",
    "\n",
    "## Repetition\n",
    "print(odd * 3)\n"
   ]
  },
  {
   "cell_type": "code",
   "execution_count": 34,
   "metadata": {},
   "outputs": [],
   "source": [
    "# Immutable nature of tuples - Once a tuple is created, it cannot be modified\n",
    "\n",
    "# numbers[0] = 5  # This will raise an error"
   ]
  },
  {
   "cell_type": "code",
   "execution_count": 35,
   "metadata": {},
   "outputs": [
    {
     "name": "stdout",
     "output_type": "stream",
     "text": [
      "(1, 3, 5, 2, 4, 6)\n",
      "1\n",
      "2\n"
     ]
    }
   ],
   "source": [
    "#Tuple Methods\n",
    "print(numbers)\n",
    "print(numbers.count(1))  # Count the number of occurrences of 1 in the tuple\n",
    "print(numbers.index(5))  # Find the index of 5 in the tuple\n"
   ]
  },
  {
   "cell_type": "code",
   "execution_count": 36,
   "metadata": {},
   "outputs": [
    {
     "name": "stdout",
     "output_type": "stream",
     "text": [
      "(1, 2, 3, 4, 5)\n",
      "1\n",
      "2\n"
     ]
    }
   ],
   "source": [
    "# Packing and Unpacking\n",
    "# Packing\n",
    "numbers = 1, 2, 3, 4, 5\n",
    "print(numbers)\n",
    "\n",
    "# Unpacking\n",
    "a, b, c, d, e = numbers\n",
    "print(a)\n",
    "print(b)"
   ]
  },
  {
   "cell_type": "code",
   "execution_count": 37,
   "metadata": {},
   "outputs": [
    {
     "name": "stdout",
     "output_type": "stream",
     "text": [
      "(1, 2, 3, 4, 5)\n",
      "1\n",
      "[2, 3, 4]\n",
      "5\n"
     ]
    }
   ],
   "source": [
    "# Unpacking with * operator\n",
    "print(numbers)\n",
    "a, *b, c = numbers\n",
    "print(a)\n",
    "print(b) # All the elements except the first and the last\n",
    "print(c)"
   ]
  },
  {
   "cell_type": "code",
   "execution_count": 40,
   "metadata": {},
   "outputs": [
    {
     "name": "stdout",
     "output_type": "stream",
     "text": [
      "[1, 2, [3, 4, 5], 6]\n",
      "(1, 2, (3, 4, 5), 6)\n",
      "(3, 4, 5)\n",
      "4\n",
      "(3, 4, 5)\n"
     ]
    }
   ],
   "source": [
    "#Nested List\n",
    "nested_list = [1, 2, [3, 4, 5], 6]\n",
    "print(nested_list)\n",
    "\n",
    "\n",
    "# Nested Tuples\n",
    "nested_tuple = ([1,2], (3, 4, 5), 6)\n",
    "print(nested_tuple)\n",
    "print(nested_tuple[2])\n",
    "print(nested_tuple[2][1])\n",
    "print(nested_tuple[2][0:3])"
   ]
  },
  {
   "cell_type": "code",
   "execution_count": 43,
   "metadata": {},
   "outputs": [
    {
     "name": "stdout",
     "output_type": "stream",
     "text": [
      "(1, 2, (3, 4, 5), 6)\n",
      "1\n",
      "2\n",
      "3\n",
      "4\n",
      "5\n",
      "6\n"
     ]
    }
   ],
   "source": [
    "print(nested_tuple)\n",
    "# Iterating over nested tuples\n",
    "for n in nested_tuple:\n",
    "    if isinstance(n, tuple): # Check if the element is a tuple\n",
    "        for value in n:\n",
    "            print(value)\n",
    "    else:\n",
    "        print(n)"
   ]
  }
 ],
 "metadata": {
  "kernelspec": {
   "display_name": "Python 3",
   "language": "python",
   "name": "python3"
  },
  "language_info": {
   "codemirror_mode": {
    "name": "ipython",
    "version": 3
   },
   "file_extension": ".py",
   "mimetype": "text/x-python",
   "name": "python",
   "nbconvert_exporter": "python",
   "pygments_lexer": "ipython3",
   "version": "3.10.14"
  }
 },
 "nbformat": 4,
 "nbformat_minor": 2
}
