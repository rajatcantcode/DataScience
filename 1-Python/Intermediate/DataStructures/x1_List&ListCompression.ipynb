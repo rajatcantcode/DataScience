{
 "cells": [
  {
   "cell_type": "markdown",
   "metadata": {},
   "source": [
    "## Lists \n",
    "Lists are used to store multiple items in a single variable.\n",
    "Lists are created using square brackets.\n",
    "List items are ordered, changeable, and allow duplicate values.\n",
    "List items are indexed, the first item has index [0], the second item has index [1] etc.\n",
    "\n",
    "## Are they like then array then ? \n",
    "Lists in Python are similar to arrays in other programming languages, but they have some differences. While arrays in other languages typically have a fixed size and can only store elements of the same data type, lists in Python are dynamic and can store elements of different data types.\n",
    "  \n",
    "\n",
    "Lists in Python also have built-in methods and functions that make it easier to work with them.\n",
    "\n"
   ]
  },
  {
   "cell_type": "code",
   "execution_count": 1,
   "metadata": {},
   "outputs": [
    {
     "name": "stdout",
     "output_type": "stream",
     "text": [
      "<class 'list'>\n"
     ]
    }
   ],
   "source": [
    "list = []\n",
    "print(type(list))"
   ]
  },
  {
   "cell_type": "code",
   "execution_count": 3,
   "metadata": {},
   "outputs": [
    {
     "name": "stdout",
     "output_type": "stream",
     "text": [
      "2.3\n",
      "True\n",
      "5\n",
      "------\n",
      "Rajat <class 'str'>\n",
      "1 <class 'int'>\n",
      "2 <class 'int'>\n",
      "2.3 <class 'float'>\n",
      "True <class 'bool'>\n",
      "------\n",
      "['Rajat', 1, 2, 2.3]\n",
      "------\n",
      "[True]\n",
      "------\n",
      "[]\n",
      "[]\n",
      "------\n",
      "Rajat\n",
      "1\n",
      "2\n",
      "2.3\n",
      "------\n",
      "Rajat\n",
      "1\n",
      "2\n",
      "------\n",
      "True\n",
      "2.3\n",
      "2\n",
      "1\n",
      "Rajat\n"
     ]
    }
   ],
   "source": [
    "list = [\"Rajat\",1,2,2.3,True]\n",
    "\n",
    "# Accessing list items\n",
    "print(list[3])\n",
    "print(list[-1]) # last element\n",
    "print(len(list)) # length of list\n",
    "\n",
    "print(\"------\")\n",
    "\n",
    "for i in list:\n",
    "    print(i, type(i))\n",
    "\n",
    "print(\"------\")\n",
    "\n",
    "print(list[0:4]) # Slicing\n",
    "\n",
    "print(\"------\")\n",
    "\n",
    "print(list[-1:]) #Prints the last element of the list\n",
    "\n",
    "print(\"------\")\n",
    "\n",
    "print(list[-1:-3]) # No Such Slicing\n",
    "print(list[-1:2]) # No Such Slicing\n",
    "\n",
    "print(\"------\")\n",
    "for i in list[:-1]: #This will print all the numbers except the last one\n",
    "    print(i)\n",
    "\n",
    "print(\"------\")\n",
    "for i in list[:3]: #This will print all the numbers before the index 3\n",
    "    print(i)\n",
    "\n",
    "print(\"------\")\n",
    "# Will print the complete but in reverse order\n",
    "for i in list[::-1]: #Note Double :: is used to reverse the list\n",
    "    print(i)\n"
   ]
  },
  {
   "cell_type": "code",
   "execution_count": 10,
   "metadata": {},
   "outputs": [
    {
     "name": "stdout",
     "output_type": "stream",
     "text": [
      "['Hero', 1, 4, 2.3, True]\n",
      "-----\n",
      "['Hero', 2, 9, 2.3, True]\n"
     ]
    }
   ],
   "source": [
    "# Modifying the list items\n",
    "list = [\"Rajat\", 1, 4, 2.3, True]\n",
    "list[0] = \"Hero\"\n",
    "print(list)\n",
    "\n",
    "# ['Hero', 1, 4, 2.3, True]\n",
    "\n",
    "print(\"-----\")\n",
    "\n",
    "# Replacing the index 1 and 3 rd elements : (1 and 4) with 2 and 9\n",
    "list[1:3] = [2, 9]\n",
    "print(list)"
   ]
  },
  {
   "cell_type": "code",
   "execution_count": 12,
   "metadata": {},
   "outputs": [
    {
     "name": "stdout",
     "output_type": "stream",
     "text": [
      "['Hero', 'H', 'e', 'r', 'o']\n"
     ]
    }
   ],
   "source": [
    "list[1:] = \"Hero\" # considerting each character as a list element\n",
    "print(list)"
   ]
  },
  {
   "cell_type": "code",
   "execution_count": 16,
   "metadata": {},
   "outputs": [
    {
     "name": "stdout",
     "output_type": "stream",
     "text": [
      "['Rajat', 1, 2, 2.3, True, 'Hero']\n",
      "['Rajat', 'Rajat', 1, 2, 2.3, True, 'Hero']\n",
      "['Rajat', 1, 2, 2.3, True, 'Hero']\n",
      "['Rajat', 1, 2, 2.3, True]\n",
      "['Rajat', 2, 2.3, True]\n",
      "1\n"
     ]
    }
   ],
   "source": [
    "#List Methods\n",
    "# Add element at the end\n",
    "list = [\"Rajat\",1,2,2.3,True]\n",
    "list.append(\"Hero\")\n",
    "print(list)\n",
    "\n",
    "# Add element at a specific index\n",
    "list.insert(1,\"Rajat\")\n",
    "print(list)\n",
    "\n",
    "# Remove element\n",
    "list.remove(\"Rajat\")\n",
    "print(list)\n",
    "\n",
    "\n",
    "#Remove the last element\n",
    "list.pop()\n",
    "print(list)\n",
    "\n",
    "# Remove and return the last element at a specific index\n",
    "last = list.pop(1)\n",
    "print(list)\n",
    "print(last)\n",
    "\n"
   ]
  },
  {
   "cell_type": "code",
   "execution_count": 23,
   "metadata": {},
   "outputs": [
    {
     "name": "stdout",
     "output_type": "stream",
     "text": [
      "3\n",
      "4\n",
      "[]\n"
     ]
    }
   ],
   "source": [
    "#Get the index of a specific element\n",
    "list = [\"Rajat\",1,2,2.3,True]\n",
    "print(list.index(2.3))\n",
    "\n",
    "#Count the number of occurences of a specific element\n",
    "list = [\"Rajat\",1,2,2.3,True,2.3,2.3,2.3]\n",
    "print(list.count(2.3))\n",
    "\n",
    "#Clear the list\n",
    "list.clear()\n",
    "print(list)"
   ]
  },
  {
   "cell_type": "code",
   "execution_count": 27,
   "metadata": {},
   "outputs": [
    {
     "name": "stdout",
     "output_type": "stream",
     "text": [
      "[1, 2, 3]\n",
      "[2, 3]\n",
      "[1, 2, 3]\n",
      "[4, 5, 6, 7, 8, 9, 10]\n",
      "[1, 3, 5, 7, 9]\n",
      "[10, 9, 8, 7, 6, 5, 4, 3, 2, 1]\n",
      "[10, 8, 6, 4, 2]\n",
      "[1, 2, 3, 4, 5, 6, 7, 8, 9, 10]\n"
     ]
    }
   ],
   "source": [
    "#Slicing the list \n",
    "list = [1,2,3,4,5,6,7,8,9,10]\n",
    "print(list[0:3])\n",
    "print(list[1:3])\n",
    "print(list[:3])\n",
    "print(list[3:])\n",
    "print(list[::2]) #Step of 2\n",
    "print(list[::-1]) #Reverse the list\n",
    "print(list[::-2]) #Reverse the list with step of 2\n",
    "print(list[::]) #Copy the list\n"
   ]
  },
  {
   "cell_type": "code",
   "execution_count": 30,
   "metadata": {},
   "outputs": [
    {
     "name": "stdout",
     "output_type": "stream",
     "text": [
      "1\n",
      "2\n",
      "3\n",
      "4\n",
      "5\n",
      "6\n",
      "7\n",
      "8\n",
      "9\n",
      "10\n",
      " \n",
      "0 1\n",
      "1 2\n",
      "2 3\n",
      "3 4\n",
      "4 5\n",
      "5 6\n",
      "6 7\n",
      "7 8\n",
      "8 9\n",
      "9 10\n"
     ]
    }
   ],
   "source": [
    "## Iterating over list\n",
    "list = [1,2,3,4,5,6,7,8,9,10]\n",
    "for i in list:\n",
    "    print(i)\n",
    "\n",
    "print(\"------\")\n",
    "\n",
    "# Iterate over the index\n",
    "# TODO : why enumerate is not available as a special keyword\n",
    "for i,number in enumerate(list): #enumerate returns the index and the value\n",
    "    print(i,number)"
   ]
  },
  {
   "cell_type": "code",
   "execution_count": 41,
   "metadata": {},
   "outputs": [
    {
     "name": "stdout",
     "output_type": "stream",
     "text": [
      "[0, 1, 4, 9, 16, 25, 36, 49, 64, 81]\n",
      "[0, 1, 4, 9, 16, 25, 36, 49, 64, 81]\n",
      "[0, 4, 16, 36, 64]\n",
      "[0, 4, 16, 36, 64]\n",
      "[[1, 4], [1, 5], [1, 6], [2, 4], [2, 5], [2, 6], [3, 4], [3, 5], [3, 6]]\n",
      "[[1, 4], [1, 5], [1, 6], [2, 4], [2, 5], [2, 6], [3, 4], [3, 5], [3, 6]]\n"
     ]
    }
   ],
   "source": [
    "# List comprehension\n",
    "list = []\n",
    "for i in range(10):\n",
    "    list.append(i**2) # Square of i\n",
    "print(list)\n",
    "\n",
    "\n",
    "list = [i**2 for i in range(10)] # What we want as output and then the loop\n",
    "print(list)\n",
    "\n",
    "\n",
    "list = []\n",
    "for i in range(10):\n",
    "    if i%2 == 0:\n",
    "        list.append(i**2)\n",
    "print(list)\n",
    "\n",
    "# List comprehension with condition\n",
    "# [HowWeWantOuput Loop if condition]\n",
    "list = [i**2 for i in range(10) if i%2 == 0] # Square of i if i is even - Conditional logic at the last\n",
    "print(list)\n",
    "\n",
    "\n",
    "# Nested List\n",
    "list1 = [1,2,3]\n",
    "list2 = [4,5,6]\n",
    "newlist = []\n",
    "for i in list1:\n",
    "    for j in list2:\n",
    "        newlist.append([i,j])\n",
    "print(newlist)\n",
    "\n",
    "#Nested list comprehension\n",
    "newlist = []\n",
    "newlist = [[i, j] for i in list1 for j in list2]\n",
    "print(newlist)\n",
    "\n"
   ]
  }
 ],
 "metadata": {
  "kernelspec": {
   "display_name": "Python 3",
   "language": "python",
   "name": "python3"
  },
  "language_info": {
   "codemirror_mode": {
    "name": "ipython",
    "version": 3
   },
   "file_extension": ".py",
   "mimetype": "text/x-python",
   "name": "python",
   "nbconvert_exporter": "python",
   "pygments_lexer": "ipython3",
   "version": "3.10.14"
  }
 },
 "nbformat": 4,
 "nbformat_minor": 2
}
