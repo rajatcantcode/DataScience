{
 "cells": [
  {
   "cell_type": "markdown",
   "metadata": {},
   "source": [
    "Sets are a built-in data type in Python used to store collections of unique items. They are unordered, meaning that the elements do not follow a specific order, and they do not allow duplicate elements.\n",
    "\n",
    "Sets are useful for membership tests, eliminating duplicate entries, and performing mathematical set operations like union, intersection, difference, and symmetric difference.\n",
    "\n",
    "- create a set\n",
    "- basic set of operations\n",
    "- membership test\n",
    "- Mathematical Operation     \n",
    "    union   \n",
    "    intersection     \n",
    "    intersection_update    \n",
    "    difference   \n",
    "    difference_update     \n",
    "    Symmetric difference  \n",
    "- setMethods         \n",
    "    issubset      \n",
    "    issuperset           \n",
    "    "
   ]
  },
  {
   "cell_type": "code",
   "execution_count": 8,
   "metadata": {},
   "outputs": [
    {
     "name": "stdout",
     "output_type": "stream",
     "text": [
      "{1, 2, 3, 4, 5}\n",
      "<class 'set'>\n",
      "---------\n",
      "set()\n",
      "<class 'set'>\n",
      "---------\n",
      "{1, 2, 3, 4, 5}\n",
      "<class 'set'>\n"
     ]
    }
   ],
   "source": [
    "mySet = {1,2,3,4,5}\n",
    "print(mySet)\n",
    "print(type(mySet))\n",
    "\n",
    "\n",
    "print(\"---------\")\n",
    "\n",
    "# Another way \n",
    "\n",
    "mySet2 = set()\n",
    "print(mySet2)\n",
    "print(type(mySet2))\n",
    "\n",
    "print(\"---------\")\n",
    "\n",
    "# ---------------\n",
    "mySet2=set([1,2,3,4,5])\n",
    "print(mySet2)\n",
    "print(type(mySet2))"
   ]
  },
  {
   "cell_type": "code",
   "execution_count": 11,
   "metadata": {},
   "outputs": [
    {
     "name": "stdout",
     "output_type": "stream",
     "text": [
      "{1, 2, 3, 4, 5}\n"
     ]
    }
   ],
   "source": [
    "# Set are going to ignore the duplicate the values\n",
    "mySet3 = {1,2,3,4,5,5,5,5,5,5,5,5,5,5,5,5,5,5,5}\n",
    "print(mySet3) # {1, 2, 3, 4, 5}"
   ]
  },
  {
   "cell_type": "code",
   "execution_count": 19,
   "metadata": {},
   "outputs": [
    {
     "name": "stdout",
     "output_type": "stream",
     "text": [
      "10\n",
      "{11}\n"
     ]
    }
   ],
   "source": [
    "# Basic Set of Operations\n",
    "mySet4 = set()\n",
    "mySet4.add(8)\n",
    "mySet4.add(8)\n",
    "mySet4.remove(8)\n",
    "# mySet4.remove(9)# This will give an error because 9 does not exist\n",
    "# Solution : \n",
    "mySet4.discard(9) # This will not give an error\n",
    "mySet4.add(10)\n",
    "removedElement = mySet4.pop() # This will remove the first element and return the removed element\n",
    "print(removedElement)\n",
    "\n",
    "mySet4.add(11)\n",
    "print(mySet4)\n",
    "\n",
    "mySet4.clear()\n",
    "\n",
    "# Clear all the elements\n",
    "mySet4.clear()\n",
    "\n"
   ]
  },
  {
   "cell_type": "code",
   "execution_count": 20,
   "metadata": {},
   "outputs": [
    {
     "name": "stdout",
     "output_type": "stream",
     "text": [
      "True\n"
     ]
    }
   ],
   "source": [
    "# Set Membership Test\n",
    "mySet5 = {1,2,3,4,5}\n",
    "print(1 in mySet5) # True"
   ]
  },
  {
   "cell_type": "code",
   "execution_count": 31,
   "metadata": {},
   "outputs": [
    {
     "name": "stdout",
     "output_type": "stream",
     "text": [
      "{1, 2, 3, 4, 5, 6, 7, 8}\n",
      "{4, 5}\n",
      "{4, 5}\n",
      "{1, 2, 3}\n",
      "{1, 2, 3, 4, 5}\n",
      "{1, 2, 3}\n",
      "{1, 2, 3, 6, 7, 8}\n"
     ]
    }
   ],
   "source": [
    "# Mathematical Operations\n",
    "mySet6 = {1,2,3,4,5}\n",
    "mySet7 = {4,5,6,7,8}\n",
    "\n",
    "# Union - Combining everything\n",
    "unionSet = mySet6.union(mySet7)\n",
    "print(unionSet)\n",
    "\n",
    "# Intersection - Common Sets\n",
    "intersectionSet = mySet6.intersection(mySet7)\n",
    "print(intersectionSet)\n",
    "\n",
    "# Intersection Update\n",
    "mySet6.intersection_update(mySet7)\n",
    "print(mySet6)\n",
    "# was {1,2,3,4,5}\n",
    "# Updated :{4, 5} - This will update the mySet6 with the intersection values\n",
    "\n",
    "# Difference - Difference between two sets\n",
    "mySet6 = {1,2,3,4,5}\n",
    "differenceSet = mySet6.difference(mySet7)\n",
    "print(differenceSet) # set6 - set7 = {1,2,3} - remove the common elements\n",
    "\n",
    "print(mySet6) # {1,2,3,4,5}\n",
    "mySet6.difference_update(mySet7)\n",
    "print(mySet6) # {1,2,3} - This will update the mySet6 with the difference values\n",
    "\n",
    "mySet6 = {1,2,3,4,5}\n",
    "\n",
    "# Symmetric Difference - Remove the common elements and keep the rest\n",
    "symmetricDifferenceSet = mySet6.symmetric_difference(mySet7)\n",
    "print(symmetricDifferenceSet) # {1, 2, 3, 6, 7, 8}"
   ]
  },
  {
   "cell_type": "code",
   "execution_count": 30,
   "metadata": {},
   "outputs": [
    {
     "name": "stdout",
     "output_type": "stream",
     "text": [
      "{1, 2, 3, 6, 7, 8}\n"
     ]
    }
   ],
   "source": [
    "# Set Methods\n",
    "set1 = {1,2,3}\n",
    "set2 = {3,4,5}\n",
    "\n",
    "# issubset : Check if set1 is a subset of set2 \n",
    "print(set1.issubset(set2)) # False\n",
    "\n",
    "# issuperset : Check if set1 is a superset of set2 : set1 contains all the elements of set2\n",
    "print(set1.issuperset(set2)) # False\n",
    "\n",
    "# And many more methods\n"
   ]
  },
  {
   "cell_type": "code",
   "execution_count": 34,
   "metadata": {},
   "outputs": [
    {
     "name": "stdout",
     "output_type": "stream",
     "text": [
      "{'Rajat', 'am', 'I'}\n",
      "3\n"
     ]
    }
   ],
   "source": [
    "# Counting unique words in a text\n",
    "text = \"I am Rajat\"\n",
    "uniqueWords = set(text.split()) # check space and split the words\n",
    "print(uniqueWords) # {'I', 'Rajat', 'am'}\n",
    "print(len(uniqueWords)) # 3"
   ]
  }
 ],
 "metadata": {
  "kernelspec": {
   "display_name": "Python 3",
   "language": "python",
   "name": "python3"
  },
  "language_info": {
   "codemirror_mode": {
    "name": "ipython",
    "version": 3
   },
   "file_extension": ".py",
   "mimetype": "text/x-python",
   "name": "python",
   "nbconvert_exporter": "python",
   "pygments_lexer": "ipython3",
   "version": "3.10.14"
  }
 },
 "nbformat": 4,
 "nbformat_minor": 2
}
