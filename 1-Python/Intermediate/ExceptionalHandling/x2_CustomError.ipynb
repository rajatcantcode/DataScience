{
 "cells": [
  {
   "cell_type": "code",
   "execution_count": 4,
   "metadata": {},
   "outputs": [
    {
     "name": "stdout",
     "output_type": "stream",
     "text": [
      "Simba !! Age cannot be negative \n"
     ]
    }
   ],
   "source": [
    "# We know that Exception is a in-built class\n",
    "\n",
    "# Empty class\n",
    "class DOBException(Exception):\n",
    "    pass\n",
    "\n",
    "age = int(input(\"Enter your age: \"))\n",
    "try : \n",
    "    if age < 0:\n",
    "      # We can also pass a message to the exception\n",
    "      # raise DOBException(\"Rajat !! Age cannot be negative\")\n",
    "      raise DOBException\n",
    "      \n",
    "    else:\n",
    "      print(\"Age is:\", age)\n",
    "except DOBException:\n",
    "   print(\"Simba !! Age cannot be negative \")\n"
   ]
  },
  {
   "cell_type": "code",
   "execution_count": null,
   "metadata": {},
   "outputs": [],
   "source": []
  }
 ],
 "metadata": {
  "kernelspec": {
   "display_name": "Python 3",
   "language": "python",
   "name": "python3"
  },
  "language_info": {
   "codemirror_mode": {
    "name": "ipython",
    "version": 3
   },
   "file_extension": ".py",
   "mimetype": "text/x-python",
   "name": "python",
   "nbconvert_exporter": "python",
   "pygments_lexer": "ipython3",
   "version": "3.10.14"
  }
 },
 "nbformat": 4,
 "nbformat_minor": 2
}
