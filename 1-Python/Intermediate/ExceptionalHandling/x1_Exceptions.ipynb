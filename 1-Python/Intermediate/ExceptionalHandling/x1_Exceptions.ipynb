{
 "cells": [
  {
   "cell_type": "markdown",
   "metadata": {},
   "source": [
    "Exception handling in Python allows you to manage errors gracefully and take corrective actions without stopping the program's execution."
   ]
  },
  {
   "cell_type": "markdown",
   "metadata": {},
   "source": [
    "## What are Exceptions?\n",
    "Exceptions are events that disrupt the normal flow of a program. They occur when an error is encountered during program execution. Common exceptions include division by zero, file not found, or invalid input.\n",
    "\n",
    "For more details, refer to this image: Extra-Important/python/4TypesOfError.png.\n",
    "\n",
    "Errors in python can be classified into 4 types \n",
    "- ZeroDivisionError : Dividing by zero\n",
    "- FileNotFoundError : File not found\n",
    "- ValueError : Invalid value\n",
    "- TypeError : Invalid type"
   ]
  },
  {
   "cell_type": "code",
   "execution_count": 14,
   "metadata": {},
   "outputs": [
    {
     "name": "stdout",
     "output_type": "stream",
     "text": [
      "Error :  division by zero\n",
      "This will execute no matter what\n"
     ]
    }
   ],
   "source": [
    "# Exception with \"try,except,finally\" and handling them like a pro 🔥\n",
    "# Note : Python does not have 'catch' block instead it has 'except' block which is used to catch the exceptions\n",
    "# It has 'except' block and 'finally' block\n",
    "\n",
    "\n",
    "# Example 1 : ZeroDivisionError\n",
    "try:\n",
    "    a = 10\n",
    "    b = 0\n",
    "    c = a/b\n",
    "    print(c)\n",
    "except ZeroDivisionError as rajatSimba:\n",
    "    print(\"Error : \" , rajatSimba)\n",
    "finally:\n",
    "    print(\"This will execute no matter what\")"
   ]
  },
  {
   "cell_type": "code",
   "execution_count": null,
   "metadata": {},
   "outputs": [],
   "source": [
    "# Example 2 : FileNotFoundError\n",
    "try:\n",
    "    file = open(\"file.txt\")\n",
    "    print(file.read())\n",
    "    file.close()\n",
    "except FileNotFoundError as rajatSimba:\n",
    "    print(\"Error : \" , rajatSimba)\n",
    "finally:\n",
    "    print(\"This will execute no matter what\")"
   ]
  },
  {
   "cell_type": "code",
   "execution_count": 15,
   "metadata": {},
   "outputs": [
    {
     "name": "stdout",
     "output_type": "stream",
     "text": [
      "Error :  name 'x' is not defined\n",
      "This will execute no matter what\n"
     ]
    }
   ],
   "source": [
    "# Example 3 : NameError\n",
    "try:\n",
    "    a = x\n",
    "except NameError as rajatSimba:\n",
    "    print(\"Error : \" , rajatSimba)\n",
    "finally:\n",
    "    print(\"This will execute no matter what\")"
   ]
  },
  {
   "cell_type": "code",
   "execution_count": 22,
   "metadata": {},
   "outputs": [
    {
     "name": "stdout",
     "output_type": "stream",
     "text": [
      "Error :  division by zero\n"
     ]
    }
   ],
   "source": [
    "# Exampe 4: Handling multiple exceptions\n",
    "try:\n",
    "    a = 10\n",
    "    b = 0\n",
    "    c = a/b\n",
    "    print(c)\n",
    "except ZeroDivisionError as rajatSimba:\n",
    "    print(\"Error : \" , rajatSimba)\n",
    "except NameError as rajatSimba:\n",
    "    print(\"Error : \" , rajatSimba)\n",
    "except TypeError as rajatSimba:\n",
    "    print(\"Error : \" , rajatSimba)"
   ]
  },
  {
   "cell_type": "code",
   "execution_count": 21,
   "metadata": {},
   "outputs": [
    {
     "name": "stdout",
     "output_type": "stream",
     "text": [
      "Error :  division by zero\n"
     ]
    }
   ],
   "source": [
    "# Example 5 : Father of all exceptions : Exception class \n",
    "# Now we don't need to mention the specific exception class like ZeroDivisionError, FileNotFoundError, NameError etc\n",
    "\n",
    "try:\n",
    "    a = b/0\n",
    "    l = m\n",
    "except Exception as rajatSimba : \n",
    "    print(\"Error : \" , rajatSimba)\n"
   ]
  },
  {
   "cell_type": "code",
   "execution_count": 36,
   "metadata": {},
   "outputs": [
    {
     "name": "stdout",
     "output_type": "stream",
     "text": [
      "Error :  Rajat is not a terrorist\n",
      "Number is greater then 5\n"
     ]
    }
   ],
   "source": [
    "# Exampe 6 : Else block only if the try block does not raise any exception\n",
    "try:\n",
    "    a = 10\n",
    "    # b = 1\n",
    "    b = 0\n",
    "    if b == 0:\n",
    "        raise ZeroDivisionError(\"Rajat is not a terrorist\")\n",
    "    c = a/b\n",
    "    print(c)\n",
    "except ZeroDivisionError as rajatSimba:\n",
    "    print(\"Error : \" , rajatSimba)\n",
    "else:\n",
    "    print(f\"the result is {c}\")\n",
    "    print(\"This will execute if try block does not raise any exception\")\n",
    "finally:\n",
    "    if c > 5 : \n",
    "        print(\"Number is greater then 5\")\n"
   ]
  }
 ],
 "metadata": {
  "kernelspec": {
   "display_name": "Python 3",
   "language": "python",
   "name": "python3"
  },
  "language_info": {
   "codemirror_mode": {
    "name": "ipython",
    "version": 3
   },
   "file_extension": ".py",
   "mimetype": "text/x-python",
   "name": "python",
   "nbconvert_exporter": "python",
   "pygments_lexer": "ipython3",
   "version": "3.10.14"
  }
 },
 "nbformat": 4,
 "nbformat_minor": 2
}
