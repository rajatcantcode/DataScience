{
 "cells": [
  {
   "cell_type": "markdown",
   "metadata": {},
   "source": [
    "The filter() function creates an iterator from elements of an iterable for which a given function returns True. It is used to filter items from a list (or any other iterable) based on a condition."
   ]
  },
  {
   "cell_type": "code",
   "execution_count": 3,
   "metadata": {},
   "outputs": [
    {
     "name": "stdout",
     "output_type": "stream",
     "text": [
      "[2, 4, 6, 8, 10]\n",
      "[6, 7, 8, 9, 10]\n"
     ]
    }
   ],
   "source": [
    "numbers=[1,2,3,4,5,6,7,8,9,10]\n",
    "evenNumbers = list(filter(lambda x: x%2==0,numbers))\n",
    "print(evenNumbers)\n",
    "\n",
    "greterThanFive = list(filter(lambda x: x>5,numbers))\n",
    "print(greterThanFive)"
   ]
  },
  {
   "cell_type": "code",
   "execution_count": 5,
   "metadata": {},
   "outputs": [
    {
     "name": "stdout",
     "output_type": "stream",
     "text": [
      "[{'name': 'Rajat', 'house': 'Noida'}, {'name': 'Simba', 'house': 'Noida'}]\n"
     ]
    }
   ],
   "source": [
    "people =[\n",
    "    {\"name\":\"Rajat\",\"house\":\"Noida\"},\n",
    "    {\"name\":\"Simba\",\"house\":\"Noida\"},\n",
    "    {\"name\":\"Sharma\",\"house\":\"Delhi\"}\n",
    "]\n",
    "\n",
    "noidaPeople = list(filter(lambda x:x[\"house\"]==\"Noida\",people))\n",
    "print(noidaPeople)\n"
   ]
  }
 ],
 "metadata": {
  "kernelspec": {
   "display_name": "Python 3",
   "language": "python",
   "name": "python3"
  },
  "language_info": {
   "codemirror_mode": {
    "name": "ipython",
    "version": 3
   },
   "file_extension": ".py",
   "mimetype": "text/x-python",
   "name": "python",
   "nbconvert_exporter": "python",
   "pygments_lexer": "ipython3",
   "version": "3.10.14"
  }
 },
 "nbformat": 4,
 "nbformat_minor": 2
}
