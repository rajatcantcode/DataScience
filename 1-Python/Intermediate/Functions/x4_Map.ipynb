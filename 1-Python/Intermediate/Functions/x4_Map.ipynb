{
 "cells": [
  {
   "cell_type": "markdown",
   "metadata": {},
   "source": [
    "The map() function applies a given function to all items in an input list (or any other iterable) and returns a map object (an iterator).      \n",
    "This is particularly useful for comprehensively transforming data in a list."
   ]
  },
  {
   "cell_type": "code",
   "execution_count": 4,
   "metadata": {},
   "outputs": [
    {
     "name": "stdout",
     "output_type": "stream",
     "text": [
      "[1, 4, 9, 16, 25, 36]\n"
     ]
    }
   ],
   "source": [
    "numbers = [1, 2, 3, 4, 5, 6]\n",
    "squared_numbers = list(map(lambda x: x ** 2, numbers))\n",
    "print(squared_numbers)\n"
   ]
  },
  {
   "cell_type": "code",
   "execution_count": 6,
   "metadata": {},
   "outputs": [
    {
     "name": "stdout",
     "output_type": "stream",
     "text": [
      "[-1, -4, -9, -16]\n"
     ]
    }
   ],
   "source": [
    "# Multiple Map \n",
    "numbers1 = [1,2,3,4]\n",
    "numbers2 = [-1,-2,-3,-4]\n",
    "\n",
    "result = list(map(lambda x,y : x*y, numbers1, numbers2))\n",
    "print(result)"
   ]
  },
  {
   "cell_type": "code",
   "execution_count": 7,
   "metadata": {},
   "outputs": [
    {
     "name": "stdout",
     "output_type": "stream",
     "text": [
      "['APPLE', 'MONGO', 'BANANA']\n"
     ]
    }
   ],
   "source": [
    "words=[\"apple\",\"mongo\",\"banana\"]\n",
    "upperCase = list(map(lambda x:x.upper(),words))\n",
    "print(upperCase)"
   ]
  },
  {
   "cell_type": "code",
   "execution_count": 9,
   "metadata": {},
   "outputs": [
    {
     "name": "stdout",
     "output_type": "stream",
     "text": [
      "['Simba', 'Rajat']\n",
      "['Dog', 'Human']\n"
     ]
    }
   ],
   "source": [
    "people=[{\"name\":\"Simba\",\"animal\":\"Dog\"},{\"name\":\"Rajat\",\"animal\":\"Human\"}]\n",
    "names = list(map(lambda x:x[\"name\"],people))\n",
    "print(names)\n",
    "\n",
    "animal = list(map(lambda x:x[\"animal\"],people))\n",
    "print(animal)\n"
   ]
  }
 ],
 "metadata": {
  "kernelspec": {
   "display_name": "Python 3",
   "language": "python",
   "name": "python3"
  },
  "language_info": {
   "codemirror_mode": {
    "name": "ipython",
    "version": 3
   },
   "file_extension": ".py",
   "mimetype": "text/x-python",
   "name": "python",
   "nbconvert_exporter": "python",
   "pygments_lexer": "ipython3",
   "version": "3.10.14"
  }
 },
 "nbformat": 4,
 "nbformat_minor": 2
}
