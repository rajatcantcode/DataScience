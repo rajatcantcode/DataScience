{
 "cells": [
  {
   "cell_type": "markdown",
   "metadata": {},
   "source": [
    "Functions Practice \n",
    "1. Temperature Conversions \n",
    "2. Password Strength Tracker\n",
    "3. Check if the string is palindrome or not\n",
    "4. Calculate factorials of number in a factorial\n",
    "5. Read a file and count the frequency of each word\n",
    "6. Validate the email address"
   ]
  },
  {
   "cell_type": "code",
   "execution_count": 3,
   "metadata": {},
   "outputs": [
    {
     "name": "stdout",
     "output_type": "stream",
     "text": [
      "The temperature in Fahrenheit is 284.00\n"
     ]
    }
   ],
   "source": [
    "# Example 1 \n",
    "def temp_converter():\n",
    "    temp = float(input(\"Enter the temperature in Celsius: \"))\n",
    "    temp = (temp * 9/5) + 32\n",
    "    print(f\"The temperature in Fahrenheit is {temp:.2f}\")\n",
    "\n",
    "temp_converter()"
   ]
  },
  {
   "cell_type": "code",
   "execution_count": 7,
   "metadata": {},
   "outputs": [
    {
     "name": "stdout",
     "output_type": "stream",
     "text": [
      "Password is strong enough\n"
     ]
    }
   ],
   "source": [
    "# Example 2\n",
    "# Always use Regex for password validation \n",
    "def pass_tracker():\n",
    "    password = input(\"Enter your password: \")\n",
    "\n",
    "    # Initialize flags to check for character types\n",
    "    has_upper = False\n",
    "    has_lower = False\n",
    "    has_digit = False\n",
    "    has_special = False\n",
    "    special_characters = \"!@#$%^&*\"\n",
    "\n",
    "    # Check each character in the password\n",
    "    for char in password:\n",
    "        if char.isupper():\n",
    "            has_upper = True\n",
    "        elif char.islower():\n",
    "            has_lower = True\n",
    "        elif char.isdigit():\n",
    "            has_digit = True\n",
    "        elif char in special_characters:\n",
    "            has_special = True\n",
    "\n",
    "    # Check if all conditions are met\n",
    "    if len(password) < 8:\n",
    "        print(\"Password is too short\")\n",
    "    elif not (has_upper and has_lower and has_digit and has_special):\n",
    "        print(\"Password must include at least one lowercase letter, one uppercase letter, one digit, and one special character.\")\n",
    "    else:\n",
    "        print(\"Password is strong\")\n",
    "\n",
    "pass_tracker()"
   ]
  },
  {
   "cell_type": "code",
   "execution_count": 12,
   "metadata": {},
   "outputs": [
    {
     "name": "stdout",
     "output_type": "stream",
     "text": [
      "The word is not a palindrome\n"
     ]
    }
   ],
   "source": [
    "# Example 3\n",
    "def check_palindrome():\n",
    "    word = input(\"Enter a word: \")\n",
    "    if word == word[::-1]: # remember that [::-1] reverses the string\n",
    "        print(\"The word is a palindrome\")\n",
    "    else:\n",
    "        print(\"The word is not a palindrome\")\n",
    "\n",
    "\n",
    "check_palindrome()\n"
   ]
  },
  {
   "cell_type": "code",
   "execution_count": 18,
   "metadata": {},
   "outputs": [
    {
     "data": {
      "text/plain": [
       "24"
      ]
     },
     "execution_count": 18,
     "metadata": {},
     "output_type": "execute_result"
    }
   ],
   "source": [
    "# Example 4\n",
    "\n",
    "def factorialRecussion(n):\n",
    "    if n == 0:\n",
    "        return 1\n",
    "    else:\n",
    "        return n * factorialRecussion(n-1)\n",
    "    \n",
    "\n",
    "n = int(input(\"Enter a number: \"))\n",
    "factorialRecussion(n)\n"
   ]
  },
  {
   "cell_type": "code",
   "execution_count": 21,
   "metadata": {},
   "outputs": [
    {
     "data": {
      "text/plain": [
       "{'Hi': 2,\n",
       " 'This': 2,\n",
       " 'is': 2,\n",
       " 'Rajat': 1,\n",
       " 'And': 1,\n",
       " 'this': 1,\n",
       " 'file': 1,\n",
       " 'helps': 1,\n",
       " 'in': 1,\n",
       " 'Practice': 1,\n",
       " 'Set': 1,\n",
       " '2': 4,\n",
       " '22': 1}"
      ]
     },
     "execution_count": 21,
     "metadata": {},
     "output_type": "execute_result"
    }
   ],
   "source": [
    "# Example 5\n",
    "\n",
    "def countFrequency(file_path):\n",
    "    wordDictionary={}\n",
    "    with open(file_path,\"r\") as file:\n",
    "        for line in file:\n",
    "            words = line.split() # split the line into words\n",
    "            for word in words:\n",
    "                if word in wordDictionary:\n",
    "                    wordDictionary[word] += 1\n",
    "                else:\n",
    "                    wordDictionary[word] = 1\n",
    "    return wordDictionary\n",
    "countFrequency(\"sample.txt\")\n",
    "\n"
   ]
  },
  {
   "cell_type": "code",
   "execution_count": 23,
   "metadata": {},
   "outputs": [
    {
     "name": "stdout",
     "output_type": "stream",
     "text": [
      "Email is valid\n"
     ]
    }
   ],
   "source": [
    "# Exmaple 6\n",
    "# Using Regex Operations\n",
    "import re \n",
    "\n",
    "def isValidEmail(email):\n",
    "    # Created by chatgpt \n",
    "    password_regex = \"^[a-zA-Z0-9._%+-]+@[a-zA-Z0-9.-]+\\.[a-zA-Z]{2,}$\"\n",
    "    if re.match(password_regex, email):\n",
    "        return True\n",
    "    else:\n",
    "        return False\n",
    "    \n",
    "email = input(\"Enter your email: \")\n",
    "if isValidEmail(email):\n",
    "    print(\"Email is valid\")\n",
    "else:\n",
    "    print(\"Email is invalid\")"
   ]
  }
 ],
 "metadata": {
  "kernelspec": {
   "display_name": "Python 3",
   "language": "python",
   "name": "python3"
  },
  "language_info": {
   "codemirror_mode": {
    "name": "ipython",
    "version": 3
   },
   "file_extension": ".py",
   "mimetype": "text/x-python",
   "name": "python",
   "nbconvert_exporter": "python",
   "pygments_lexer": "ipython3",
   "version": "3.10.14"
  }
 },
 "nbformat": 4,
 "nbformat_minor": 2
}
