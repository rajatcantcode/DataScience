{
 "cells": [
  {
   "cell_type": "markdown",
   "metadata": {},
   "source": [
    "Functions    \n",
    "- Defining Functions    \n",
    "- Calling Functions    \n",
    "- Function Parameters   \n",
    "- Default Parameters   \n",
    "- Variable-Length Arguments    \n",
    "- Return Statement   \n",
    "\n",
    "Function is a block of code that performs a specific task . helps in organizing , reusing , and improvies readibility of code "
   ]
  },
  {
   "cell_type": "code",
   "execution_count": 2,
   "metadata": {},
   "outputs": [
    {
     "name": "stdout",
     "output_type": "stream",
     "text": [
      "Hello Rajat\n"
     ]
    }
   ],
   "source": [
    "# Best Syntax for Python\n",
    "def sayHello(userName):\n",
    "    \"\"\"Docstring: Description of the function\"\"\"\n",
    "    \"\"\"This function says hello to the user\"\"\"\n",
    "    # Function Body\n",
    "    return f\"Hello {userName}\" # f-string : helps in to format the string\n",
    "\n",
    "print(sayHello(\"Rajat\"))\n"
   ]
  },
  {
   "cell_type": "code",
   "execution_count": 3,
   "metadata": {},
   "outputs": [
    {
     "name": "stdout",
     "output_type": "stream",
     "text": [
      "Even\n"
     ]
    }
   ],
   "source": [
    "def even_or_odd(num):\n",
    "    \"\"\"This function checks if the number is even or odd\"\"\"\n",
    "    if num % 2 == 0:\n",
    "        return \"Even\"\n",
    "    else:\n",
    "        return \"Odd\"\n",
    "\n",
    "print(even_or_odd(10))"
   ]
  },
  {
   "cell_type": "code",
   "execution_count": 4,
   "metadata": {},
   "outputs": [
    {
     "name": "stdout",
     "output_type": "stream",
     "text": [
      "30\n"
     ]
    }
   ],
   "source": [
    "# Function with multiple Parameters\n",
    "def add(num1, num2):\n",
    "    \"\"\"This function adds two numbers\"\"\"\n",
    "    return num1 + num2\n",
    "\n",
    "print(add(10, 20))"
   ]
  },
  {
   "cell_type": "code",
   "execution_count": 13,
   "metadata": {},
   "outputs": [
    {
     "name": "stdout",
     "output_type": "stream",
     "text": [
      "Hello, Rajat Good Morning!\n",
      "Hello, Stranger Good Morning!\n"
     ]
    }
   ],
   "source": [
    "def greet(name):\n",
    "    \"\"\"This function greets the person passed in as a parameter\"\"\"\n",
    "    print(f\"Hello, {name} Good Morning!\")  # Using f-string for formatting\n",
    "\n",
    "greet(\"Rajat\")  # Output: Hello, Rajat Good Morning!\n",
    "\n",
    "# Default parameters : If we call the function without parameter, it uses the default value\n",
    "\n",
    "def greet(name=\"Stranger\"):\n",
    "    \"\"\"This fxn greets the person passed in as a parameter\"\"\"\n",
    "    print(f\"Hello, {name} Good Morning!\")\n",
    "# Note : We are not sending any argument here : it's optional for us\n",
    "greet()\n",
    "\n"
   ]
  },
  {
   "cell_type": "code",
   "execution_count": 18,
   "metadata": {},
   "outputs": [
    {
     "name": "stdout",
     "output_type": "stream",
     "text": [
      "1 2 3 4 5\n",
      "1\n",
      "2\n",
      "3\n",
      "4\n",
      "5\n",
      "Rajat\n",
      "None\n"
     ]
    }
   ],
   "source": [
    "# Variable length arguments \n",
    "# Positional and Keyword arguments can be passed in the function\n",
    "# *args : Variable length of Positional arguments\n",
    "\n",
    "def print_random1(num1,num2,num3,num4,num5):\n",
    "    \"\"\"\"Printing 5 Numbers\"\"\"\n",
    "    print(num1,num2,num3,num4,num5)\n",
    "\n",
    "print_random1(1,2,3,4,5)\n",
    "\n",
    "# Using *args\n",
    "def print_numbers2(*args):\n",
    "    \"\"\"Printing Numbers\"\"\"\n",
    "    for num in args:\n",
    "        print(num)\n",
    "\n",
    "print(print_numbers2(1,2,3,4,5,\"Rajat\"))\n"
   ]
  },
  {
   "cell_type": "code",
   "execution_count": 26,
   "metadata": {},
   "outputs": [
    {
     "name": "stdout",
     "output_type": "stream",
     "text": [
      "first : Rajat\n",
      "mid : Kumar\n",
      "last : Sharma\n",
      "------------\n",
      "Positiong Arguments: 1\n",
      "Positiong Arguments: 2\n",
      "Positiong Arguments: 3\n",
      "Positiong Arguments: 4\n",
      "first : Rajat\n",
      "mid : Kumar\n",
      "last : Sharma\n"
     ]
    }
   ],
   "source": [
    "# Keyword argments : **kwargs : Variable length of Keyword arguments\n",
    "def myFun(**kwargs):\n",
    "    for key, value in kwargs.items():\n",
    "        print(f\"{key} : {value}\")\n",
    "\n",
    "myFun(first='Rajat', mid='Kumar', last='Sharma')\n",
    "\n",
    "\n",
    "print(\"------------\")\n",
    "\n",
    "# Keyword arguments: **kwargs and *args\n",
    "def myFun2(*args, **kwargs):\n",
    "     # Print all positional arguments (args) - will be empty in this case as no *args are provided.\n",
    "    for arg in args:\n",
    "        print(f\"Positiong Arguments: {arg}\")\n",
    "\n",
    "    for key, value in kwargs.items():\n",
    "        print(f\"{key} : {value}\")\n",
    "\n",
    "   \n",
    "\n",
    "# Call the function with keyword arguments\n",
    "myFun2(1,2,3,4,first='Rajat', mid='Kumar', last='Sharma')\n",
    "# Benefits of using *args and **kwargs :\n",
    "# 1. We do not need to know the number of arguments in advance.\n",
    "# 2. We can pass any number of arguments.\n",
    "# 3. We can use these two along with positional and keyword arguments both.\n",
    "\n",
    "# IMPORTANT : \n",
    "# myFun2(1,2,3,4,first='Rajat', mid='Kumar', last='Sharma',5,4,2) - Error : Positional arguments should be before keyword arguments"
   ]
  },
  {
   "cell_type": "code",
   "execution_count": 29,
   "metadata": {},
   "outputs": [
    {
     "data": {
      "text/plain": [
       "(100, 20, 10)"
      ]
     },
     "execution_count": 29,
     "metadata": {},
     "output_type": "execute_result"
    }
   ],
   "source": [
    "# Return Statement \n",
    "def square(num):\n",
    "    \"\"\"This function returns the square of a number\"\"\"\n",
    "    # In python note that we can return multiple values\n",
    "    return num * num , num + num , num\n",
    "\n",
    "square(10)  # (100, 20, 10)"
   ]
  }
 ],
 "metadata": {
  "kernelspec": {
   "display_name": "Python 3",
   "language": "python",
   "name": "python3"
  },
  "language_info": {
   "codemirror_mode": {
    "name": "ipython",
    "version": 3
   },
   "file_extension": ".py",
   "mimetype": "text/x-python",
   "name": "python",
   "nbconvert_exporter": "python",
   "pygments_lexer": "ipython3",
   "version": "3.10.14"
  }
 },
 "nbformat": 4,
 "nbformat_minor": 2
}
