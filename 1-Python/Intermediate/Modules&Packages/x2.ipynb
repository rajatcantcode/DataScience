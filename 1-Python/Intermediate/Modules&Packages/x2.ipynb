{
 "cells": [
  {
   "cell_type": "markdown",
   "metadata": {},
   "source": [
    "The Python Standard Library is a comprehensive collection of modules and packages bundled with Python, offering a wide range of functionalities right out of the box. Below are some of the most commonly used packages."
   ]
  },
  {
   "cell_type": "code",
   "execution_count": 2,
   "metadata": {},
   "outputs": [
    {
     "name": "stdout",
     "output_type": "stream",
     "text": [
      "array('i', [1, 2, 3, 4, 5])\n"
     ]
    }
   ],
   "source": [
    "import array as rajatArr\n",
    "arr = rajatArr.array('i', [1, 2, 3, 4, 5])\n",
    "print(arr)"
   ]
  },
  {
   "cell_type": "code",
   "execution_count": 3,
   "metadata": {},
   "outputs": [
    {
     "name": "stdout",
     "output_type": "stream",
     "text": [
      "120\n",
      "5.0\n",
      "3.141592653589793\n"
     ]
    }
   ],
   "source": [
    "import math as rajatMath\n",
    "print(rajatMath.factorial(5))\n",
    "print(rajatMath.sqrt(25))\n",
    "print(rajatMath.pi)"
   ]
  },
  {
   "cell_type": "code",
   "execution_count": 13,
   "metadata": {},
   "outputs": [
    {
     "name": "stdout",
     "output_type": "stream",
     "text": [
      "0\n",
      "banana\n"
     ]
    }
   ],
   "source": [
    "# random \n",
    "import random as rajatRandom\n",
    "# print random number between 0 and 10\n",
    "print(rajatRandom.randint(0, 10))\n",
    "\n",
    "# picks a random fruit from a list\n",
    "print(rajatRandom.choice([\"apple\", \"banana\", \"cherry\"]))"
   ]
  },
  {
   "cell_type": "code",
   "execution_count": 16,
   "metadata": {},
   "outputs": [
    {
     "name": "stdout",
     "output_type": "stream",
     "text": [
      "posix\n",
      "/Users/rajatsharma/Documents/MachineLearning/MachineLearning-myCode/1-Python/Intermediate/Modules&Packages\n",
      "['x2.ipynb', 'customPackage', 'x1.ipynb']\n"
     ]
    }
   ],
   "source": [
    "#Import the os module with alias 'rajatOs'\n",
    "import os as rajatOs\n",
    "\n",
    "#Print the name of the operating system\n",
    "print(rajatOs.name) # posix = Linux, Mac & NT = Windows\n",
    "\n",
    "#Print the current working directory\n",
    "print(rajatOs.getcwd())\n",
    "\n",
    "#List files and directories in the current working directory\n",
    "print(rajatOs.listdir())\n",
    "\n",
    "#Create a new directory named \"test\"\n",
    "rajatOs.mkdir(\"test\")"
   ]
  },
  {
   "cell_type": "code",
   "execution_count": 17,
   "metadata": {},
   "outputs": [
    {
     "data": {
      "text/plain": [
       "'x2Destination.txt'"
      ]
     },
     "execution_count": 17,
     "metadata": {},
     "output_type": "execute_result"
    }
   ],
   "source": [
    "\n",
    "# Shutil - shell utilities\n",
    "# It is a module that provides a number of high-level operations on files and collections of files\n",
    "import shutil as rajatShutil\n",
    "\n",
    "# Copy a file\n",
    "# source , destination\n",
    "rajatShutil.copyfile('x2JustForLearning.txt', 'x2Destination.txt')"
   ]
  },
  {
   "cell_type": "code",
   "execution_count": 21,
   "metadata": {},
   "outputs": [
    {
     "name": "stdout",
     "output_type": "stream",
     "text": [
      "<class 'dict'>\n",
      "<class 'str'>\n",
      "{\"name\": \"Rajat\", \"age\": 18}\n",
      "<class 'dict'>\n"
     ]
    }
   ],
   "source": [
    "# Data Serialization : Converting data to a storable/transmittable format (XML, JSON) for later use.\n",
    "import json \n",
    "data = {\"name\":\"Rajat\",\"age\":18}\n",
    "print(type(data))\n",
    "\n",
    "# Convert the dictionary to a JSON string\n",
    "json_str = json.dumps(data)\n",
    "print(type(json_str))\n",
    "print(json_str)\n",
    "\n",
    "# Convert the JSON string back to a dictionary\n",
    "data = json.loads(json_str)\n",
    "print(type(data))"
   ]
  },
  {
   "cell_type": "code",
   "execution_count": 27,
   "metadata": {},
   "outputs": [
    {
     "name": "stdout",
     "output_type": "stream",
     "text": [
      "['Name', 'Age']\n",
      "['Rajat', '18']\n",
      "['simba', '3']\n",
      "['coco', '3']\n"
     ]
    }
   ],
   "source": [
    "# csv module - common separated values - like excel sheets\n",
    "import csv as rajatCsv\n",
    "\n",
    "# mode = 'w' - write mode\n",
    "# mode = 'r' - read mode\n",
    "# mode = 'a' - append mode\n",
    "\n",
    "# storing all as 'rajatFile' object\n",
    "with open('data.csv', mode='w', newline=\"\") as rajatFile:\n",
    "    # writer function to write data to the file\n",
    "    writer = rajatCsv.writer(rajatFile)\n",
    "    writer.writerow(['Name', 'Age'])\n",
    "    writer.writerow(['Rajat', '18'])\n",
    "    writer.writerow(['simba', '3'])\n",
    "    writer.writerow(['coco', '3'])\n",
    "\n",
    "# reading from the file\n",
    "with open('data.csv', mode='r') as rajatFile:\n",
    "    reader = rajatCsv.reader(rajatFile)\n",
    "    for row in reader:\n",
    "        print(row)\n"
   ]
  },
  {
   "cell_type": "code",
   "execution_count": 33,
   "metadata": {},
   "outputs": [
    {
     "name": "stdout",
     "output_type": "stream",
     "text": [
      "2024-09-05 17:33:40.021330\n",
      "2024-09-08 17:33:40.021375\n",
      "2024-09-04 17:33:40.021416\n"
     ]
    }
   ],
   "source": [
    "# Data Time\n",
    "from datetime import datetime as rajatDateTime\n",
    "from datetime import timedelta as rajatDelta\n",
    "\n",
    "# Get the current date and time\n",
    "print(rajatDateTime.now())\n",
    "\n",
    "# Add 3 days to the current date and time\n",
    "future_date = rajatDateTime.now() + rajatDelta(days=3)\n",
    "print(future_date)\n",
    "\n",
    "# Go one day back\n",
    "yesterday = rajatDateTime.now() - rajatDelta(days=1)\n",
    "print(yesterday)\n"
   ]
  },
  {
   "cell_type": "code",
   "execution_count": 35,
   "metadata": {},
   "outputs": [
    {
     "name": "stdout",
     "output_type": "stream",
     "text": [
      "1725537896.975041\n",
      "None\n",
      "1725537916.980236\n"
     ]
    }
   ],
   "source": [
    "import time\n",
    "# Get the current time\n",
    "print(time.time())\n",
    "# Sleeping the program for 20 seconds\n",
    "print(time.sleep(20))\n",
    "print(time.time())"
   ]
  },
  {
   "cell_type": "code",
   "execution_count": 42,
   "metadata": {},
   "outputs": [
    {
     "name": "stdout",
     "output_type": "stream",
     "text": [
      "<re.Match object; span=(0, 5), match='rajat'>\n",
      "rajat\n",
      "<re.Match object; span=(12, 16), match='1234'>\n",
      "1234\n"
     ]
    }
   ],
   "source": [
    "# Regular expression\n",
    "import re as rajatRe\n",
    "# Search for a pattern in a string\n",
    "pattern = '^r...t$'\n",
    "pattern2 = '\\d+' # one or more digits\n",
    "test_string_1 = 'rajat'\n",
    "test_string_2 = 'rajat have $1234'\n",
    "\n",
    "result_1 = rajatRe.search(pattern, test_string_1)\n",
    "result_2 = rajatRe.search(pattern2, test_string_2)\n",
    "\n",
    "print(result_1)\n",
    "print(result_1.group())\n",
    "print(result_2)\n",
    "print(result_2.group())\n"
   ]
  }
 ],
 "metadata": {
  "kernelspec": {
   "display_name": "Python 3",
   "language": "python",
   "name": "python3"
  },
  "language_info": {
   "codemirror_mode": {
    "name": "ipython",
    "version": 3
   },
   "file_extension": ".py",
   "mimetype": "text/x-python",
   "name": "python",
   "nbconvert_exporter": "python",
   "pygments_lexer": "ipython3",
   "version": "3.10.14"
  }
 },
 "nbformat": 4,
 "nbformat_minor": 2
}
