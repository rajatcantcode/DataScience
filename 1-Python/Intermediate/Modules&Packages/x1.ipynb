{
 "cells": [
  {
   "cell_type": "code",
   "execution_count": 6,
   "metadata": {},
   "outputs": [
    {
     "name": "stdout",
     "output_type": "stream",
     "text": [
      "4\n",
      "3.141592653589793\n"
     ]
    }
   ],
   "source": [
    "from math import sqrt, pi\n",
    "from math import *\n",
    "\n",
    "squareRoot = sqrt(16)\n",
    "print(int(squareRoot))\n",
    "print(pi)\n",
    "\n",
    "# Whenever you want to install any package make sure that you are using pip\n"
   ]
  },
  {
   "cell_type": "markdown",
   "metadata": {},
   "source": [
    "NumPy is a library in Python used for working with arrays and performing mathematical operations efficiently. It provides support for large, multi-dimensional arrays and matrices, along with a collection of mathematical functions to operate on them."
   ]
  },
  {
   "cell_type": "code",
   "execution_count": 8,
   "metadata": {},
   "outputs": [
    {
     "data": {
      "text/plain": [
       "array([1, 2, 3, 4])"
      ]
     },
     "execution_count": 8,
     "metadata": {},
     "output_type": "execute_result"
    }
   ],
   "source": [
    "import numpy as np \n",
    "np.array([1,2,3,4])"
   ]
  },
  {
   "cell_type": "code",
   "execution_count": 1,
   "metadata": {},
   "outputs": [
    {
     "name": "stdout",
     "output_type": "stream",
     "text": [
      "Welcome to Rajat Ki Library\n",
      "9\n",
      "Done By Simba\n",
      "15\n"
     ]
    }
   ],
   "source": [
    "# Note : There is a special file - __init__.py which is used to make a directory as a package\n",
    "from customPackage.rajatKiMaths import additionPlusOne\n",
    "print(additionPlusOne(5,3))\n",
    "\n",
    "from customPackage.subPackage.simbaKiMaths import multiplyByTwo\n",
    "print(multiplyByTwo(5,3))\n"
   ]
  }
 ],
 "metadata": {
  "kernelspec": {
   "display_name": "Python 3",
   "language": "python",
   "name": "python3"
  },
  "language_info": {
   "codemirror_mode": {
    "name": "ipython",
    "version": 3
   },
   "file_extension": ".py",
   "mimetype": "text/x-python",
   "name": "python",
   "nbconvert_exporter": "python",
   "pygments_lexer": "ipython3",
   "version": "3.10.14"
  }
 },
 "nbformat": 4,
 "nbformat_minor": 2
}
