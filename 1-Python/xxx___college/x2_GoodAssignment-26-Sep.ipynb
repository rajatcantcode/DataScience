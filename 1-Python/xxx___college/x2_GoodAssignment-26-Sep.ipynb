{
 "cells": [
  {
   "cell_type": "markdown",
   "metadata": {},
   "source": [
    "LAB ASSIGNMENT"
   ]
  },
  {
   "cell_type": "code",
   "execution_count": 5,
   "metadata": {},
   "outputs": [
    {
     "name": "stdout",
     "output_type": "stream",
     "text": [
      "2\n"
     ]
    }
   ],
   "source": [
    "# 1. Sum of first N Even Numbers\n",
    "n = int(input(\"\"))\n",
    "counter = 0\n",
    "sum_even = 0\n",
    "i = 2 # Even numbers starts from 2\n",
    "\n",
    "while counter < n:\n",
    "    if i % 2 == 0:\n",
    "        sum_even += i\n",
    "        counter += 1\n",
    "    i += 1\n",
    "\n",
    "print(sum_even)"
   ]
  },
  {
   "cell_type": "code",
   "execution_count": 16,
   "metadata": {},
   "outputs": [
    {
     "name": "stdout",
     "output_type": "stream",
     "text": [
      "2 3 5 7 11 "
     ]
    }
   ],
   "source": [
    "# 2. Print N number of prime numbers\n",
    "\n",
    "def checkPrime(number):\n",
    "    squareRoot = int(number ** 0.5) + 1\n",
    "    for i in range(2, squareRoot):\n",
    "        if number % i == 0:\n",
    "            return False\n",
    "    return True\n",
    "\n",
    "n = int(input(\"\"))\n",
    "\n",
    "counter = 0\n",
    "i = 2\n",
    "\n",
    "while counter < n:\n",
    "    if checkPrime(i):\n",
    "        print(f'{i} ',end=\"\")\n",
    "        counter += 1\n",
    "    i += 1\n"
   ]
  },
  {
   "cell_type": "code",
   "execution_count": 27,
   "metadata": {},
   "outputs": [
    {
     "name": "stdout",
     "output_type": "stream",
     "text": [
      "639\n"
     ]
    }
   ],
   "source": [
    "# 3. Sum of first N Prime Numbers\n",
    "\n",
    "def checkPrime(number):\n",
    "    # Edge Case ❤️\n",
    "    if number == 2:\n",
    "        return True\n",
    "    \n",
    "    squareRoot = int(number ** 0.5) + 1\n",
    "    for i in range(2, squareRoot):\n",
    "        if number % i == 0:\n",
    "            return False\n",
    "    return True\n",
    "\n",
    "n = int(input(\"\"))\n",
    "\n",
    "counter = 0\n",
    "i = 2\n",
    "\n",
    "listOfPrimes = []\n",
    "while counter < n:\n",
    "    if checkPrime(i):\n",
    "        listOfPrimes.append(i)\n",
    "        counter += 1\n",
    "    i += 1\n",
    "\n",
    "\n",
    "sum = 0\n",
    "for num in listOfPrimes:\n",
    "    sum += num\n",
    "print(sum)\n",
    "    "
   ]
  },
  {
   "cell_type": "code",
   "execution_count": 28,
   "metadata": {},
   "outputs": [
    {
     "name": "stdout",
     "output_type": "stream",
     "text": [
      "17\n"
     ]
    }
   ],
   "source": [
    "# 4. Print Sum of Prime Number in a given range\n",
    "# Same as 3rd problem, just changed the condition from counter < n to i < n\n",
    "\n",
    "def checkPrime(number):\n",
    "    # Edge Case ❤️\n",
    "    if number == 2:\n",
    "        return True\n",
    "    \n",
    "    squareRoot = int(number ** 0.5) + 1\n",
    "    for i in range(2, squareRoot):\n",
    "        if number % i == 0:\n",
    "            return False\n",
    "    return True\n",
    "\n",
    "n = int(input(\"\"))\n",
    "\n",
    "counter = 0\n",
    "i = 2\n",
    "\n",
    "listOfPrimes = []\n",
    "# Just changed the condition from counter < n to i < n\n",
    "while i < n:\n",
    "    if checkPrime(i):\n",
    "        listOfPrimes.append(i)\n",
    "        counter += 1\n",
    "    i += 1\n",
    "\n",
    "sum = 0\n",
    "for num in listOfPrimes:\n",
    "    sum += num\n",
    "print(sum)"
   ]
  },
  {
   "cell_type": "code",
   "execution_count": 21,
   "metadata": {},
   "outputs": [
    {
     "name": "stdout",
     "output_type": "stream",
     "text": [
      "[1, 4]\n",
      "5\n"
     ]
    }
   ],
   "source": [
    "# 5. sum of squares of first N numbers\n",
    "n = int(input(\"\"))\n",
    "\n",
    "list = []\n",
    "for i in range(1,n+1):\n",
    "    list.append(i**2) # square\n",
    "\n",
    "# print(list)\n",
    "    \n",
    "sum = 0\n",
    "for num in list:\n",
    "    sum += num\n",
    "    \n",
    "print(sum)"
   ]
  },
  {
   "cell_type": "code",
   "execution_count": 32,
   "metadata": {},
   "outputs": [
    {
     "name": "stdout",
     "output_type": "stream",
     "text": [
      "Congrats! Simba\n"
     ]
    }
   ],
   "source": [
    "# 6. Treasure Game\n",
    "def numToList(num):\n",
    "    digits = []\n",
    "    while num > 0:\n",
    "        lastDigit = num % 10\n",
    "        digits.append(lastDigit)\n",
    "        num = num // 10\n",
    "    return digits\n",
    "\n",
    "def checkCorrectCodeDigit(digits):\n",
    "    correctDigit = 0\n",
    "    for i in range(len(digits)):\n",
    "        if digits[i] == 1:\n",
    "            correctDigit += 1\n",
    "        elif digits[i] == 2:\n",
    "            correctDigit += 1\n",
    "        elif digits[i] == 3:\n",
    "            correctDigit += 1\n",
    "        elif digits[i] == 4:\n",
    "            correctDigit += 1\n",
    "    return correctDigit\n",
    "\n",
    "AttemptsLeft = 5 \n",
    "while AttemptsLeft  > 0:\n",
    "    x = input(\"Password likh madarchod\")\n",
    "    if x == \"exit\":\n",
    "        print(\"Game Over\")\n",
    "        break\n",
    "    elif x == \"1234\":\n",
    "        print(\"Congrats! Simba\")\n",
    "        break\n",
    "    else:\n",
    "        x = int(x)\n",
    "        xList = numToList(x)\n",
    "        correctDigit = checkCorrectCodeDigit(xList)\n",
    "        print(f\"Correct digits: {correctDigit}\")\n",
    "        AttemptsLeft  -= 1"
   ]
  },
  {
   "cell_type": "markdown",
   "metadata": {},
   "source": [
    "**Home Assignment**\n",
    "Problem is How to take the input"
   ]
  },
  {
   "cell_type": "code",
   "execution_count": 44,
   "metadata": {},
   "outputs": [
    {
     "name": "stdout",
     "output_type": "stream",
     "text": [
      "Arey Ladke 🔥\n"
     ]
    }
   ],
   "source": [
    "# 1. Password Verification\n",
    "'''\n",
    "Demo test Cases \n",
    "    # wrong,wrong,wrong\n",
    "    # password1,password1,password1\n",
    "    # password1   - only 1 attempt\n",
    "    # wrong,wrong - only 2 attempt \n",
    "'''\n",
    "attempts = input().split(\",\")\n",
    "\n",
    "if len(attempts) > 3:\n",
    "    print(\"Only 3 Attemps Allowed\")\n",
    "\n",
    "realPassword = \"password1\"\n",
    "\n",
    "isUnlocked = False\n",
    "for i in range(len(attempts)):\n",
    "    if attempts[i] == realPassword:\n",
    "        print(\"Arey Ladke 🔥\")\n",
    "        isUnlocked = True\n",
    "        break\n",
    "\n",
    "if isUnlocked == False:\n",
    "    print(\"Fuck Off\")\n",
    "    \n",
    "\n"
   ]
  },
  {
   "cell_type": "code",
   "execution_count": 37,
   "metadata": {},
   "outputs": [
    {
     "name": "stdout",
     "output_type": "stream",
     "text": [
      "25\n"
     ]
    }
   ],
   "source": [
    "# 2. Sum of Odd Numbers in a given range\n",
    "\n",
    "# Note : Input mein 2 numbers are in same line separated by space\n",
    "# Map Explained here : 1-Python/Intermediate/Functions/x4_Map.ipynb\n",
    "\n",
    "# map(function, iterable,..)\n",
    "start, end = map(int, input().split()) \n",
    "# fxn - will convert string to int \n",
    "# iterable - input().split() will split the input string and return a list of strings\n",
    "\n",
    "sum = 0\n",
    "for i in range(start,end+1):\n",
    "    if i % 2 != 0: \n",
    "        sum += i\n",
    "print(sum)\n"
   ]
  }
 ],
 "metadata": {
  "kernelspec": {
   "display_name": "Python 3",
   "language": "python",
   "name": "python3"
  },
  "language_info": {
   "codemirror_mode": {
    "name": "ipython",
    "version": 3
   },
   "file_extension": ".py",
   "mimetype": "text/x-python",
   "name": "python",
   "nbconvert_exporter": "python",
   "pygments_lexer": "ipython3",
   "version": "3.10.14"
  }
 },
 "nbformat": 4,
 "nbformat_minor": 2
}
