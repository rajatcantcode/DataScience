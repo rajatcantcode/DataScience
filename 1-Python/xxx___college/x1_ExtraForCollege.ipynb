{
 "cells": [
  {
   "cell_type": "markdown",
   "metadata": {},
   "source": [
    "##### Formating\n",
    "##### Eval Function\n",
    "##### isInstance\n",
    "##### Operator Precedence And Associativity\n",
    "##### Complex Number\n",
    "##### OR , AND , XOR - Logical Operators\n"
   ]
  },
  {
   "cell_type": "code",
   "execution_count": 1,
   "metadata": {},
   "outputs": [
    {
     "name": "stdout",
     "output_type": "stream",
     "text": [
      "Hello, Rajat! I am bla-bla and today i am going to do something that no one wants to do World\n",
      "This is first argument: First, and this is second argument: Second\n",
      "--------\n",
      "1 + 2 * 3 + 4 * 5 + 6\n",
      "33\n",
      "--------\n",
      "True\n",
      "False\n",
      "--------\n",
      "False 0 <class 'bool'>\n",
      "True\n",
      "True\n",
      "False\n",
      "False\n"
     ]
    }
   ],
   "source": [
    "\n",
    "# Formating with the help of format method\n",
    "# 1. \n",
    "print(\"Hello, {}! I am {} and today i am going to do something that no one wants to do {}\".format(\"Rajat\",\"bla-bla\",\"World\"))\n",
    "# 2. \n",
    "print(\"This is first argument: {0}, and this is second argument: {1}\".format(\"First\",\"Second\"))\n",
    "\n",
    "print(\"--------\")\n",
    "\n",
    "# eval function\n",
    "expression = \"1 + 2 * 3 + 4 * 5 + 6\"\n",
    "print(expression)\n",
    "print(eval(expression))\n",
    "\n",
    "print(\"--------\")\n",
    "# isInstance function\n",
    "print(isinstance(1,int))\n",
    "print(isinstance(1.0,int))\n",
    "\n",
    "print(\"--------\")\n",
    "a = False\n",
    "# a = 2\n",
    "print(a,int(a),type(a))\n",
    "print(isinstance(a,bool))\n",
    "print(isinstance(a,int)) # True for a = False because False in python is 0\n",
    "print(isinstance(a,float))\n",
    "print(isinstance(a,str))\n",
    "\n"
   ]
  },
  {
   "cell_type": "code",
   "execution_count": 4,
   "metadata": {},
   "outputs": [
    {
     "name": "stdout",
     "output_type": "stream",
     "text": [
      "2\n",
      "66\n",
      "4338204944\n",
      "4338204976\n",
      "4386092160\n",
      "4386092160\n"
     ]
    }
   ],
   "source": [
    "# Demonstration of operator precedence and associativity in Python\n",
    "\n",
    "# In the first expression, 2**1**3:\n",
    "# - The '**' operator is the exponentiation operator.\n",
    "# - Exponentiation has **right-to-left** associativity.\n",
    "# - Therefore, the expression is evaluated as 2**(1**3).\n",
    "# - 1**3 equals 1, so the expression becomes 2**1, which is 2.\n",
    "print(2**1**3)  # Output: 2\n",
    "\n",
    "# In the second expression, 2**1 + 4*2**4:\n",
    "# - Exponentiation ('**') has the **highest precedence** and is evaluated first.\n",
    "# - 2**1 equals 2, and 2**4 equals 16.\n",
    "# - The expression then becomes: 2 + 4*16.\n",
    "# - Multiplication ('*') has higher precedence than addition ('+'), so 4*16 is evaluated next.\n",
    "# - 4*16 equals 64.\n",
    "# - Now the expression is: 2 + 64.\n",
    "# - Addition is performed last, resulting in 66.\n",
    "print(2**1 + 4*2**4)  # Output: 66\n",
    "\n",
    "# Procedence of operators in Python\n",
    "# 1. Parentheses `()` evaluated first\n",
    "# 2. Exponentiation `**` evaluated next (right-to-left)\n",
    "# 3. Unary operators `+`, `-`, `~`\n",
    "# 4. Multiplication `*`, Division `/`, Floor Division `//`, Modulus `%`\n",
    "# 5. Addition `+`, Subtraction `-`\n",
    "# 6. Bitwise shifts `<<`, `>>`\n",
    "# 7. Bitwise AND `&`\n",
    "# 8. Bitwise XOR `^`\n",
    "# 9. Bitwise OR `|`\n",
    "# 10. Comparison `==`, `!=`, `>`, `<`, `>=`, `<=`\n",
    "# 11. Assignment `=`, `+=`, `-=`, `*=`, `/=`, etc.\n",
    "\n",
    "# There are 2 types of data types\n",
    "# mutable and immutable\n",
    "# mutable data types are list, set, dict\n",
    "# immutable data types are int, float, bool, string, tuple\n",
    "# if we modify the immutable data type, it will create a new object in memory\n",
    "# if we modify the mutable data type, it will modify the same object in memory\n",
    "\n",
    "# Different Memory address\n",
    "a = 2\n",
    "print(id(a))\n",
    "a = 3\n",
    "print(id(a))\n",
    "\n",
    "# Same Memory address\n",
    "l = [1,2,3]\n",
    "print(id(l))\n",
    "l.append(4)\n",
    "print(id(l))"
   ]
  },
  {
   "cell_type": "code",
   "execution_count": 1,
   "metadata": {},
   "outputs": [
    {
     "name": "stdout",
     "output_type": "stream",
     "text": [
      "3.0\n",
      "4.0\n"
     ]
    }
   ],
   "source": [
    "# Complex number : a complex number is defined as a + bj where a is the real part and b is the imaginary part.\n",
    "z = 3 + 4j \n",
    "print(z.real)  # Output: 3.0 = real part\n",
    "print(z.imag)  # Output: 4.0 j = imaginary unit"
   ]
  },
  {
   "cell_type": "markdown",
   "metadata": {},
   "source": [
    "#### OR ,  AND , XOR"
   ]
  },
  {
   "cell_type": "code",
   "execution_count": null,
   "metadata": {},
   "outputs": [],
   "source": [
    "# OR (|) Operator: Returns True if at least one operand is True\n",
    "print(True | False)  # Output: True (one True)\n",
    "print(True | True)   # Output: True (both True)\n",
    "print(False | False) # Output: False (both False)\n",
    "\n",
    "# AND (&&) Operator: Returns True if both operands are True\n",
    "print(True and False)  # Output: False (one False)\n",
    "print(True and True)   # Output: True (both True)\n",
    "print(False and False) # Output: False (both False)\n",
    "\n",
    "# XOR (^) Operator: Returns True if only one operand is True\n",
    "print(True ^ False)  # Output: True (one True)\n",
    "print(True ^ True)   # Output: False (both True)\n",
    "print(False ^ False) # Output: False (both False)"
   ]
  },
  {
   "cell_type": "code",
   "execution_count": 1,
   "metadata": {},
   "outputs": [
    {
     "name": "stdout",
     "output_type": "stream",
     "text": [
      "[2, 3, 5, 7, 11, 13, 17, 19, 23, 29]\n"
     ]
    }
   ],
   "source": [
    "def is_prime(num):\n",
    "    for i in range(2, int(num**0.5) + 1):\n",
    "        if num % i == 0:\n",
    "            return False\n",
    "    return True\n",
    "\n",
    "def get_n_primes(n):\n",
    "    primes = []\n",
    "    num = 2\n",
    "    while len(primes) < n:\n",
    "        if is_prime(num):\n",
    "            primes.append(num)\n",
    "        num += 1\n",
    "    return primes\n",
    "\n",
    "# Example usage:\n",
    "n = 10  # Change this value to get a different number of prime numbers\n",
    "print(get_n_primes(n))"
   ]
  }
 ],
 "metadata": {
  "kernelspec": {
   "display_name": "Python 3",
   "language": "python",
   "name": "python3"
  },
  "language_info": {
   "codemirror_mode": {
    "name": "ipython",
    "version": 3
   },
   "file_extension": ".py",
   "mimetype": "text/x-python",
   "name": "python",
   "nbconvert_exporter": "python",
   "pygments_lexer": "ipython3",
   "version": "3.10.14"
  }
 },
 "nbformat": 4,
 "nbformat_minor": 2
}
