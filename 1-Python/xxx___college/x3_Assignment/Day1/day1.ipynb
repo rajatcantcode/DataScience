{
 "cells": [
  {
   "cell_type": "code",
   "execution_count": 1,
   "metadata": {},
   "outputs": [
    {
     "name": "stdout",
     "output_type": "stream",
     "text": [
      "Your BMI is: 0.1\n"
     ]
    }
   ],
   "source": [
    "# Problem 1: BMI Calculation\n",
    "weight = float(input(\"Enter your weight in kg: \"))\n",
    "height = float(input(\"Enter your height in meters: \"))\n",
    "bmi = weight / (height ** 2)\n",
    "print(f\"Your BMI is: {bmi}\")"
   ]
  },
  {
   "cell_type": "code",
   "execution_count": null,
   "metadata": {},
   "outputs": [],
   "source": [
    "# Problem 2: Replace 'a' with 'b' in name\n",
    "name = input(\"Enter your name: \")\n",
    "\n",
    "newStr = \"\"\n",
    "for i in range(len(name)):\n",
    "    if name[i] == 'a':\n",
    "        newStr += 'b'\n",
    "    else:\n",
    "        newStr += name[i]\n",
    "print(f\"New name: {newStr}\")"
   ]
  },
  {
   "cell_type": "code",
   "execution_count": null,
   "metadata": {},
   "outputs": [],
   "source": [
    "# Problem 3: Total Amount Calculation\n",
    "principle = int(input(\"\"))\n",
    "interest_rate = float(input(\"\")) / 100\n",
    "amount_after_2_years = principle * (1 + interest_rate) ** 2\n",
    "print(f\"Total amount after 2 years: {amount_after_2_years}\")"
   ]
  },
  {
   "cell_type": "code",
   "execution_count": 2,
   "metadata": {},
   "outputs": [
    {
     "name": "stdout",
     "output_type": "stream",
     "text": [
      "City name in camel case: RajatSharama\n"
     ]
    }
   ],
   "source": [
    "# Problem 4: City Name in Camel Case\n",
    "name = input(\"Enter your city name: \")\n",
    "newStr = \"\"\n",
    "\n",
    "for i in range(len(name)):\n",
    "    if i == 0:\n",
    "        newStr += name[i].upper()\n",
    "    elif name[i] == ' ': # If space is found, then capitalize the next character\n",
    "        newStr += name[i + 1].upper()\n",
    "    else:\n",
    "        newStr += name[i]\n",
    "print(f\"City name in camel case: {newStr}\")"
   ]
  },
  {
   "cell_type": "code",
   "execution_count": 4,
   "metadata": {},
   "outputs": [
    {
     "name": "stdout",
     "output_type": "stream",
     "text": [
      "-1\n"
     ]
    }
   ],
   "source": [
    "# Problem 5: Find index of 'a' in name\n",
    "name = input(\"\")\n",
    "counter = 0 \n",
    "for i in range(len(name)):\n",
    "    if name[i] == \"a\":\n",
    "        print(i)\n",
    "        counter = 1\n",
    "        \n",
    "if counter == 0:\n",
    "    print(\"-1\")"
   ]
  },
  {
   "cell_type": "code",
   "execution_count": null,
   "metadata": {},
   "outputs": [],
   "source": [
    "# Problem 6: Count letters in word\n",
    "my_word = \"antidisestablishmentarianism\"\n",
    "letter_count = len(my_word)\n",
    "print(f\"Number of letters in the word: {letter_count}\")"
   ]
  },
  {
   "cell_type": "code",
   "execution_count": 5,
   "metadata": {},
   "outputs": [
    {
     "name": "stdout",
     "output_type": "stream",
     "text": [
      "My name is Rajat Sharma and I am 18 years old.\n"
     ]
    }
   ],
   "source": [
    "# Problem 7: Display user information\n",
    "first_name = input(\"Enter your first name: \").capitalize() # Capitalize the first letter\n",
    "last_name = input(\"Enter your last name: \").capitalize()\n",
    "age = input(\"Enter your age: \")\n",
    "print(f\"My name is {first_name} {last_name} and I am {age} years old.\")\n"
   ]
  },
  {
   "cell_type": "code",
   "execution_count": 6,
   "metadata": {},
   "outputs": [
    {
     "name": "stdout",
     "output_type": "stream",
     "text": [
      "Your email alias: rarma@hcl.com\n"
     ]
    }
   ],
   "source": [
    "# Problem 8: email alias\n",
    "first_name = input(\"Enter your first name: \").lower() # Convert to lowercase\n",
    "last_name = input(\"Enter your last name: \").lower()\n",
    "company_name = input(\"Enter your company name: \").lower()\n",
    "\n",
    "# First 2 letters of first name + last 3 letters of last name + @ + company name + .com\n",
    "email_alias = first_name[:2] + last_name[-3:] + \"@\" + company_name + \".com\"\n",
    "print(f\"Your email alias: {email_alias}\")"
   ]
  }
 ],
 "metadata": {
  "kernelspec": {
   "display_name": "Python 3",
   "language": "python",
   "name": "python3"
  },
  "language_info": {
   "codemirror_mode": {
    "name": "ipython",
    "version": 3
   },
   "file_extension": ".py",
   "mimetype": "text/x-python",
   "name": "python",
   "nbconvert_exporter": "python",
   "pygments_lexer": "ipython3",
   "version": "3.10.14"
  }
 },
 "nbformat": 4,
 "nbformat_minor": 2
}
