{
 "cells": [
  {
   "cell_type": "code",
   "execution_count": null,
   "metadata": {},
   "outputs": [],
   "source": [
    "# Problem 1: Display first name, last name, and age \n",
    "user_input = input(\"Enter your first name, last name, and age (** Make sure to be comma separated ** ): \")\n",
    "first_name, last_name, age = user_input.split(',')\n",
    "\n",
    "print(f\"First name is {first_name}\")\n",
    "print(f\"Last name is {last_name}\")\n",
    "print(f\"{first_name} is {age} years old\")"
   ]
  },
  {
   "cell_type": "code",
   "execution_count": null,
   "metadata": {},
   "outputs": [],
   "source": [
    "# Problem 2: Combine two lists without using extend method\n",
    "list1 = [1, 3, 4]\n",
    "list2 = [2, 4, 6]\n",
    "\n",
    "combined_list = list1 + list2\n",
    "print(f\"Combined list: {combined_list}\")"
   ]
  },
  {
   "cell_type": "code",
   "execution_count": 1,
   "metadata": {},
   "outputs": [
    {
     "name": "stdout",
     "output_type": "stream",
     "text": [
      "Odd position index values: 1\n",
      "Odd position index values: 3\n",
      "Odd position index values: 5\n",
      "Odd position index values: 7\n"
     ]
    }
   ],
   "source": [
    "# Problem 3: Display odd position index values from list1\n",
    "list1 = [1, 2, 3, 4, 5, 6, 7, 8]\n",
    "\n",
    "for i in range(len(list1)):\n",
    "    if i % 2 == 0:\n",
    "        print(f\"Odd position index values: {list1[i]}\")\n"
   ]
  },
  {
   "cell_type": "code",
   "execution_count": 3,
   "metadata": {},
   "outputs": [
    {
     "name": "stdout",
     "output_type": "stream",
     "text": [
      "['KKR', 'LSG', 'PBKS']\n"
     ]
    }
   ],
   "source": [
    "# Problem 4: Display elements from ipl list based on user input \n",
    "ipl = ['CSK', 'MI', 'KKR', 'LSG', 'PBKS']\n",
    "team_name = input(\"Enter IPL team name: \")\n",
    "\n",
    "\n",
    "index = -1\n",
    "list = []\n",
    "for i in range(len(ipl)):\n",
    "    if ipl[i] == team_name:\n",
    "        index = i\n",
    "    \n",
    "for i in range(index, len(ipl)):\n",
    "    list.append(ipl[i])\n",
    "    \n",
    "print(list)\n"
   ]
  },
  {
   "cell_type": "code",
   "execution_count": 6,
   "metadata": {},
   "outputs": [
    {
     "name": "stdout",
     "output_type": "stream",
     "text": [
      "['CSK', 'MI', 'LSG', 'PBKS']\n"
     ]
    }
   ],
   "source": [
    "# Problem 5: Display all elements except the input team\n",
    "ipl = ['CSK', 'MI', 'KKR', 'LSG', 'PBKS']\n",
    "team_name = input(\"Enter IPL team name: \")\n",
    "\n",
    "list = []\n",
    "for i in range(len(ipl)):\n",
    "    if ipl[i] != team_name:\n",
    "        list.append(ipl[i])\n",
    "    else:\n",
    "        continue\n",
    "print(list)"
   ]
  },
  {
   "cell_type": "code",
   "execution_count": 7,
   "metadata": {},
   "outputs": [
    {
     "name": "stdout",
     "output_type": "stream",
     "text": [
      "Updated: ['CSK', 'MI', 'rajat', 'LSG', 'PBKS']\n"
     ]
    }
   ],
   "source": [
    "# Problem 6: Replace the element at given index with new team\n",
    "ipl = ['CSK', 'MI', 'KKR', 'LSG', 'PBKS']\n",
    "user_input = input(\"Enter index and new team (** Make sure that they are comma separated** ): \")\n",
    "index, new_team = user_input.split(',')\n",
    "\n",
    "ipl[int(index)] = new_team\n",
    "print(\"Updated:\",ipl)"
   ]
  },
  {
   "cell_type": "code",
   "execution_count": 9,
   "metadata": {},
   "outputs": [
    {
     "name": "stdout",
     "output_type": "stream",
     "text": [
      "False\n"
     ]
    }
   ],
   "source": [
    "# Problem 7: Check if the team exists in the list\n",
    "ipl = ['CSK', 'MI', 'KKR', 'LSG', 'PBKS']\n",
    "team_name = input(\"Enter IPL team name: \")\n",
    "\n",
    "exists = False\n",
    "for i in range(len(ipl)):\n",
    "    if ipl[i] == team_name:\n",
    "        exists = True\n",
    "        break\n",
    "    else:\n",
    "        continue\n",
    "    \n",
    "print(exists)"
   ]
  },
  {
   "cell_type": "code",
   "execution_count": 12,
   "metadata": {},
   "outputs": [
    {
     "name": "stdout",
     "output_type": "stream",
     "text": [
      "Old list: ['CSK', 'MI', 'KKR', 'LSG', 'PBKS'] and length 5\n",
      "New list: ['CSK', 'MI', 'Rajat', 'KKR', 'LSG', 'PBKS'] and length 6\n"
     ]
    }
   ],
   "source": [
    "# Problem 8: Add new team at the given index and display old and new lists\n",
    "ipl = ['CSK', 'MI', 'KKR', 'LSG', 'PBKS']\n",
    "user_input = input(\"Enter index and new team (comma separated): \")\n",
    "index, new_team = user_input.split(',')\n",
    "\n",
    "old_list = ipl[:] # Copy the list\n",
    "\n",
    "for i in range(len(ipl)):\n",
    "    if i == int(index):\n",
    "        # Note : We don't need to replace the element instead we need to insert a new team\n",
    "        ipl.insert(int(index), new_team)\n",
    "        break\n",
    "    else:\n",
    "        continue\n",
    "\n",
    "print(f\"Old list: {old_list} and length {len(old_list)}\")\n",
    "print(f\"New list: {ipl} and length {len(ipl)}\")\n"
   ]
  }
 ],
 "metadata": {
  "kernelspec": {
   "display_name": "Python 3",
   "language": "python",
   "name": "python3"
  },
  "language_info": {
   "codemirror_mode": {
    "name": "ipython",
    "version": 3
   },
   "file_extension": ".py",
   "mimetype": "text/x-python",
   "name": "python",
   "nbconvert_exporter": "python",
   "pygments_lexer": "ipython3",
   "version": "3.10.14"
  }
 },
 "nbformat": 4,
 "nbformat_minor": 2
}
