{
 "cells": [
  {
   "cell_type": "code",
   "execution_count": null,
   "metadata": {},
   "outputs": [],
   "source": [
    "# Problem 1: Display first name, last name, and age \n",
    "user_input = input(\"Enter your first name, last name, and age (** Make sure to be comma separated ** ): \")\n",
    "first_name, last_name, age = user_input.split(',')\n",
    "\n",
    "print(f\"First name is {first_name}\")\n",
    "print(f\"Last name is {last_name}\")\n",
    "print(f\"{first_name} is {age} years old\")"
   ]
  },
  {
   "cell_type": "code",
   "execution_count": null,
   "metadata": {},
   "outputs": [],
   "source": [
    "# Problem 2: Combine two lists without using extend method\n",
    "list1 = [1, 3, 4]\n",
    "list2 = [2, 4, 6]\n",
    "\n",
    "combined_list = list1 + list2\n",
    "print(f\"Combined list: {combined_list}\")"
   ]
  },
  {
   "cell_type": "code",
   "execution_count": 1,
   "metadata": {},
   "outputs": [
    {
     "name": "stdout",
     "output_type": "stream",
     "text": [
      "Odd position index values: 1\n",
      "Odd position index values: 3\n",
      "Odd position index values: 5\n",
      "Odd position index values: 7\n"
     ]
    }
   ],
   "source": [
    "# Problem 3: Display odd position index values from list1\n",
    "list1 = [1, 2, 3, 4, 5, 6, 7, 8]\n",
    "\n",
    "for i in range(len(list1)):\n",
    "    if i % 2 == 0:\n",
    "        print(f\"Odd position index values: {list1[i]}\")\n",
    "\n",
    "\n"
   ]
  }
 ],
 "metadata": {
  "kernelspec": {
   "display_name": "Python 3",
   "language": "python",
   "name": "python3"
  },
  "language_info": {
   "codemirror_mode": {
    "name": "ipython",
    "version": 3
   },
   "file_extension": ".py",
   "mimetype": "text/x-python",
   "name": "python",
   "nbconvert_exporter": "python",
   "pygments_lexer": "ipython3",
   "version": "3.10.14"
  }
 },
 "nbformat": 4,
 "nbformat_minor": 2
}
